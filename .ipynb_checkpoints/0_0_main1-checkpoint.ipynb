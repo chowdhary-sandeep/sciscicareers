{
 "cells": [
  {
   "cell_type": "code",
   "execution_count": 1,
   "id": "0d4fad24-7943-4e16-937a-8fb69a151439",
   "metadata": {},
   "outputs": [],
   "source": [
    "import pickle\n",
    "import numpy as np\n",
    "from multiprocessing import Pool\n",
    "import requests, json\n",
    "import pandas as pd\n",
    "import glob\n",
    "import timeit\n",
    "import time\n",
    "from multiprocessing import Pool\n",
    "import numpy as np\n",
    "def toc(start_time):\n",
    "    elapsed = timeit.default_timer() - start_time\n",
    "    print(elapsed)\n",
    "from zipfile import ZipFile\n",
    "import re\n",
    "import xmlschema\n",
    "from pprint import pprint\n",
    "import glob\n",
    "# importing element tree\n",
    "import lxml.etree as etree\n",
    "import pickle\n",
    "from matplotlib import pyplot as plt\n",
    "%matplotlib inline\n",
    "plt.rcParams.update({'font.size': 8, 'font.style': 'normal', 'font.family':'serif'})\n",
    "%config InlineBackend.figure_format = 'svg'\n",
    "\n",
    "def simpleaxis(ax):\n",
    "    ax.spines['top'].set_visible(False)\n",
    "    ax.spines['right'].set_visible(False)\n",
    "    ax.get_xaxis().tick_bottom()\n",
    "    ax.get_yaxis().tick_left()\n",
    "    plt.xticks(fontsize=ff-4)\n",
    "    plt.yticks(fontsize=ff-4)\n",
    "\n"
   ]
  },
  {
   "cell_type": "code",
   "execution_count": 2,
   "id": "949f8c52-ca6a-49f5-b76d-9b54b6fbc25f",
   "metadata": {},
   "outputs": [],
   "source": [
    "# import os\n",
    "# os.getcwd()\n",
    "path_data=\"/mnt/sdb1/sandeep/\"\n",
    "path_career=path_data"
   ]
  },
  {
   "cell_type": "markdown",
   "id": "815bb492-2338-4168-b1dd-05e4b37faefd",
   "metadata": {},
   "source": [
    "# Loading paper-author data"
   ]
  },
  {
   "cell_type": "code",
   "execution_count": 3,
   "id": "eacfd020-ac71-49a6-9762-62deec1ba732",
   "metadata": {},
   "outputs": [
    {
     "name": "stdout",
     "output_type": "stream",
     "text": [
      "117.62292336300015\n",
      "None\n"
     ]
    }
   ],
   "source": [
    "# # # \n",
    "start_time = timeit.default_timer()\n",
    "# names=path_data+'openalex_ACTIV/pap_auth_wc20/*'\n",
    "names=path_data+'openalex_ACTIV/papersauthorsnopreprintfiltered/*'\n",
    "\n",
    "files=sorted(glob.glob(names))\n",
    "\n",
    "p=Pool(processes=15)\n",
    "df_new_by_papers = pd.concat(p.map(pd.read_csv,files),ignore_index=True)\n",
    "print(toc(start_time))\n",
    "p.close()\n"
   ]
  },
  {
   "cell_type": "code",
   "execution_count": null,
   "id": "db8ddcda-7f41-4456-a396-e4fc8f7deead",
   "metadata": {},
   "outputs": [],
   "source": [
    "df_new_by_papers=df_new_by_papers[['auth_id','paper_id']]\n",
    "# df_new_by_papers = df_new_by_papers.drop_duplicates()\n",
    "df_new_by_papers.columns=['a','b']\n",
    "print(1)"
   ]
  },
  {
   "cell_type": "code",
   "execution_count": null,
   "id": "3e5db219-d4df-4311-8199-a47786888d82",
   "metadata": {},
   "outputs": [],
   "source": [
    "# df_new_by_papers['paper_id']=[x[3] for x in list(df_new_by_papers['paper_id'].str.split('/'))]"
   ]
  },
  {
   "cell_type": "code",
   "execution_count": null,
   "id": "6159458a-54cb-45cc-ac2f-34588b0c8430",
   "metadata": {},
   "outputs": [],
   "source": [
    "\n",
    "# df['auth_id']=[x[3] for x in list(df['auth_id'].str.split('/'))]\n",
    "# # df['id']=[x[3] for x in list(df['id'].str.split('/'))]\n"
   ]
  },
  {
   "cell_type": "code",
   "execution_count": null,
   "id": "96394047-14b9-4f52-846d-f66037a14a27",
   "metadata": {},
   "outputs": [],
   "source": [
    "# df.groupby(['paper_id','auth_id'])['id'].apply(list)"
   ]
  },
  {
   "cell_type": "code",
   "execution_count": 4,
   "id": "a7392f93-077c-45c5-b35a-f0a757d2accb",
   "metadata": {},
   "outputs": [
    {
     "name": "stdout",
     "output_type": "stream",
     "text": [
      "1\n"
     ]
    }
   ],
   "source": []
  },
  {
   "cell_type": "code",
   "execution_count": null,
   "id": "3e09828d-98c7-4fc3-a324-fad09d2ac2ea",
   "metadata": {},
   "outputs": [],
   "source": [
    "# XX=df_new_by_papers.groupby(['b']).count()\n",
    "# print(2)\n",
    "# # selecting papers with less than = 10 authors\n",
    "# selcted_b=XX[XX['a']<10]\n",
    "# df_new_by_papers=df_new_by_papers.loc[df_new_by_papers['b'].isin(np.array(selcted_b.index))]\n",
    "# df_new_by_papers=df_new_by_papers.sort_values(['b'])\n",
    "# print(3)\n",
    "# # selecting authors with less than 1000 papers \n",
    "# #and atleast 10 papers\n",
    "# YY=df_new_by_papers.groupby(['a']).count()\n",
    "# selcted_b=YY[YY['b']<500]\n",
    "# selcted_b=selcted_b[selcted_b['b']>=20]\n",
    "# df_new_by_papers=df_new_by_papers.loc[df_new_by_papers['a'].isin(np.array(selcted_b.index))]\n",
    "# print(4)\n",
    "# # df_new_by_papers=df_new_by_papers.sort_values(['b'])"
   ]
  },
  {
   "cell_type": "code",
   "execution_count": null,
   "id": "31328b95-2dd0-4fa0-996e-b915e112ef7f",
   "metadata": {},
   "outputs": [],
   "source": [
    "# df_new_by_papers"
   ]
  },
  {
   "cell_type": "code",
   "execution_count": null,
   "id": "d2ce3e87-1edb-4f1a-b903-2d6a18d3ab15",
   "metadata": {},
   "outputs": [],
   "source": [
    "# path_career='/mnt/sdb1/sandeep/openalex_ACTIV/'\n",
    "# import pickle\n",
    "# with open(path_career+'df_new_by_papers.pkl', 'wb') as f:\n",
    "#     pickle.dump(df_new_by_papers, f)   "
   ]
  },
  {
   "cell_type": "markdown",
   "id": "c0984533-8a52-4458-bd40-0441fe48e6cb",
   "metadata": {},
   "source": [
    "# Make igraph\n",
    "calculate the possible papers each author could have participated in theoretically"
   ]
  },
  {
   "cell_type": "code",
   "execution_count": null,
   "id": "72980a21-aa85-4dcb-9e53-c1d61b7d24e2",
   "metadata": {},
   "outputs": [],
   "source": [
    "# el=df_new_by_papers[['a','b']].values\n",
    "# # el_new=[]\n",
    "# # for x in el:\n",
    "# #     el_new.append([x[0],x[1]])\n",
    "# uni_nodes=np.unique(el.flatten())\n",
    "\n",
    "# dict_auth_shortened={uni_nodes[it]:it for it in range(len(uni_nodes))}\n",
    "# el_new_new=np.vectorize(dict_auth_shortened.get)(el)\n",
    "# el_new3=[]\n",
    "# for x in el_new_new:\n",
    "#     el_new3.append(tuple(x))\n"
   ]
  },
  {
   "cell_type": "code",
   "execution_count": null,
   "id": "8e9bf4f9-d03f-40e5-a615-e55cccad51be",
   "metadata": {},
   "outputs": [],
   "source": [
    "# path_career='/mnt/sdb1/sandeep/openalex_ACTIV/'\n",
    "# import pickle\n",
    "# with open(path_career+'el.pkl', 'wb') as f:\n",
    "#     pickle.dump(el, f)   \n",
    "# with open(path_career+'el_new_new.pkl', 'wb') as f:\n",
    "#     pickle.dump(el_new_new, f)  \n",
    "# with open(path_career+'dict_auth_shortened.pkl', 'wb') as f:\n",
    "#     pickle.dump(dict_auth_shortened, f)  \n"
   ]
  },
  {
   "cell_type": "code",
   "execution_count": null,
   "id": "425bcb6c-83c1-4eb7-a453-6111252604cc",
   "metadata": {},
   "outputs": [],
   "source": [
    "# auth_inv_map={dict_auth_shortened[key]:key for key in dict_auth_shortened.keys()}\n",
    "# path_career='/mnt/sdb1/sandeep/openalex_ACTIV/'\n",
    "\n",
    "# with open(path_career+'auth_inv_map_alex.pkl', 'wb') as f:\n",
    "#     pickle.dump(auth_inv_map, f)    \n"
   ]
  },
  {
   "cell_type": "code",
   "execution_count": null,
   "id": "65a20d78-37c5-4efb-a580-50faa8559568",
   "metadata": {},
   "outputs": [],
   "source": []
  },
  {
   "cell_type": "code",
   "execution_count": null,
   "id": "603fcc9f-8a6c-48bf-908c-92f59fc7cd8e",
   "metadata": {},
   "outputs": [],
   "source": []
  },
  {
   "cell_type": "code",
   "execution_count": null,
   "id": "2101f9bc-590f-4132-8dac-27c9ea11760d",
   "metadata": {},
   "outputs": [],
   "source": []
  },
  {
   "cell_type": "code",
   "execution_count": null,
   "id": "a9ee0c1e-c803-4865-8fe9-4f66cb3da750",
   "metadata": {},
   "outputs": [],
   "source": [
    "\n"
   ]
  },
  {
   "cell_type": "code",
   "execution_count": null,
   "id": "076f61db-7976-49d3-95bb-9fbcc6475f04",
   "metadata": {},
   "outputs": [],
   "source": [
    "# import igraph as ig\n",
    "# g = ig.Graph()\n",
    "# g.add_vertices(len(uni_nodes))\n",
    "# g.add_edges(el_new3)"
   ]
  },
  {
   "cell_type": "code",
   "execution_count": null,
   "id": "2cffd1ad-9083-4dae-b1ef-e1c57ef06c62",
   "metadata": {},
   "outputs": [],
   "source": [
    "# with open(path_career+'g.pkl', 'wb') as f:\n",
    "#     pickle.dump(g, f)  "
   ]
  },
  {
   "cell_type": "code",
   "execution_count": null,
   "id": "c2d05aee-156d-405a-9e81-b6dfc3bc6f82",
   "metadata": {},
   "outputs": [],
   "source": []
  },
  {
   "cell_type": "code",
   "execution_count": null,
   "id": "cf3419ce-621a-4239-9745-c89bc88876e1",
   "metadata": {},
   "outputs": [],
   "source": []
  },
  {
   "cell_type": "code",
   "execution_count": null,
   "id": "8fb7b5fd-5982-4190-8a89-a45f5670f607",
   "metadata": {},
   "outputs": [],
   "source": [
    "# path_career='/mnt/sdb1/sandeep/openalex_ACTIV/'\n",
    "# with open(path_career+'dict_auth_shortened.pkl', 'rb') as f:\n",
    "#     dict_auth_shortened=pickle.load(f) \n",
    "# # with open(path_career+'auth_inv_map_alex.pkl', 'rb') as f:\n",
    "# #     auth_inv_map=pickle.load(f) \n",
    "# with open(path_career+'g.pkl', 'rb') as f:\n",
    "#     g=pickle.load(f) \n",
    "    "
   ]
  },
  {
   "cell_type": "code",
   "execution_count": null,
   "id": "191f703d-3efe-4aa9-9827-99e9050d56b9",
   "metadata": {},
   "outputs": [],
   "source": [
    "# df_new_by_papers.shape\n",
    "\n",
    "# dict_auth_to_paper=df_new_by_papers.groupby('a')['b'].apply(list).to_dict()\n",
    "\n",
    "# with open(path_career+'dict_auth_to_paper.pkl', 'wb') as f:\n",
    "#     pickle.dump(dict_auth_to_paper, f) "
   ]
  },
  {
   "cell_type": "code",
   "execution_count": null,
   "id": "73f8228b-d4b9-4e61-bac1-4eb2bc1711da",
   "metadata": {},
   "outputs": [],
   "source": [
    "# path_career='/mnt/sdb1/sandeep/openalex_ACTIV/'\n",
    "# with open(path_career+'dict_auth_to_paper.pkl', 'wb') as f:\n",
    "#     pickle.dump(dict_auth_to_paper, f) "
   ]
  },
  {
   "cell_type": "code",
   "execution_count": null,
   "id": "3af868ff-9ca7-4dcc-b20d-36ecee93b622",
   "metadata": {},
   "outputs": [],
   "source": [
    "# dict_paper_to_auth=df_new_by_papers.groupby('b')['a'].apply(list).to_dict()\n",
    "# with open(path_career+'dict_paper_to_auth.pkl', 'wb') as f:\n",
    "#     pickle.dump(dict_paper_to_auth, f) "
   ]
  },
  {
   "cell_type": "code",
   "execution_count": null,
   "id": "2fa9bcab-91c2-47d6-bdf3-6d4bda7ad2fe",
   "metadata": {},
   "outputs": [],
   "source": []
  },
  {
   "cell_type": "markdown",
   "id": "3cffa2d7-ef34-4675-93f6-d9f6716a8370",
   "metadata": {},
   "source": [
    "## CREATE DICTIONARY WITH JUST COUNTS OF PAPERS AT distance 3\n"
   ]
  },
  {
   "cell_type": "code",
   "execution_count": null,
   "id": "1ef7dfa6-395e-4404-93d2-1df01d6373fa",
   "metadata": {},
   "outputs": [],
   "source": [
    "# uni_auths=np.unique(np.array(df_new_by_papers['a']))\n",
    "# uni_pap=np.unique(np.array(df_new_by_papers['b']))\n",
    "# # SET_uni_auths=set(uni_auths)\n",
    "# dict_auth_ss={uni_auths[it]:it for it in range(len(uni_auths))}\n",
    "# dict_papers_ss={uni_pap[it]:it for it in range(len(uni_pap))}\n"
   ]
  },
  {
   "cell_type": "code",
   "execution_count": null,
   "id": "57ea1bc1-6809-4804-8e2f-f0fb8084992d",
   "metadata": {},
   "outputs": [],
   "source": [
    "# auth='https://openalex.org/A2074114040'\n",
    "# auth='https://openalex.org/A4357541836'\n",
    "# auth=dict_auth_shortened[auth]\n",
    "# len(set(g.neighborhood(auth,order=3,mindist=3)+g.neighborhood(auth,order=1,mindist=1)))\n"
   ]
  },
  {
   "cell_type": "code",
   "execution_count": null,
   "id": "17155a8c-9c18-436d-89ff-79a138c23c6c",
   "metadata": {},
   "outputs": [],
   "source": [
    "# import time\n",
    "\n",
    "# def get_N_order_3and5(auth,g):\n",
    "# #     a=g.neighborhood(auth,order=5,mindist=5)\n",
    "#     b=g.neighborhood(auth,order=3,mindist=3)\n",
    "#     c=g.neighborhood(auth,order=1,mindist=1)\n",
    "    \n",
    "#     return len(set(b+c))\n",
    "# #     return len(set(b))\n",
    "# #     return len((c))\n",
    "\n",
    "\n",
    "# t_ic = time.time();\n",
    "# dict_auth_N_ord5={}\n",
    "# dict_auth_N_ord3={}\n",
    "# it=0\n",
    "# for auth in uni_auths:\n",
    "    \n",
    "#     x3=get_N_order_3and5(dict_auth_shortened[auth],g);\n",
    "#     dict_auth_N_ord3[auth]=x3\n",
    "# #     dict_auth_N_ord5[auth]=x5\n",
    "\n",
    "#     it=it+1\n",
    "#     if it%100==0:\n",
    "#         t_oc = time.time();\n",
    "#         frac=it/len(uni_auths)\n",
    "#         prog=str(frac)+str(round(t_oc-t_ic,2))+', time estimate: '+str(round((t_oc-t_ic)/frac/3600,2))\n",
    "#         print(prog,end='\\r')\n",
    "#         with open(path_career+'0000_track_dict_auth_N_ord3.txt', 'a') as file_object:\n",
    "#             file_object.write(prog+'\\n')\n",
    "\n",
    "        "
   ]
  },
  {
   "cell_type": "code",
   "execution_count": null,
   "id": "ca7cc33e-2847-4724-a275-d2743797101e",
   "metadata": {},
   "outputs": [],
   "source": [
    "\n"
   ]
  },
  {
   "cell_type": "code",
   "execution_count": null,
   "id": "812c86e0-cafc-41bb-aee3-0e4b73c4a16c",
   "metadata": {},
   "outputs": [],
   "source": []
  },
  {
   "cell_type": "code",
   "execution_count": null,
   "id": "77cd1382-46c3-499e-bc8a-c602209c674b",
   "metadata": {},
   "outputs": [],
   "source": []
  },
  {
   "cell_type": "code",
   "execution_count": null,
   "id": "d5e4aece-fc2f-472c-9dde-94a73e350296",
   "metadata": {},
   "outputs": [],
   "source": [
    "# path_career='/mnt/sdb1/sandeep/openalex_ACTIV/'\n",
    "# with open(path_career+\"0_track_open_alex1.txt\", \"a\") as file_object:\n",
    "#     file_object.write('\\n --- WRITING TO PICKLE---\\n')\n",
    "# import pickle\n",
    "# with open(path_career+'dict_auth_N_ord3_alex.pkl', 'wb') as f:\n",
    "#     pickle.dump(dict_auth_N_ord3, f)    \n",
    "\n",
    "# with open(path_career+\"0_track_open_alex1.txt\", \"a\") as file_object:\n",
    "#     file_object.write('\\n --- DONE ---WRITING TO PICKLE---\\n')\n",
    "        \n",
    "# # with open(path_career+'dict_auth_papers_order_5.pkl', 'rb') as f:\n",
    "# #     dict_auth_papers_order_5=pickle.load(f)    \n",
    "\n",
    "    "
   ]
  },
  {
   "cell_type": "code",
   "execution_count": 8,
   "id": "fd7e0469-4ca6-43c4-a84c-e365da7c28f5",
   "metadata": {},
   "outputs": [],
   "source": [
    "path_career='/mnt/sdb1/sandeep/openalex_ACTIV/'\n",
    "# with open(path_career+'dict_auth_N_ord3.pkl', 'rb') as f:\n",
    "#     dict_auth_N_ord3=pickle.load(f)"
   ]
  },
  {
   "cell_type": "code",
   "execution_count": 12,
   "id": "0016c434-57ef-46fb-9de6-b1e43e852ace",
   "metadata": {},
   "outputs": [],
   "source": [
    "path_career='/mnt/sdb1/sandeep/openalex_ACTIV/'\n",
    "df_ord3=pd.read_csv(path_career+'2auth_ord3_papercount.csv') \n",
    "dict_auth_N_ord3=df_ord3.set_index('aid1')['f0_'].T.to_dict()\n"
   ]
  },
  {
   "cell_type": "code",
   "execution_count": null,
   "id": "dd446f2a-2b87-4c2c-acf5-9b89281ec899",
   "metadata": {},
   "outputs": [],
   "source": []
  },
  {
   "cell_type": "code",
   "execution_count": 15,
   "id": "a0246e2c-211c-4800-92a0-de49345b5035",
   "metadata": {},
   "outputs": [],
   "source": []
  },
  {
   "cell_type": "code",
   "execution_count": null,
   "id": "2e441d41-7a35-4190-bf30-f378623e7a6e",
   "metadata": {},
   "outputs": [],
   "source": [
    "# with open(path_career+'dict_auth_N_ord3.pkl', 'rb') as f:\n",
    "#     dict_auth_N_ord3=pickle.load(f)"
   ]
  },
  {
   "cell_type": "markdown",
   "id": "f2bf0b39-e823-4db2-a607-c9cd3995a555",
   "metadata": {},
   "source": [
    "# Run svs"
   ]
  },
  {
   "cell_type": "code",
   "execution_count": null,
   "id": "654ce20e-409d-41ec-a140-8c679490c75c",
   "metadata": {},
   "outputs": [],
   "source": [
    "start_time = timeit.default_timer()\n",
    "from svs2 import *\n",
    "all_cores3=get_svs(df_new_by_papers[['a','b']],dict_auth_N_ord3,min_order=2,max_order=10,approximate=True)\n",
    "# all_cores5=get_svs(df_new_by_papers[['a','b']],dict_auth_N_ord5,min_order=2,max_order=0,approximate=True)\n",
    "print('Time elasped=',toc(start_time))    \n",
    "        "
   ]
  },
  {
   "cell_type": "code",
   "execution_count": null,
   "id": "b64b6ec3-984d-448a-be6a-61d00341363b",
   "metadata": {},
   "outputs": [],
   "source": [
    "with open(\"/mnt/sdb1/sandeep/Career Transitions/0_track_open_alex1.txt\", \"a\") as file_object:\n",
    "    file_object.write('\\n --- DONE ---svs ---\\n')\n",
    "        "
   ]
  },
  {
   "cell_type": "code",
   "execution_count": null,
   "id": "5cf7d46b-eba0-40d6-9f42-367b817dec7a",
   "metadata": {},
   "outputs": [],
   "source": [
    "# path_career='/mnt/sdb1/sandeep/openalex_ACTIV/'\n",
    "# with open(\"/mnt/sdb1/sandeep/Career Transitions/0_track_open_alex1.txt\", \"a\") as file_object:\n",
    "#     file_object.write('\\n --- WRITING TO PICKLE---\\n')\n",
    "\n",
    "# with open(path_career+'all_cores3_alex.pkl', 'wb') as f:\n",
    "#     pickle.dump(all_cores3, f)  \n",
    "    \n",
    "# # with open(path_career+'all_cores5.pkl', 'wb') as f:\n",
    "# #     pickle.dump(all_cores5, f)  \n",
    "\n",
    "# with open(\"/mnt/sdb1/sandeep/Career Transitions/0_track_open_alex1.txt\", \"a\") as file_object:\n",
    "#     file_object.write('\\n --- DONE ---WRITING TO PICKLE---\\n')"
   ]
  },
  {
   "cell_type": "markdown",
   "id": "c4ee0ed7-7142-4416-a7b9-2fd5cd1ef18f",
   "metadata": {},
   "source": [
    "# Load all_cores3"
   ]
  },
  {
   "cell_type": "code",
   "execution_count": null,
   "id": "b06eec6e-de1c-4fb1-a516-311d03a7594d",
   "metadata": {},
   "outputs": [],
   "source": [
    "significant_cores3=all_cores3.query('fdr')\n",
    "#Using variable\n",
    "value=False\n",
    "nonsignificant_cores3=all_cores3.query('fdr== @value')"
   ]
  },
  {
   "cell_type": "code",
   "execution_count": null,
   "id": "7a4dd3a8-7047-4a08-b6c9-f82359c21f53",
   "metadata": {},
   "outputs": [],
   "source": []
  },
  {
   "cell_type": "code",
   "execution_count": null,
   "id": "cfa1c492-af0d-4946-847f-b4fd6e065210",
   "metadata": {},
   "outputs": [],
   "source": []
  },
  {
   "cell_type": "markdown",
   "id": "5b311686-3771-4e91-b09d-1cc328355142",
   "metadata": {},
   "source": [
    "## Papers_shared: Validated vs Non-Validated"
   ]
  },
  {
   "cell_type": "code",
   "execution_count": null,
   "id": "56d671d8-e805-4115-b532-a9c65b71ff4b",
   "metadata": {},
   "outputs": [],
   "source": [
    "# with open(path_career+'df_new_by_papers.pkl', 'rb') as f:\n",
    "#     df_new_by_papers=pickle.load(f) \n",
    "# dict_auth_to_paper=df_new_by_papers.groupby('a')['b'].apply(list).to_dict()\n",
    "# with open(path_career+'dict_auth_to_paper.pkl', 'wb') as f:\n",
    "#     pickle.dump(dict_auth_to_paper, f)  \n",
    "\n"
   ]
  },
  {
   "cell_type": "code",
   "execution_count": null,
   "id": "37deace0-a33c-4a8b-a88d-80ca61ca565e",
   "metadata": {},
   "outputs": [],
   "source": [
    "\n",
    "with open(path_career+'dict_auth_to_paper.pkl', 'rb') as f:\n",
    "    dict_auth_to_paper=pickle.load(f) \n",
    "for gsize in range(2,8):\n",
    "    t_ic = time.time();\n",
    "    path_career='/mnt/sdb1/sandeep/openalex_ACTIV/'\n",
    "    \n",
    "    print(gsize)\n",
    "    papers_shared=[]\n",
    "    ind_papers_shared=[0]\n",
    "    ind_=0\n",
    "    it=0\n",
    "\n",
    "    for group in significant_cores3[gsize]['group']:\n",
    "        x=[]\n",
    "        for auth in group:\n",
    "            x.append(dict_auth_to_paper[auth])\n",
    "            y=x[0]\n",
    "            for it1 in range(1,len(x)-1):\n",
    "                y=set(y) & set(x[it1])\n",
    "        papers_shared.append(y)\n",
    "        ind_=ind_+len(y)\n",
    "        \n",
    "        it=it+1\n",
    "        if it%100==0:\n",
    "            t_oc = time.time();\n",
    "            frac=(it/len(significant_cores3[gsize]['group']))\n",
    "            prog=str(frac)+str(round(t_oc-t_ic,2))+', time estimate: '+str(round((t_oc-t_ic)/frac/3600,2))\n",
    "            print(prog,end='\\r')\n",
    "\n",
    "            \n",
    "    A=np.concatenate(papers_shared)\n",
    "    B=[len(x) for x in papers_shared]\n",
    "    C=np.cumsum(B)\n",
    "    C=np.insert(C,0,0)\n",
    "    with open(path_career+'significant_cores(papers_shared)'+str(gsize)+'.pkl', 'wb') as f:\n",
    "        pickle.dump(A, f)  \n",
    "    with open(path_career+'significant_cores(papers_shared)'+str(gsize)+'_ind.pkl', 'wb') as f:\n",
    "        pickle.dump(C, f)  \n",
    "        \n"
   ]
  },
  {
   "cell_type": "code",
   "execution_count": null,
   "id": "0c647965-940a-450e-ab16-df375de537a7",
   "metadata": {},
   "outputs": [],
   "source": []
  },
  {
   "cell_type": "code",
   "execution_count": null,
   "id": "b2093fdf-70e3-4bc7-a4a3-f353342e61a5",
   "metadata": {},
   "outputs": [],
   "source": []
  },
  {
   "cell_type": "code",
   "execution_count": null,
   "id": "bcd30bd9-86b0-4a05-a880-a9e89046e9a8",
   "metadata": {},
   "outputs": [],
   "source": []
  },
  {
   "cell_type": "markdown",
   "id": "25ee7f46-acda-4560-896b-4da991924ad0",
   "metadata": {},
   "source": [
    "### distrbution 'w' : valid vs non-valid"
   ]
  },
  {
   "cell_type": "code",
   "execution_count": null,
   "id": "d101ad98-0b2d-4dcd-a44a-1f5d379cf279",
   "metadata": {},
   "outputs": [],
   "source": [
    "\n",
    "w3=np.array(significant_cores3['w'])\n",
    "w3non=np.array(nonsignificant_cores3['w'])\n",
    "gs3=np.array([len(x) for x in np.array(significant_cores3['group'])])\n",
    "gs3non=np.array([len(x) for x in np.array(nonsignificant_cores3['group'])])\n"
   ]
  },
  {
   "cell_type": "code",
   "execution_count": null,
   "id": "8bdbe8ff-5afe-4b91-be17-d61f36a553bc",
   "metadata": {},
   "outputs": [],
   "source": [
    "from matplotlib import pyplot as plt\n",
    "\n",
    "%matplotlib inline\n",
    "# %config InlineBackend.figure_format = 'svg'\n",
    "plt.rcParams.update({'font.size': 8, 'font.style': 'normal', 'font.family':'serif'})\n",
    "%config InlineBackend.figure_format = 'svg'\n",
    "\n",
    "fig = plt.figure(0,figsize=(9, 4.5));\n",
    "for gs in range(2,10):\n",
    "    ind_selct3=np.where(gs3==gs);\n",
    "    ind_selct3non=np.where(gs3non==gs);\n",
    "\n",
    "\n",
    "\n",
    "    ax = fig.add_subplot(2, 4, gs-1);\n",
    "    \n",
    "    #     bins_=(max(store_transition1)-min(store_transition1))+1\n",
    "\n",
    "    ax.hist(w3[ind_selct3],bins=30,color='red',density=False,alpha=0.5,label='Validated cores');\n",
    "    ax.hist(w3non[ind_selct3non],bins=30,color='blue',density=False,alpha=0.5,label='Non-validated cores');\n",
    "    ax.set_yscale('log');\n",
    "    ff=10\n",
    "    # ax.set_xscale('log',base=2);\n",
    "    ax.set_xlim([-10,500])\n",
    "    ax.set_xticks([0,100,200,300,400])\n",
    "    ax.set_xticklabels(ax.get_xticks(), rotation = 45)\n",
    "    if gs==2 or gs==6:\n",
    "        ax.set_ylabel('Frequency (w)',fontsize=ff)\n",
    "    ax.set_title('groupsize='+str(gs),fontsize=ff)\n",
    "    if gs>5:\n",
    "        ax.set_xlabel('# shared papers, w',fontsize=ff);\n",
    "    ax.tick_params(axis='both', which='major', labelsize=8)\n",
    "    \n",
    "ax.legend(fontsize=ff-2,bbox_to_anchor=(.1,0.5))\n",
    "plt.tight_layout()"
   ]
  },
  {
   "cell_type": "code",
   "execution_count": null,
   "id": "27485b59-5b3c-49c3-8fb5-54337bf51be2",
   "metadata": {},
   "outputs": [],
   "source": []
  },
  {
   "cell_type": "markdown",
   "id": "8b7cdbbd-d135-48ea-a8cc-f2cb13dcbdf4",
   "metadata": {},
   "source": [
    "### percentile shared papers > 10 "
   ]
  },
  {
   "cell_type": "code",
   "execution_count": null,
   "id": "c96b8609-2b16-4aa4-95aa-0227d807501f",
   "metadata": {},
   "outputs": [],
   "source": [
    "\n",
    "# w3=np.array(significant_cores3['w'])\n",
    "# w3non=np.array(nonsignificant_cores3['w'])\n",
    "# gs3=np.array([len(x) for x in np.array(significant_cores3['group'])])\n",
    "# gs3non=np.array([len(x) for x in np.array(nonsignificant_cores3['group'])])\n",
    "\n",
    "# percentile5=[]\n",
    "# percentile10=[]\n",
    "# percentile15=[]\n",
    "# for gs in range(2,10):\n",
    "#     percentile5.append(len(np.where(((gs3==gs) & (w3>=5)))[0])/len(np.where((gs3==gs))[0] ))\n",
    "#     percentile10.append(len(np.where(((gs3==gs) & (w3>=10)))[0])/len(np.where((gs3==gs))[0] ))\n",
    "#     percentile15.append(len(np.where(((gs3==gs) & (w3>=15)))[0])/len(np.where((gs3==gs))[0] ))\n",
    "\n",
    "# #     ind_selct3non=np.where((gs3non==gs) and ());\n",
    "# #     w3non[ind_selct3non]\n"
   ]
  },
  {
   "cell_type": "code",
   "execution_count": null,
   "id": "a31f0160-97d8-4f38-866f-ac1ec6519dfe",
   "metadata": {},
   "outputs": [],
   "source": [
    "fig = plt.figure(0,figsize=(4, 2.5));\n",
    "ax = fig.add_subplot(1, 1, 1);\n",
    "ax.bar(np.array(range(2,10))-.2,percentile5,label='$n_{papers}^{filter} \\geq$ 5',alpha=.5,width=.2);\n",
    "ax.bar(np.array(range(2,10)),percentile10,label='$n_{papers}^{filter} \\geq$ 10',alpha=.5,width=.2);\n",
    "ax.bar(np.array(range(2,10))+.2,percentile15,label='$n_{papers}^{filter} \\geq$ 15',alpha=.5,width=.2);\n",
    "ff=10\n",
    "# ax.set_xscale('log',base=2);\n",
    "# ax.set_xlim([-10,500])\n",
    "ax.set_xticks(range(2,10))\n",
    "# ax.set_xticklabels(ax.get_xticks(), rotation = 45)\n",
    "\n",
    "ax.set_title('percentile of validated cores after filter',fontsize=ff)\n",
    "ax.set_xlabel('core size',fontsize=ff)\n",
    "# ax.set_xlabel('# shared papers, w',fontsize=ff);\n",
    "ax.tick_params(axis='both', which='major', labelsize=8)\n",
    "\n",
    "ax.legend(fontsize=ff,bbox_to_anchor=(1,0.5),frameon=False)\n"
   ]
  },
  {
   "cell_type": "code",
   "execution_count": null,
   "id": "6e7b22d4-58f3-4cda-9d2c-8ea8190e9244",
   "metadata": {},
   "outputs": [],
   "source": []
  },
  {
   "cell_type": "markdown",
   "id": "68f177dd-64be-4343-b895-6b6ea11c100f",
   "metadata": {},
   "source": [
    "# Load all_cores3"
   ]
  },
  {
   "cell_type": "code",
   "execution_count": null,
   "id": "0c64e2cc-482f-4b89-bc90-3b8174e54c00",
   "metadata": {},
   "outputs": [],
   "source": [
    "# path_career='/mnt/sdb1/sandeep/openalex_ACTIV/'\n",
    "# with open(path_career+'all_cores3_alex.pkl', 'rb') as f:\n",
    "#     all_cores3=pickle.load(f) \n"
   ]
  },
  {
   "cell_type": "code",
   "execution_count": null,
   "id": "fc51dbe4-5e2c-4f0d-994d-df662a4273ef",
   "metadata": {},
   "outputs": [],
   "source": [
    "# significant_cores3=all_cores3.query('fdr')\n",
    "# #Using variable\n",
    "# value=False\n",
    "# nonsignificant_cores3=all_cores3.query('fdr== @value')"
   ]
  },
  {
   "cell_type": "code",
   "execution_count": null,
   "id": "9089b896-1be1-4c9d-a3dd-60746921845a",
   "metadata": {},
   "outputs": [],
   "source": []
  },
  {
   "cell_type": "markdown",
   "id": "11c30def-b9a3-40fd-ae53-b50c117c935b",
   "metadata": {},
   "source": [
    "# Load papers shared by cores \n",
    "into (non) singificant cores3 dataframes"
   ]
  },
  {
   "cell_type": "code",
   "execution_count": null,
   "id": "7a187732-4043-4a77-8199-b94b1d99e8d1",
   "metadata": {},
   "outputs": [],
   "source": [
    "# path_career='/mnt/sdb1/sandeep/openalex_ACTIV/'\n",
    "# with open(path_career+'significant_cores__papers_shared.pkl', 'rb') as f:\n",
    "#     significant_cores__papers_shared=pickle.load(f) \n",
    "\n",
    "# with open(path_career+'nonsignificant_cores__papers_shared.pkl', 'rb') as f:\n",
    "#     nonsignificant_cores__papers_shared=pickle.load(f) \n",
    "\n"
   ]
  },
  {
   "cell_type": "code",
   "execution_count": null,
   "id": "33991004-d492-4104-9806-8caf74fb2f4f",
   "metadata": {},
   "outputs": [],
   "source": [
    "# significant_cores3['papers_shared']=[[auth_inv_map[x] for x in lis] for lis in significant_cores__papers_shared]\n",
    "# nonsignificant_cores3['papers_shared']=[[auth_inv_map[x] for x in lis] for lis in nonsignificant_cores__papers_shared]\n",
    "\n",
    "# with open(path_career+'significant_cores3_alex.pkl', 'wb') as f:\n",
    "#     pickle.dump(significant_cores3, f)  \n",
    "# with open(path_career+'nonsignificant_cores3_alex.pkl', 'wb') as f:\n",
    "#     pickle.dump(nonsignificant_cores3, f)  \n"
   ]
  },
  {
   "cell_type": "code",
   "execution_count": null,
   "id": "d82ea595-62eb-4d08-badf-9cf6bafec398",
   "metadata": {},
   "outputs": [],
   "source": [
    "path_career='/mnt/sdb1/sandeep/openalex_ACTIV/'\n",
    "with open(path_career+'significant_cores3_alex.pkl', 'rb') as f:\n",
    "    significant_cores3=pickle.load(f) \n",
    "with open(path_career+'nonsignificant_cores3_alex.pkl', 'rb') as f:\n",
    "    nonsignificant_cores3=pickle.load(f) "
   ]
  },
  {
   "cell_type": "code",
   "execution_count": null,
   "id": "ea794e97-4d7c-419b-b3ee-7f09a9a7f65d",
   "metadata": {},
   "outputs": [],
   "source": []
  },
  {
   "cell_type": "markdown",
   "id": "9fc1be5f-2f89-4c09-bf71-6465e466bc93",
   "metadata": {},
   "source": [
    "# Loading citations"
   ]
  },
  {
   "cell_type": "code",
   "execution_count": null,
   "id": "3605fc84-801d-4949-aeb7-78849fd3f478",
   "metadata": {},
   "outputs": [],
   "source": [
    "# # # \n",
    "start_time = timeit.default_timer()\n",
    "names=path_data+'openalex_ACTIV/paper_citations/paper_citations0000000*'\n",
    "files=sorted(glob.glob(names))\n",
    "\n",
    "p=Pool(processes=12)\n",
    "df_citations = pd.concat(p.map(pd.read_csv,files),ignore_index=True)\n",
    "print(toc(start_time))\n",
    "# names_par=\"/mnt/sdb1/sandeep/openalex_ACTIV/df_paper_auth.parquet\"\n",
    "# df.to_parquet(names_par,index=None)\n",
    "\n",
    "p.close()\n",
    "print(toc(start_time))"
   ]
  },
  {
   "cell_type": "code",
   "execution_count": null,
   "id": "a8a467ba-2d03-457d-a23c-73b362b1f818",
   "metadata": {},
   "outputs": [],
   "source": [
    "df_citations"
   ]
  },
  {
   "cell_type": "code",
   "execution_count": null,
   "id": "fedd518b-47a5-4185-9138-7f0c65e3bf88",
   "metadata": {},
   "outputs": [],
   "source": [
    "df_citations['paper_id']=[x[3] for x in list(df_citations['paper_id'].str.split('/'))]"
   ]
  },
  {
   "cell_type": "markdown",
   "id": "e9c82e0e-dce7-408b-b91a-abd1cd3cc9fd",
   "metadata": {},
   "source": [
    "## pub_date to datetime format"
   ]
  },
  {
   "cell_type": "code",
   "execution_count": null,
   "id": "88fb8096-c106-48a9-911c-d2dd21d36ed1",
   "metadata": {},
   "outputs": [],
   "source": [
    "\n",
    "paper_id=[];pub_year=[];pub_mon=[];\n",
    "it=0\n",
    "for p,x in zip(df_citations['paper_id'],df_citations['pub_date']):\n",
    "    it+=1\n",
    "    try:\n",
    "        pub_year.append(int(x.split('-')[0]))\n",
    "        pub_mon.append(int(x.split('-')[1]))\n",
    "        paper_id.append(p)\n",
    "    except:\n",
    "        1\n",
    "    if it%1000==0:\n",
    "        print(it/len(df_citations['pub_date']),end='\\r')\n",
    "        \n",
    "\n",
    "pub_year=np.array(pub_year)\n",
    "pub_mon=np.array(pub_mon)\n",
    "pub_date=np.array(pub_year)+np.array(pub_mon/12)\n",
    "# df_citations['pub_date']=pub_date"
   ]
  },
  {
   "cell_type": "markdown",
   "id": "5244c5f7-6c8e-442f-9236-6ce3cd2d50e5",
   "metadata": {},
   "source": [
    "## How many citations per paper? \n",
    "And when were they published?"
   ]
  },
  {
   "cell_type": "code",
   "execution_count": null,
   "id": "b57e515a-02be-455c-8fe0-94291ab4603d",
   "metadata": {},
   "outputs": [],
   "source": [
    "dict_cites={x:y for x,y in zip(df_citations['paper_id'],df_citations['n_citations'])}\n",
    "dict_dates={x:y for x,y in zip(paper_id,pub_date)}\n"
   ]
  },
  {
   "cell_type": "code",
   "execution_count": null,
   "id": "8e73ef99-9a33-4851-afae-39915687987c",
   "metadata": {},
   "outputs": [],
   "source": [
    "### Setting "
   ]
  },
  {
   "cell_type": "code",
   "execution_count": null,
   "id": "4f9da4ff-bca7-4913-a1a8-e34109289886",
   "metadata": {},
   "outputs": [],
   "source": [
    "citations=[];it=0\n",
    "years=[];\n",
    "\n",
    "for papers in significant_cores3['papers_shared']:\n",
    "    it+=1\n",
    "    citations.append([dict_cites[p] if p in dict_cites.keys() else np.Nan for p in papers])\n",
    "    years.append([dict_dates[p] if p in dict_cites.keys() else np.Nan for p in papers])\n",
    "    if it%1000==0:\n",
    "        print(it/len(significant_cores3['papers_shared']),end='\\r')\n",
    "significant_cores3['citations']=citations\n",
    "significant_cores3['years']=years"
   ]
  },
  {
   "cell_type": "code",
   "execution_count": null,
   "id": "c29adeb8-ed63-4b01-8b23-e13a1df8e4d8",
   "metadata": {},
   "outputs": [],
   "source": [
    "nonsignificant_cores3_sample=nonsignificant_cores3.sample(n=significant_cores3.shape[0], random_state=1)\n",
    "citations=[];it=0\n",
    "years=[];\n",
    "for papers in nonsignificant_cores3_sample['papers_shared']:\n",
    "    it+=1\n",
    "    citations.append([dict_cites[p] if p in dict_cites.keys() else np.Nan for p in papers])\n",
    "    years.append([dict_dates[p] if p in dict_cites.keys() else np.Nan for p in papers])\n",
    "    if it%1000==0:\n",
    "        print(it/len(nonsignificant_cores3_sample['papers_shared']),end='\\r')\n",
    "nonsignificant_cores3_sample['citations']=citations\n",
    "nonsignificant_cores3_sample['years']=years"
   ]
  },
  {
   "cell_type": "markdown",
   "id": "84468f45-5c85-42f1-a0b3-34f5b0e61012",
   "metadata": {},
   "source": [
    "### Unique papers by persisitent teams"
   ]
  },
  {
   "cell_type": "code",
   "execution_count": null,
   "id": "75b66257-18ea-4fab-a894-3e10610c1af5",
   "metadata": {},
   "outputs": [],
   "source": [
    "PAPERS_TOGETHER=10"
   ]
  },
  {
   "cell_type": "code",
   "execution_count": null,
   "id": "4023ef16-50f0-455b-aa27-e5abf0aefdef",
   "metadata": {},
   "outputs": [],
   "source": [
    "significant_cores3_sample=significant_cores3[significant_cores3['w']>PAPERS_TOGETHER]\n",
    "ups=[]\n",
    "for x in significant_cores3_sample['papers_shared']:\n",
    "    ups+=x\n",
    "ups=np.unique(ups)"
   ]
  },
  {
   "cell_type": "markdown",
   "id": "1a4f0f1e-5865-478d-835f-1d6af5bc1b47",
   "metadata": {},
   "source": [
    "### Unique papers by non-persisitent teams"
   ]
  },
  {
   "cell_type": "code",
   "execution_count": null,
   "id": "9ace17e8-602f-4413-a0cc-05307d4084a7",
   "metadata": {},
   "outputs": [],
   "source": [
    "nonsignificant_cores3_sample=nonsignificant_cores3.sample(n=significant_cores3.shape[0], random_state=1)\n",
    "\n",
    "upns=[]\n",
    "for x in nonsignificant_cores3_sample['papers_shared']:\n",
    "    upns+=x\n",
    "upns=np.unique(upns)"
   ]
  },
  {
   "cell_type": "code",
   "execution_count": null,
   "id": "8ad0d6e7-8c40-4f55-bf57-50862c80c973",
   "metadata": {},
   "outputs": [],
   "source": []
  },
  {
   "cell_type": "code",
   "execution_count": null,
   "id": "2cd08c02-a8b0-4783-9c46-d0e091eb116a",
   "metadata": {},
   "outputs": [],
   "source": [
    "ups_cites=np.array([dict_cites[p] if p in dict_cites.keys() else np.Nan for p in ups])\n",
    "upns_cites=np.array([dict_cites[p] if p in dict_cites.keys() else np.Nan for p in upns])"
   ]
  },
  {
   "cell_type": "code",
   "execution_count": null,
   "id": "d7332c4c-f2bd-42cd-b437-9a74a78ed4b0",
   "metadata": {},
   "outputs": [],
   "source": [
    "ups_dates=np.array([dict_dates[p] if p in dict_dates.keys() else np.Nan for p in ups])\n",
    "upns_dates=np.array([dict_dates[p] if p in dict_dates.keys() else np.Nan for p in upns])"
   ]
  },
  {
   "cell_type": "markdown",
   "id": "ded1af79-8624-4a3c-af32-01907d9e69c9",
   "metadata": {},
   "source": [
    "#### relative succes of papers by publication year"
   ]
  },
  {
   "cell_type": "code",
   "execution_count": null,
   "id": "55bef351-4c92-47b4-bf60-7d4db6324f39",
   "metadata": {},
   "outputs": [],
   "source": [
    "yi=1970;yf=2022;years=list(np.linspace(yi,yf,yf-yi+1))\n",
    "ups_m=[];ups_err=[]\n",
    "upns_m=[];upns_err=[]\n",
    "ff=10\n",
    "for Y in years:\n",
    "#     inds=np.where((ups_dates<=Y+1) & (ups_dates>=Y) & (ups_cites>0))[0]\n",
    "#     indns=np.where((upns_dates<=Y+1) & (upns_dates>=Y) & (upns_cites>0))[0]\n",
    "    inds=np.where((ups_dates<=Y+1) & (ups_dates>=Y-1))[0]\n",
    "    indns=np.where((upns_dates<=Y+1) & (upns_dates>=Y-1))[0]\n",
    "#     print(Y,', persistent= ',np.mean(ups_cites[inds]),', non= ',np.mean(upns_cites[indns]))\n",
    "    ups_m.append(np.nanmean(ups_cites[inds]))\n",
    "    ups_err.append(np.power(np.nanvar(ups_cites[inds]),.5)/np.power(len(inds),0.5))\n",
    "    upns_m.append(np.nanmean(upns_cites[indns]))\n",
    "    upns_err.append(np.divide(np.power(np.nanvar(upns_cites[inds]),.5),np.power(len(indns),0.5)))\n",
    "    \n",
    "fig = plt.figure(0,figsize=(6, 2));\n",
    "ax = fig.add_subplot(1, 1, 1);\n",
    "ini_=0;alpha=.5\n",
    "lw=1.5\n",
    "ms=2\n",
    "\n",
    "# ax.plot(years[ini_:],erc[ini_:],'-',markersize=ms,lw=lw,color='royalblue',alpha=alpha)\n",
    "y=ups_m.copy();x=years.copy();y_err=ups_err.copy()\n",
    "ax.errorbar(x, y, y_err , mfc='w',mec='w', ms=0, lw=lw,mew=lw,color='royalblue',ecolor='royalblue', alpha=alpha,label=r'persistent')\n",
    "# ci = 1.96 * np.std(y)/np.sqrt(len(y))\n",
    "# ax.plot(x,y)\n",
    "# ax.fill_between(x, (y-ci), (y+ci), color='b', alpha=.1)\n",
    "\n",
    "# ax.plot(xxxx[ini_:],nsf[ini_:],'-',markersize=ms,lw=lw,color='indianred',alpha=alpha)\n",
    "y=upns_m.copy();x=years.copy();y_err=upns_err.copy()\n",
    "ax.errorbar(x,y,y_err , mfc='w',mec='w', ms=0,lw=lw, mew=lw,color='indianred',ecolor='indianred',alpha=alpha,label=r'non-persistent')\n",
    "# ci = 1.96 * np.std(y)/np.sqrt(len(y))\n",
    "# ax.plot(x,y)\n",
    "# ax.fill_between(x, (y-ci), (y+ci), color='b', alpha=.1)\n",
    "\n",
    "\n",
    "# ff=10\n",
    "\n",
    "# labels = [item.get_text() for item in ax.get_xticklabels()]\n",
    "\n",
    "ax.set_xlabel('publication year',fontsize=ff*1)\n",
    "ax.set_ylabel('citations until 2022',fontsize=ff*1)\n",
    "\n",
    "# ax.set_xticks(np.linspace(2,16,8))\n",
    "ax.legend(bbox_to_anchor=(.6,.7),frameon=False,fontsize=ff*.9)\n",
    "plt.xticks(fontsize=ff)\n",
    "plt.yticks(fontsize=ff)\n",
    "\n",
    "simpleaxis(ax)\n",
    "# plt.savefig(path_codes+'figs/fig2_collab_vs_age.png',dpi=300, bbox_inches = \"tight\");\n"
   ]
  },
  {
   "cell_type": "markdown",
   "id": "4225184e-b90f-4477-a12e-807b62ce792f",
   "metadata": {},
   "source": [
    "## Loading references"
   ]
  },
  {
   "cell_type": "code",
   "execution_count": null,
   "id": "27bb55d0-da24-402b-b5e2-fb6070693040",
   "metadata": {},
   "outputs": [],
   "source": [
    "# # # \n",
    "start_time = timeit.default_timer()\n",
    "names=path_data+'openalex_ACTIV/paper_ref/paper_refs*'\n",
    "files=sorted(glob.glob(names))\n",
    "\n",
    "p=Pool(processes=15)\n",
    "df = pd.concat(p.map(pd.read_csv,files),ignore_index=True)\n",
    "print(toc(start_time))\n",
    "# names_par=\"/mnt/sdb1/sandeep/openalex_ACTIV/df_paper_auth.parquet\"\n",
    "# df.to_parquet(names_par,index=None)\n",
    "\n",
    "p.close()\n",
    "print(toc(start_time))"
   ]
  },
  {
   "cell_type": "code",
   "execution_count": null,
   "id": "7ddcd18d-4a3e-470f-a954-e22dbe8b056e",
   "metadata": {},
   "outputs": [],
   "source": [
    "# df['paper_id']=[x[3] for x in list(df['paper_id'].str.split('/'))]\n",
    "# df['ref_works']=[x[3] for x in list(df['ref_works'].str.split('/'))]"
   ]
  },
  {
   "cell_type": "code",
   "execution_count": null,
   "id": "04447f61-cda6-496a-8e41-e3698900a6f3",
   "metadata": {},
   "outputs": [],
   "source": []
  },
  {
   "cell_type": "code",
   "execution_count": null,
   "id": "df296680-a01e-45a3-92ec-2917bce83b29",
   "metadata": {},
   "outputs": [],
   "source": [
    "df=df.sort_values(['ref_works'])"
   ]
  },
  {
   "cell_type": "code",
   "execution_count": null,
   "id": "2ac1b408-cf92-4b55-8611-5ad57252469b",
   "metadata": {},
   "outputs": [],
   "source": [
    "df_ref_grouped=df.iloc[1060:2000].groupby(['ref_works'])['paper_id'].apply(list)"
   ]
  },
  {
   "cell_type": "code",
   "execution_count": null,
   "id": "bc018ca3-8858-485d-9f34-a06c509e389a",
   "metadata": {},
   "outputs": [],
   "source": [
    "df_ref_grouped"
   ]
  },
  {
   "cell_type": "code",
   "execution_count": null,
   "id": "7fc914f3-8fa4-49f2-a02c-ae17fee636dd",
   "metadata": {},
   "outputs": [],
   "source": [
    "\n",
    "print([len(df_ref_grouped.iloc[x:x+1][0])for x in range(100)])"
   ]
  },
  {
   "cell_type": "code",
   "execution_count": null,
   "id": "dc0ac83a-bbb3-46cb-b8f5-7f81a7543b78",
   "metadata": {},
   "outputs": [],
   "source": [
    "x=8\n",
    "print(df_ref_grouped.index[x])\n",
    "\n",
    "print(df_ref_grouped.iloc[x:x+1][0])\n"
   ]
  },
  {
   "cell_type": "code",
   "execution_count": null,
   "id": "045f5b6a-bcf0-4bd6-814f-00055271e2ee",
   "metadata": {},
   "outputs": [],
   "source": []
  },
  {
   "cell_type": "code",
   "execution_count": null,
   "id": "91030e7b-0414-4659-86df-905600c32178",
   "metadata": {},
   "outputs": [],
   "source": [
    "# # work_=df_ref_grouped.index[x]\n",
    "# url='https://api.openalex.org/works?filter=cites:'+work_\n",
    "# headers = {\n",
    "#     'User-Agent': 'chowdhary_sandeep',\n",
    "#     'From': 'chowdhary_sandeep@phd.ceu.edu'  # This is another valid field\n",
    "# }\n",
    "# response = requests.get(url, headers=headers)\n",
    "# response.raise_for_status()  # raises exception when not a 2xx response\n",
    "# response=response.json()\n",
    "# print(response['meta']['count'])\n",
    "\n",
    "def get_citers(work_):\n",
    "\n",
    "    url='https://api.openalex.org/works?filter=cites:'+work_\n",
    "    headers = {\n",
    "        'User-Agent': 'chowdhary_sandeep',\n",
    "        'From': 'chowdhary_sandeep@phd.ceu.edu'  # This is another valid field\n",
    "    }\n",
    "\n",
    "\n",
    "    new_url__=url\n",
    "\n",
    "    # get first page\n",
    "\n",
    "    cursor='*'\n",
    "    works_=[]\n",
    "    try:\n",
    "        response = requests.get(new_url__+'&per-page=200&cursor='+cursor,headers=headers)\n",
    "        response.raise_for_status()  # raises exception when not a 2xx response\n",
    "    except:\n",
    "        response = requests.get(new_url__+'&per-page=50&cursor='+cursor,headers=headers)\n",
    "        response.raise_for_status()  # raises exception when not a 2xx response\n",
    "\n",
    "    if response.status_code != 204:\n",
    "        res= response.json()\n",
    "        LL=res['meta']['count']\n",
    "        works_.append(res)\n",
    "        it=0\n",
    "\n",
    "        # get all other pages\n",
    "        while not(res['meta']['next_cursor'] is None):\n",
    "            it+=1\n",
    "            print(it*200/LL,end='\\r')\n",
    "            cursor=res['meta']['next_cursor']\n",
    "            try:\n",
    "                response = requests.get(new_url__+'&per-page=200&cursor='+cursor,headers=headers)\n",
    "                response.raise_for_status()  # raises exception when not a 2xx response\n",
    "\n",
    "            except:\n",
    "                response = requests.get(new_url__+'&per-page=50&cursor='+cursor,headers=headers)\n",
    "                response.raise_for_status()  # raises exception when not a 2xx response\n",
    "            if response.status_code != 204:\n",
    "#                             res= response.json()                            \n",
    "                res = json.loads(response.content.decode(\"utf-8\"))\n",
    "\n",
    "                if len(res['results'])>0:\n",
    "                    works_.append(res)\n",
    "\n",
    "        career_=[]\n",
    "        for it in range(len(works_)):\n",
    "            career_=career_+(works_[it]['results'])\n",
    "        return career_\n",
    "    else:\n",
    "        return 'NA'\n"
   ]
  },
  {
   "cell_type": "code",
   "execution_count": null,
   "id": "2b0e0966-9207-4d0d-a2da-88d90d7c6857",
   "metadata": {},
   "outputs": [],
   "source": [
    "# it=0\n",
    "\n",
    "# for work_ in ups:\n",
    "#     it+=1\n",
    "#     all_citers=get_citers(work_)\n",
    "#     print(it/len(ups),end='\\r')\n",
    "    "
   ]
  },
  {
   "cell_type": "code",
   "execution_count": null,
   "id": "60b3fdf1-5927-4594-a8ee-f628621807cb",
   "metadata": {},
   "outputs": [],
   "source": [
    "\n",
    "all_citers_=[all_citers[it]['id'].split('/')[3].strip() for it in range(len(all_citers))]"
   ]
  },
  {
   "cell_type": "code",
   "execution_count": null,
   "id": "fc45efc0-2cc1-4600-a926-a1c1eadcb9c2",
   "metadata": {},
   "outputs": [],
   "source": [
    "query_citers=[response['results'][it]['id'].split('/')[3].strip() for it in range(len(response['results']))]\n"
   ]
  },
  {
   "cell_type": "code",
   "execution_count": null,
   "id": "f52b8e7f-df36-4b4a-9fc7-ff9fdf40e50a",
   "metadata": {},
   "outputs": [],
   "source": [
    "len(snapshot_citers)"
   ]
  },
  {
   "cell_type": "code",
   "execution_count": null,
   "id": "b0ea70db-36c9-40a4-9c8a-5fd6f53d6506",
   "metadata": {},
   "outputs": [],
   "source": [
    "len(all_citers_)"
   ]
  },
  {
   "cell_type": "code",
   "execution_count": null,
   "id": "1d37177b-fd3f-4e98-90cb-343c11b199b7",
   "metadata": {},
   "outputs": [],
   "source": [
    "snapshot_citers=list(df_ref_grouped.iloc[x:x+1][0])\n",
    "np.sum([x.strip() in all_citers_ for x in snapshot_citers])"
   ]
  },
  {
   "cell_type": "code",
   "execution_count": null,
   "id": "378b9461-33b0-4caa-8eaa-3f41217d8601",
   "metadata": {},
   "outputs": [],
   "source": [
    "58633075+18460402"
   ]
  },
  {
   "cell_type": "markdown",
   "id": "f99437f3-74a2-49d9-add3-83d030be846f",
   "metadata": {},
   "source": [
    "18460402 total unique paper_ids in BigQuery Table paper_refs\n",
    "77093477\n",
    "\n",
    "58633075\n"
   ]
  },
  {
   "cell_type": "code",
   "execution_count": null,
   "id": "d2626344-d6dc-451d-a4f9-c437e628a2e9",
   "metadata": {},
   "outputs": [],
   "source": [
    "# df[df['paper_id']=='https://openalex.org/W2612014884']\n"
   ]
  },
  {
   "cell_type": "code",
   "execution_count": null,
   "id": "2ced4aa5-601a-4d9e-935f-b191c45fd274",
   "metadata": {},
   "outputs": [],
   "source": [
    "18460402/77093477"
   ]
  },
  {
   "cell_type": "code",
   "execution_count": null,
   "id": "3dc1a4cc-2b4b-4224-91b8-dc8b50d7d762",
   "metadata": {},
   "outputs": [],
   "source": [
    "77093477/247544757"
   ]
  },
  {
   "cell_type": "code",
   "execution_count": null,
   "id": "14795e17-7f34-4b70-bc9a-453914a2566a",
   "metadata": {},
   "outputs": [],
   "source": [
    "247544757"
   ]
  },
  {
   "cell_type": "code",
   "execution_count": null,
   "id": "3b0ca060-dbbd-4d8e-9d32-6c24e3b824a4",
   "metadata": {},
   "outputs": [],
   "source": []
  },
  {
   "cell_type": "code",
   "execution_count": null,
   "id": "5b97a124-3a1d-4200-b8f6-da3b38e5135e",
   "metadata": {},
   "outputs": [],
   "source": [
    "75459916/247543975"
   ]
  },
  {
   "cell_type": "markdown",
   "id": "6102f874-d411-4108-832c-5f779af59826",
   "metadata": {},
   "source": [
    "# frequent publishing teams are more succesful\n",
    "number of papers by team/ core,  distribution of time between successive papers, \n",
    "distribution of means/variances of the time-gap distribution.\n",
    "\n",
    "\n",
    "\n",
    "SUCCESS OF PERSISTENT TEAMS vs NON-PERSISTENT--\n",
    "- citation counts/ num_papers by team for 2 types\n",
    "    - check inflation corrected by discipline citations, same pub year\n",
    "    - single year, single discipline\n",
    "- paper in high impact journals is another measure of success\n",
    "    - number of papers of all papers in  nature by persistent vs non-persistent\n",
    "    - citations of all papers in  nature by persistent vs non-persistent\n",
    "\n",
    "- number of open_access papers is another dimension (Luca)\n",
    "\n",
    "\n",
    "____________________________________\n",
    "Authors who collaborate with succesful (non) persistent  teams are succesful? \n",
    "- right before entering the team -citations/ 5 years after the collab - status of scientist\n",
    "\n",
    "____________________________________\n",
    "Correlate Success with other team level demographics\n",
    "- physical distance (same university)\n",
    "- discipline distance between  members\n",
    "- frequency of publishing together\n",
    "- past shared success drives future collab?\n"
   ]
  },
  {
   "cell_type": "markdown",
   "id": "d3722682-8ec0-4035-aca8-5a896cb9e60e",
   "metadata": {},
   "source": [
    "____________________________________________________\n",
    "a paper always features a team which consists of persistent members and non-persistent ones.\n",
    "- Unless all are part of the core \n",
    "- OR non are."
   ]
  },
  {
   "cell_type": "markdown",
   "id": "17f0f1ed-ffef-4a1d-aa4d-dc822491e7f1",
   "metadata": {},
   "source": [
    "18460402 total unique paper_ids in BigQuery Table paper_refs\n",
    "77093477\n",
    "\n"
   ]
  },
  {
   "cell_type": "code",
   "execution_count": null,
   "id": "71a00dfc-2f83-46df-814d-b015bbc4f572",
   "metadata": {},
   "outputs": [],
   "source": []
  },
  {
   "cell_type": "markdown",
   "id": "67177977-35d6-4669-980f-2477b7f0ceea",
   "metadata": {},
   "source": [
    "## Fig 0: career"
   ]
  },
  {
   "cell_type": "code",
   "execution_count": null,
   "id": "67c01fea-b63b-42c7-9fd2-4ad70494ddf5",
   "metadata": {},
   "outputs": [],
   "source": []
  },
  {
   "cell_type": "code",
   "execution_count": null,
   "id": "5bcd1d7d-53bd-451b-be86-aaad543145e9",
   "metadata": {},
   "outputs": [],
   "source": []
  },
  {
   "cell_type": "markdown",
   "id": "e61f9f67-6fd4-4328-89c4-820acb1cd4ea",
   "metadata": {},
   "source": [
    "## Fig 1: career age"
   ]
  },
  {
   "cell_type": "code",
   "execution_count": null,
   "id": "9b98dd5c-dd09-4294-b672-e05d6ac4d42a",
   "metadata": {},
   "outputs": [],
   "source": []
  },
  {
   "cell_type": "code",
   "execution_count": null,
   "id": "aca43bbf-cebf-4045-b5c0-2b80822c3f13",
   "metadata": {},
   "outputs": [],
   "source": []
  },
  {
   "cell_type": "markdown",
   "id": "f906724f-4c77-4a28-92f0-787e4b08948e",
   "metadata": {},
   "source": [
    "## Fig 2: number of nature / science papers per team\n",
    "disciplinewise"
   ]
  },
  {
   "cell_type": "code",
   "execution_count": null,
   "id": "f85c7cd1-92b6-439b-98d9-475272299741",
   "metadata": {},
   "outputs": [],
   "source": []
  },
  {
   "cell_type": "markdown",
   "id": "75d22c7a-5fea-4c90-9339-7c1ffe7dfbdb",
   "metadata": {},
   "source": [
    "## Fig 3: displinary variation in core\n",
    "    - requirements:\n",
    "        a) {auth: discipline scores} (threshold .75), a dictionary\n",
    "            - download table from bigquery, filter by threshold, groupby author, make dictionary\n",
    "            \n",
    "        b) add scores to each core, a column in significant_cores_sample and nonsingi...\n"
   ]
  },
  {
   "cell_type": "code",
   "execution_count": null,
   "id": "0c1ccfaf-ea4b-4804-8cfc-8a54554f991e",
   "metadata": {},
   "outputs": [],
   "source": [
    "start_time = timeit.default_timer()\n",
    "names=path_data+'openalex_ACTIV/a*'\n",
    "files=sorted(glob.glob(names))\n",
    "\n",
    "p=Pool(processes=5)\n",
    "df_disciplines = pd.concat(p.map(pd.read_csv,files),ignore_index=True)\n",
    "print(toc(start_time))\n",
    "p.close()"
   ]
  },
  {
   "cell_type": "code",
   "execution_count": null,
   "id": "d83505ff-a334-4383-98eb-6130828d2203",
   "metadata": {},
   "outputs": [],
   "source": [
    "df_disciplines0=df_disciplines[df_disciplines['clevel']==0]"
   ]
  },
  {
   "cell_type": "code",
   "execution_count": null,
   "id": "177b17fd-184c-4235-90e7-24a11e3a83c2",
   "metadata": {},
   "outputs": [],
   "source": [
    "aid=np.array(df_disciplines0['auth_id'])\n",
    "cid=list(df_disciplines0['cid'])\n",
    "ind=np.where(aid[0:len(aid)-1]!=aid[1:len(aid)])[0]\n",
    "\n",
    "dict_aconc={}\n",
    "ind=np.insert(ind,0,-1)\n",
    "ind=np.insert(ind,len(ind),len(aid))\n",
    "for itc in range(len(ind)-1):\n",
    "    print(itc/len(ind),end='\\r')\n",
    "    dict_aconc[aid[ind[itc]+1]]=cid[ind[itc]+1:ind[itc+1]+1]\n",
    "    \n"
   ]
  },
  {
   "cell_type": "code",
   "execution_count": null,
   "id": "af3c10f3-69ae-4685-8cad-dfa2f800cc2a",
   "metadata": {},
   "outputs": [],
   "source": [
    "dict_aconc['https://openalex.org/A2106175861']"
   ]
  },
  {
   "cell_type": "code",
   "execution_count": null,
   "id": "0cbc5b2c-ab79-4ce8-bda2-dd66b7458305",
   "metadata": {},
   "outputs": [],
   "source": [
    "for core in cores_:\n",
    "    print(core)\n",
    "    print([dict_aconc[x] if x in dict_aconc.keys() else -1 for x in core])\n",
    "    break"
   ]
  },
  {
   "cell_type": "code",
   "execution_count": null,
   "id": "f922fdfa-bc26-4c26-95b2-e8c5b24ced88",
   "metadata": {},
   "outputs": [],
   "source": [
    "cores_=np.array(significant_cores3_sample['group'])\n",
    "it=0\n",
    "sig_disp=[]\n",
    "for core in cores_:\n",
    "    it+=1\n",
    "    sig_disp.append([dict_aconc[x] if x in dict_aconc.keys() else -1 for x in core])\n",
    "    print(it/len(cores_),end='\\r')\n",
    "    "
   ]
  },
  {
   "cell_type": "code",
   "execution_count": null,
   "id": "7d78f67f-ff40-451c-9629-7543d9e4b6fb",
   "metadata": {},
   "outputs": [],
   "source": [
    "significant_cores3_sample.head()"
   ]
  },
  {
   "cell_type": "code",
   "execution_count": null,
   "id": "e22bb619-c3af-4ddd-95fc-f5f798d1013e",
   "metadata": {},
   "outputs": [],
   "source": [
    "# sig_disp"
   ]
  },
  {
   "cell_type": "code",
   "execution_count": null,
   "id": "7f8f46b2-972d-4334-b1b8-db13ddbe5af9",
   "metadata": {},
   "outputs": [],
   "source": [
    "12550795/df_disciplines.shape[0]\n"
   ]
  },
  {
   "cell_type": "markdown",
   "id": "c7d8fdf4-8213-4d38-b44c-a93e2b13868a",
   "metadata": {},
   "source": [
    "## Fig 4: non-core members \n",
    "    - experts?\n",
    "    - new first-time authors? what is the major channel (core teams or non-core) via which new authorsare included in academia?\n",
    "    - first author?\n",
    "    - qualifications? distance from cores expertise\n",
    "    "
   ]
  },
  {
   "cell_type": "code",
   "execution_count": null,
   "id": "66d49b7d-8536-42c5-8264-9ae52116caf6",
   "metadata": {},
   "outputs": [],
   "source": []
  },
  {
   "cell_type": "code",
   "execution_count": null,
   "id": "d8560a17-5d20-467c-8fcc-0e65fc695a58",
   "metadata": {},
   "outputs": [],
   "source": []
  },
  {
   "cell_type": "code",
   "execution_count": null,
   "id": "83fdf073-2d17-48b1-8303-22366a1356c0",
   "metadata": {},
   "outputs": [],
   "source": []
  }
 ],
 "metadata": {
  "kernelspec": {
   "display_name": "Python 3",
   "language": "python",
   "name": "python3"
  },
  "language_info": {
   "codemirror_mode": {
    "name": "ipython",
    "version": 3
   },
   "file_extension": ".py",
   "mimetype": "text/x-python",
   "name": "python",
   "nbconvert_exporter": "python",
   "pygments_lexer": "ipython3",
   "version": "3.9.2"
  }
 },
 "nbformat": 4,
 "nbformat_minor": 5
}
