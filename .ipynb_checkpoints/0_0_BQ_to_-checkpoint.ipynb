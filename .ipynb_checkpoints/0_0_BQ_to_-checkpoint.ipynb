{
 "cells": [
  {
   "cell_type": "code",
   "execution_count": 24,
   "id": "0de858fd-073c-4d87-a2da-886c30df9fbe",
   "metadata": {},
   "outputs": [],
   "source": [
    "import pickle\n",
    "import numpy as np\n",
    "from multiprocessing import Pool\n",
    "import requests, json\n",
    "import pandas as pd\n",
    "import glob\n",
    "import timeit\n",
    "import time\n",
    "from multiprocessing import Pool\n",
    "import numpy as np\n",
    "def toc(start_time):\n",
    "    elapsed = timeit.default_timer() - start_time\n",
    "    print(elapsed)\n",
    "from zipfile import ZipFile\n",
    "import re\n",
    "import xmlschema\n",
    "from pprint import pprint\n",
    "import glob\n",
    "# importing element tree\n",
    "import lxml.etree as etree\n",
    "import pickle\n",
    "from matplotlib import pyplot as plt\n",
    "%matplotlib inline\n",
    "plt.rcParams.update({'font.size': 8, 'font.style': 'normal', 'font.family':'serif'})\n",
    "%config InlineBackend.figure_format = 'svg'\n",
    "def simpleaxis(ax):\n",
    "    ax.spines['top'].set_visible(False)\n",
    "    ax.spines['right'].set_visible(False)\n",
    "    ax.get_xaxis().tick_bottom()\n",
    "    ax.get_yaxis().tick_left()\n",
    "    plt.xticks(fontsize=ff-4)\n",
    "    plt.yticks(fontsize=ff-4)\n",
    "\n",
    "path_career='/mnt/sdb1/sandeep/openalex_ACTIV/'\n"
   ]
  },
  {
   "cell_type": "code",
   "execution_count": null,
   "id": "70040a14-42a9-47ac-a4f5-709786b57935",
   "metadata": {},
   "outputs": [],
   "source": []
  },
  {
   "cell_type": "markdown",
   "id": "883608b1-fe7d-4355-ac11-a97ef056c552",
   "metadata": {},
   "source": [
    "# Load pairs_first_pub"
   ]
  },
  {
   "cell_type": "code",
   "execution_count": 6,
   "id": "719ec293-e1f4-4d4c-9f58-8e209281693f",
   "metadata": {
    "tags": []
   },
   "outputs": [
    {
     "name": "stdout",
     "output_type": "stream",
     "text": [
      "158.69224262610078\n",
      "None\n"
     ]
    }
   ],
   "source": [
    "\n",
    "# # # # \n",
    "# start_time = timeit.default_timer()\n",
    "# names=path_career+'pairs_firstpubtogether/*'\n",
    "# files=sorted(glob.glob(names))\n",
    "\n",
    "# p=Pool(processes=10)\n",
    "# # df_workcounts = pd.read_csv(files)\n",
    "# df_pairs_firstpubtogether = pd.concat(p.map(pd.read_csv,files),ignore_index=True)\n",
    "\n",
    "# # p.close()\n",
    "# print(toc(start_time))\n",
    "\n",
    "# # df_pairs_firstpubtogether[\"A1A2\"] = df_pairs_firstpubtogether[\"A1\"] +'+'+ df_pairs_firstpubtogether[\"A2\"]\n",
    "# # dict_pairs_firstpubtogether = df_pairs_firstpubtogether.set_index('A1A2')[['first_year_together']].to_dict()\n",
    "# dict_pairs_firstpubtogether = df_pairs_firstpubtogether.groupby('A1')[['A2','first_year_together','last_year_together']].apply(lambda x: x.set_index('A2').to_dict(orient='index')).to_dict()\n",
    "# with open(path_career+'dict_pairs_firstpubtogether.pkl', 'wb') as f:\n",
    "#     pickle.dump(dict_pairs_firstpubtogether, f) \n"
   ]
  },
  {
   "cell_type": "code",
   "execution_count": 8,
   "id": "98737034-cf72-495f-afc2-ef25e396b3bb",
   "metadata": {},
   "outputs": [],
   "source": []
  },
  {
   "cell_type": "code",
   "execution_count": null,
   "id": "ba3fad15-40a6-49b0-9566-c1ab89a523b5",
   "metadata": {},
   "outputs": [],
   "source": []
  },
  {
   "cell_type": "markdown",
   "id": "fbf60f31-0f90-4582-b7ba-310e7c46341a",
   "metadata": {},
   "source": [
    "# workcount"
   ]
  },
  {
   "cell_type": "code",
   "execution_count": 9,
   "id": "cef0cbaa-edfa-4171-ac25-5e568bbd83da",
   "metadata": {},
   "outputs": [],
   "source": [
    "# # # # \n",
    "# start_time = timeit.default_timer()\n",
    "# names=path_career+'auth_workcounts_wc10/*'\n",
    "# files=sorted(glob.glob(names))\n",
    "\n",
    "# p=Pool(processes=3)\n",
    "# # df_workcounts = pd.read_csv(files)\n",
    "# df_workcounts = pd.concat(p.map(pd.read_csv,files),ignore_index=True)\n",
    "\n",
    "# # p.close()\n",
    "\n",
    "# print(toc(start_time))\n",
    "\n",
    "\n",
    "# dict_workcounts=df_workcounts.set_index('id')['works_count'].T.to_dict()\n",
    "# with open(path_career+'dict_workcounts.pkl', 'wb') as f:\n",
    "#     pickle.dump(dict_workcounts, f) "
   ]
  },
  {
   "cell_type": "markdown",
   "id": "4741c2fb-ece0-4b17-8389-ccb45b566480",
   "metadata": {},
   "source": [
    "# c5"
   ]
  },
  {
   "cell_type": "code",
   "execution_count": 7,
   "id": "5e5075bb-8cfc-4e97-b346-e91979a311dc",
   "metadata": {},
   "outputs": [],
   "source": [
    "# # # # \n",
    "# start_time = timeit.default_timer()\n",
    "# names=path_career+'c5/*'\n",
    "# files=sorted(glob.glob(names))\n",
    "\n",
    "# p=Pool(processes=5)\n",
    "# df_c5 = pd.concat(p.map(pd.read_csv,files),ignore_index=True)\n",
    "# print(toc(start_time))\n",
    "# # names_par=\"/mnt/sdb1/sandeep/open_alex_ACTIV/df_paper_auth.parquet\"\n",
    "# # df.to_parquet(names_par,index=None)\n",
    "\n",
    "# p.close()\n",
    "# print(toc(start_time))\n",
    "# df_c5\n",
    "# dict_c5=df_c5.set_index('cited')['c5'].T.to_dict()\n",
    "# with open(path_career+'dict_c5.pkl', 'wb') as f:\n",
    "#     pickle.dump(dict_c5, f) \n"
   ]
  },
  {
   "cell_type": "code",
   "execution_count": null,
   "id": "90004916-e2c7-456d-86e7-ced9130f562c",
   "metadata": {},
   "outputs": [],
   "source": []
  },
  {
   "cell_type": "code",
   "execution_count": null,
   "id": "279cf5d1-35b7-4c18-8f91-43979d1c3438",
   "metadata": {},
   "outputs": [],
   "source": []
  },
  {
   "cell_type": "markdown",
   "id": "e097ae65-ffeb-4933-a1c0-3029e13ff9a3",
   "metadata": {},
   "source": [
    "# c5 normalized"
   ]
  },
  {
   "cell_type": "code",
   "execution_count": 6,
   "id": "0273b39f-901c-42ac-8d77-3c9154f3287d",
   "metadata": {},
   "outputs": [
    {
     "name": "stdout",
     "output_type": "stream",
     "text": [
      "15.41823821887374\n",
      "None\n",
      "15.420075364410877\n",
      "None\n"
     ]
    }
   ],
   "source": [
    "# # # # \n",
    "# start_time = timeit.default_timer()\n",
    "# names=path_career+'c5_norm/*'\n",
    "# files=sorted(glob.glob(names))\n",
    "\n",
    "# p=Pool(processes=5)\n",
    "# df_c5_norm = pd.concat(p.map(pd.read_csv,files),ignore_index=True)\n",
    "# print(toc(start_time))\n",
    "\n",
    "# p.close()\n",
    "# print(toc(start_time))\n",
    "\n",
    "# dict_c5_norm=df_c5_norm.set_index('id')['c5_normalized'].T.to_dict()\n",
    "# with open(path_career+'dict_c5_norm.pkl', 'wb') as f:\n",
    "#     pickle.dump(dict_c5_norm, f) \n"
   ]
  },
  {
   "cell_type": "code",
   "execution_count": null,
   "id": "6616a122-5e44-477d-998d-cfa57ac85e9f",
   "metadata": {},
   "outputs": [],
   "source": []
  },
  {
   "cell_type": "markdown",
   "id": "8550892a-dec1-47cb-95d3-5109079648bc",
   "metadata": {},
   "source": [
    "# paper pubdates"
   ]
  },
  {
   "cell_type": "code",
   "execution_count": 26,
   "id": "5f966eff-0429-4b88-a4fd-b76f832f76f4",
   "metadata": {},
   "outputs": [],
   "source": [
    "# # # # \n",
    "# start_time = timeit.default_timer()\n",
    "# names=path_career+'pap_pubdate/*'\n",
    "# files=sorted(glob.glob(names))\n",
    "\n",
    "# p=Pool(processes=5)\n",
    "# df_pubdate = pd.concat(p.map(pd.read_csv,files),ignore_index=True)\n",
    "# print(toc(start_time))\n",
    "# # names_par=\"/mnt/sdb1/sandeep/open_alex_ACTIV/df_paper_auth.parquet\"\n",
    "# # df.to_parquet(names_par,index=None)\n",
    "\n",
    "# p.close()\n",
    "# print(toc(start_time))\n",
    "\n",
    "\n",
    "# dict_pubdate=df_pubdate.set_index('id')['pubdate'].T.to_dict()\n",
    "# with open(path_career+'dict_pubdate.pkl', 'wb') as f:\n",
    "#     pickle.dump(dict_pubdate, f) "
   ]
  },
  {
   "cell_type": "code",
   "execution_count": null,
   "id": "4af7200b-b611-480c-9358-8dc393f77731",
   "metadata": {},
   "outputs": [],
   "source": []
  },
  {
   "cell_type": "code",
   "execution_count": 27,
   "id": "2a16178e-0be4-4f5f-a032-187c01ee6c00",
   "metadata": {},
   "outputs": [],
   "source": []
  },
  {
   "cell_type": "markdown",
   "id": "70abe883-3bbe-419a-9080-d39c1bc73eed",
   "metadata": {},
   "source": [
    "# c5 within discipline"
   ]
  },
  {
   "cell_type": "code",
   "execution_count": 15,
   "id": "c5cb6c85-986b-453d-9df1-06376f72a8cb",
   "metadata": {},
   "outputs": [],
   "source": [
    "# # # # \n",
    "# start_time = timeit.default_timer()\n",
    "# names=path_career+'c5_within_discipline/*'\n",
    "# files=sorted(glob.glob(names))\n",
    "\n",
    "# p=Pool(processes=5)\n",
    "# df_c5_within = pd.concat(p.map(pd.read_csv,files),ignore_index=True)\n",
    "# print(toc(start_time))\n",
    "# # names_par=\"/mnt/sdb1/sandeep/open_alex_ACTIV/df_paper_auth.parquet\"\n",
    "# # df.to_parquet(names_par,index=None)\n",
    "\n",
    "# p.close()\n",
    "# print(toc(start_time))\n",
    "\n",
    "# dict_c5_within=df_c5_within.set_index('cited')['c5'].T.to_dict()\n",
    "# with open(path_career+'dict_c5_within.pkl', 'wb') as f:\n",
    "#     pickle.dump(dict_c5_within, f) \n"
   ]
  },
  {
   "cell_type": "code",
   "execution_count": 16,
   "id": "b6ebb16b-9526-4f1c-b41b-79de700daaa8",
   "metadata": {},
   "outputs": [],
   "source": [
    "# # # # \n",
    "# start_time = timeit.default_timer()\n",
    "# names=path_career+'c5_within_lvl1/*'\n",
    "# files=sorted(glob.glob(names))\n",
    "\n",
    "# p=Pool(processes=5)\n",
    "# df_c5_within_lvl1 = pd.concat(p.map(pd.read_csv,files),ignore_index=True)\n",
    "# print(toc(start_time))\n",
    "\n",
    "\n",
    "# p.close()\n",
    "# print(toc(start_time))\n",
    "\n",
    "# dict_c5_within_lvl1=df_c5_within_lvl1.set_index('cited')['c5'].T.to_dict()\n",
    "# with open(path_career+'dict_c5_within_lvl1.pkl', 'wb') as f:\n",
    "#     pickle.dump(dict_c5_within_lvl1, f) \n"
   ]
  },
  {
   "cell_type": "markdown",
   "id": "d83d5ea9-003e-46a6-91e8-771a5e76568d",
   "metadata": {},
   "source": [
    "# workcount_per_year"
   ]
  },
  {
   "cell_type": "code",
   "execution_count": 6,
   "id": "4db7dea2-1e15-4056-8ad0-612a7f073697",
   "metadata": {},
   "outputs": [
    {
     "name": "stdout",
     "output_type": "stream",
     "text": [
      "17.990718565881252\n",
      "None\n",
      "17.992137745022774\n",
      "None\n"
     ]
    }
   ],
   "source": [
    "# # # \n",
    "start_time = timeit.default_timer()\n",
    "names=path_career+'workcounts_per_year/*'\n",
    "files=sorted(glob.glob(names))\n",
    "\n",
    "p=Pool(processes=5)\n",
    "df_workcounts = pd.concat(p.map(pd.read_csv,files),ignore_index=True)\n",
    "print(toc(start_time))\n",
    "# names_par=\"/mnt/sdb1/sandeep/open_alex_ACTIV/df_paper_auth.parquet\"\n",
    "# df.to_parquet(names_par,index=None)\n",
    "\n",
    "p.close()\n",
    "print(toc(start_time))\n",
    "\n"
   ]
  },
  {
   "cell_type": "code",
   "execution_count": 11,
   "id": "1f31b0af-6b74-43a8-a194-42c9a667f566",
   "metadata": {},
   "outputs": [],
   "source": [
    "auth_id=list(df_workcounts['auth_id'])\n",
    "publication_year=list(df_workcounts['publication_year'])\n",
    "work_count=list(df_workcounts['work_count'])\n",
    "dict_workcounts={}\n",
    "unique_auths=np.unique(auth_id)\n",
    "dict_workcounts={x:{} for x in unique_auths}    \n",
    "\n",
    "\n"
   ]
  },
  {
   "cell_type": "code",
   "execution_count": 12,
   "id": "f9b36843-e66a-476a-b679-079e6c3cf907",
   "metadata": {},
   "outputs": [
    {
     "name": "stdout",
     "output_type": "stream",
     "text": [
      "0.9999986850998642101.26, time estimate: 0.0332\r"
     ]
    }
   ],
   "source": [
    "t_ic = time.time();\n",
    "for it in range(len(work_count)):\n",
    "    dict_workcounts[auth_id[it]][publication_year[it]]=work_count[it]\n",
    "    if (it+1)%100==0:\n",
    "        t_oc = time.time();\n",
    "        frac=it/len(work_count)\n",
    "        prog=str(frac)+str(round(t_oc-t_ic,2))+', time estimate: '+str(round((t_oc-t_ic)/frac/3600,2))\n",
    "        print(prog,end='\\r')\n",
    "\n"
   ]
  },
  {
   "cell_type": "code",
   "execution_count": 22,
   "id": "7cb44acf-860b-4b2b-baf2-4a7740975062",
   "metadata": {},
   "outputs": [],
   "source": [
    "with open(path_career+'dict_workcounts_per_year_for_authors.pkl', 'wb') as f:\n",
    "    pickle.dump(dict_workcounts, f) \n"
   ]
  },
  {
   "cell_type": "code",
   "execution_count": 23,
   "id": "60230a19-8ff8-4abd-9e33-a797f37ab8ea",
   "metadata": {},
   "outputs": [],
   "source": [
    "# dict_workcounts[auth_id[it-300000]]"
   ]
  },
  {
   "cell_type": "markdown",
   "id": "8ee2fada-06a4-45bc-a59c-5cff82c45177",
   "metadata": {},
   "source": [
    "# Fig 1: Career age"
   ]
  },
  {
   "cell_type": "code",
   "execution_count": 7,
   "id": "050a1ccb-65bc-4dc5-8179-103c6d0f4e01",
   "metadata": {},
   "outputs": [
    {
     "name": "stdout",
     "output_type": "stream",
     "text": [
      "16.303149741142988\n",
      "None\n",
      "16.30467202141881\n",
      "None\n"
     ]
    }
   ],
   "source": [
    "# # # # \n",
    "# start_time = timeit.default_timer()\n",
    "# names=path_career+'auth_firstpubdate/*'\n",
    "# files=sorted(glob.glob(names))\n",
    "\n",
    "# p=Pool(processes=10)\n",
    "# df_firstpub = pd.concat(p.map(pd.read_csv,files),ignore_index=True)\n",
    "# print(toc(start_time))\n",
    "# # names_par=\"/mnt/sdb1/sandeep/open_alex_ACTIV/df_paper_auth.parquet\"\n",
    "# # df.to_parquet(names_par,index=None)\n",
    "\n",
    "# p.close()\n",
    "# print(toc(start_time))"
   ]
  },
  {
   "cell_type": "code",
   "execution_count": 8,
   "id": "d506a074-0ddd-4582-a867-1dca7263ffeb",
   "metadata": {},
   "outputs": [
    {
     "name": "stdout",
     "output_type": "stream",
     "text": [
      "133.99031986109912\n",
      "None\n",
      "133.9910499714315\n",
      "None\n"
     ]
    }
   ],
   "source": [
    "# # # # \n",
    "# start_time = timeit.default_timer()\n",
    "# names=path_career+'pap_pubyear/*'\n",
    "# files=sorted(glob.glob(names))\n",
    "\n",
    "# p=Pool(processes=10)\n",
    "# df_pubyear = pd.concat(p.map(pd.read_csv,files),ignore_index=True)\n",
    "# print(toc(start_time))\n",
    "# # names_par=\"/mnt/sdb1/sandeep/open_alex_ACTIV/df_paper_auth.parquet\"\n",
    "# # df.to_parquet(names_par,index=None)\n",
    "\n",
    "# p.close()\n",
    "# print(toc(start_time))"
   ]
  },
  {
   "cell_type": "code",
   "execution_count": 9,
   "id": "7cd37658-3f1c-45f1-95cc-b8a86f58e76b",
   "metadata": {},
   "outputs": [],
   "source": [
    "# dict_firstpub=df_firstpub.set_index('aid')['first_pub'].T.to_dict()"
   ]
  },
  {
   "cell_type": "code",
   "execution_count": 11,
   "id": "750d47f9-44ec-4043-a3f3-5e0a25f1f63c",
   "metadata": {},
   "outputs": [],
   "source": [
    "# dict_pubyear=df_pubyear.set_index('id')['publication_year'].T.to_dict()"
   ]
  },
  {
   "cell_type": "code",
   "execution_count": 16,
   "id": "94bba119-ab35-4ed1-9ba2-5f331031a92c",
   "metadata": {},
   "outputs": [],
   "source": [
    "# path_career='/mnt/sdb1/sandeep/openalex_ACTIV/'\n",
    "# import pickle\n",
    "# with open(path_career+'dict_firstpub.pkl', 'wb') as f:\n",
    "#     pickle.dump(dict_firstpub, f)"
   ]
  }
 ],
 "metadata": {
  "kernelspec": {
   "display_name": "Python 3",
   "language": "python",
   "name": "python3"
  },
  "language_info": {
   "codemirror_mode": {
    "name": "ipython",
    "version": 3
   },
   "file_extension": ".py",
   "mimetype": "text/x-python",
   "name": "python",
   "nbconvert_exporter": "python",
   "pygments_lexer": "ipython3",
   "version": "3.9.2"
  }
 },
 "nbformat": 4,
 "nbformat_minor": 5
}
