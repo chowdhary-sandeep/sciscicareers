{
 "cells": [
  {
   "cell_type": "code",
   "execution_count": 1,
   "id": "6fba3a97-1781-402e-b046-a8ca8989d927",
   "metadata": {},
   "outputs": [],
   "source": [
    "import pickle\n",
    "import numpy as np\n",
    "from multiprocessing import Pool\n",
    "import requests, json\n",
    "import pandas as pda\n",
    "import glob\n",
    "import timeit\n",
    "import time\n",
    "from multiprocessing import Pool\n",
    "import numpy as np\n",
    "def toc(start_time):\n",
    "    elapsed = timeit.default_timer() - start_time\n",
    "    print(elapsed)\n",
    "from zipfile import ZipFile\n",
    "import re\n",
    "import xmlschema\n",
    "from pprint import pprint\n",
    "import glob\n",
    "# importing element tree\n",
    "import lxml.etree as etree\n",
    "import pickle\n",
    "from matplotlib import pyplot as plt\n",
    "%matplotlib inline\n",
    "plt.rcParams.update({'font.size': 8, 'font.style': 'normal', 'font.family':'serif'})\n",
    "%config InlineBackend.figure_format = 'svg'\n",
    "def simpleaxis(ax):\n",
    "    ax.spines['top'].set_visible(False)\n",
    "    ax.spines['right'].set_visible(False)\n",
    "    ax.get_xaxis().tick_bottom()\n",
    "    ax.get_yaxis().tick_left()\n",
    "    plt.xticks(fontsize=ff-4)\n",
    "    plt.yticks(fontsize=ff-4)"
   ]
  },
  {
   "cell_type": "code",
   "execution_count": 2,
   "id": "ec4d5ab1-7836-40a7-b2c6-a4b1ca9f075e",
   "metadata": {},
   "outputs": [
    {
     "name": "stdout",
     "output_type": "stream",
     "text": [
      "9\r"
     ]
    }
   ],
   "source": [
    "path_career='/mnt/sdb1/sandeep/openalex_ACTIV/'\n",
    "significant_cores3={}\n",
    "PAPERS_TOGETHER=3\n",
    "\n",
    "for gsize in range(2,10):\n",
    "    print(gsize,end='\\r')\n",
    "#     with open(path_career+'significant_cores3_size'+str(gsize)+'_v2.pkl', 'rb') as f:\n",
    "    with open(path_career+'significant_cores3_size'+str(gsize)+'(whole).pkl', 'rb') as f:\n",
    "        significant_cores3[gsize]=pickle.load(f) \n",
    "    significant_cores3[gsize]=significant_cores3[gsize][significant_cores3[gsize]['w']>PAPERS_TOGETHER]\n",
    "    significant_cores3[gsize]['size']=gsize"
   ]
  },
  {
   "cell_type": "markdown",
   "id": "8b45ddaf-e822-4b85-9e85-e2e5a5ac8f8b",
   "metadata": {},
   "source": [
    "# calc formation of cores"
   ]
  },
  {
   "cell_type": "code",
   "execution_count": 49,
   "id": "bda57c3d-95c7-40ee-a07c-4ba38c20c3bf",
   "metadata": {},
   "outputs": [],
   "source": [
    "# dict_pairs_firstpubtogether\n",
    "with open(path_career+'dict_pairs_firstpubtogether.pkl', 'rb') as f:\n",
    "    dict_pairs_firstpubtogether=pickle.load(f) "
   ]
  },
  {
   "cell_type": "code",
   "execution_count": 50,
   "id": "d61cbb0b-b006-412d-b3ef-06c01194196d",
   "metadata": {},
   "outputs": [],
   "source": [
    "with open(path_career+'dict_firstpub.pkl', 'rb') as f:\n",
    "    dict_firstpub=pickle.load(f) \n",
    "auth_to_firstpubyear=dict_firstpub\n",
    "\n",
    "with open(path_career+'dict_pubdate.pkl', 'rb') as f:\n",
    "    dict_pubdate=pickle.load(f) \n",
    "paper_to_pubyear=dict_pubdate"
   ]
  },
  {
   "cell_type": "code",
   "execution_count": 51,
   "id": "481d9721-418b-466e-ac3a-13a2268d3db1",
   "metadata": {},
   "outputs": [
    {
     "name": "stdout",
     "output_type": "stream",
     "text": [
      "('9--- ', '0.95690834473324220.09, time estimate: 0.0')))')\r"
     ]
    }
   ],
   "source": [
    "for gsize in range(2,10):\n",
    "    t_ic = time.time();\n",
    "\n",
    "\n",
    "    print(gsize,end='\\r')\n",
    "    group=list(significant_cores3[gsize]['group'])\n",
    "\n",
    "    Age1=[];Age2=[]\n",
    "    sfirstpubtogether=[]\n",
    "    smem_first=[]\n",
    "    for it_auth in range(len(group)):\n",
    "#         print(it_auth/len(group),end='\\r')\n",
    "\n",
    "        mem_first=[]\n",
    "        firstpubtogether=[]\n",
    "        a=group[it_auth]\n",
    "        for ii in range(len(a)):\n",
    "            try:\n",
    "                mem_first.append(int(dict_firstpub[a[ii]]))\n",
    "            except:\n",
    "                mem_first.append(np.nan)\n",
    "            for ii2 in range(ii+1,len(a)):\n",
    "                if a[ii2] in dict_pairs_firstpubtogether[a[ii]].keys():\n",
    "                    firstpubtogether.append(dict_pairs_firstpubtogether[a[ii]][a[ii2]]['first_year_together']);\n",
    "                else:\n",
    "                    firstpubtogether.append(np.nan)\n",
    "#             ages=[firstpubtogether-firstA1,firstpubtogether-firstA2];ages=sorted(ages)\n",
    "#             Age1.append(ages[0]);Age2.append(ages[1]);\n",
    "\n",
    "        sfirstpubtogether.append(firstpubtogether)\n",
    "        smem_first.append(mem_first)\n",
    "\n",
    "        if (it_auth+1)%100==0:\n",
    "            t_oc = time.time();\n",
    "            frac=it_auth/len(group)\n",
    "            prog=str(gsize)+'--- ',str(frac)+str(round(t_oc-t_ic,2))+', time estimate: '+str(round((t_oc-t_ic)/frac/3600,2))\n",
    "            print(prog,end='\\r')\n",
    "\n",
    "    \n",
    "\n",
    "#     significant_cores3[gsize]['sfirstpubtogether']=sfirstpubtogether\n",
    "    significant_cores3[gsize]['member_first_pub']=smem_first\n",
    "    with open(path_career+'sfirstpubtogether'+str(gsize)+'.pkl', 'wb') as f:\n",
    "        pickle.dump(sfirstpubtogether, f)  \n",
    "    with open(path_career+'smember_first_pub'+str(gsize)+'.pkl', 'wb') as f:\n",
    "        pickle.dump(smem_first, f)"
   ]
  },
  {
   "cell_type": "markdown",
   "id": "417e5eb2-7a9d-4d6e-b7e2-31d8df8b0b47",
   "metadata": {},
   "source": [
    "# Auth to cores"
   ]
  },
  {
   "cell_type": "code",
   "execution_count": 12,
   "id": "4617711a-2929-4673-9e79-6861d3fab028",
   "metadata": {},
   "outputs": [
    {
     "name": "stdout",
     "output_type": "stream",
     "text": [
      "0.95690834473324220.01, time estimate: 0.000011\r"
     ]
    }
   ],
   "source": [
    "dictauthcores={}\n",
    "for gsize in range(2,10):\n",
    "    print(gsize,end='\\r')\n",
    "    significant_cores3[gsize]\n",
    "\n",
    "    groups=list(significant_cores3[gsize]['group'])\n",
    "    t_ic = time.time();\n",
    "    \n",
    "    for it in range(len(groups)):\n",
    "        for auth in groups[it]:\n",
    "            try:\n",
    "                dictauthcores[auth].append([gsize,it,groups[it]])\n",
    "            except:\n",
    "                dictauthcores[auth]=[[gsize,it,groups[it]]]\n",
    "                \n",
    "        if (it+1)%100==0:\n",
    "            t_oc = time.time();\n",
    "            frac=(it/len(groups))\n",
    "            prog=str(frac)+str(round(t_oc-t_ic,2))+', time estimate: '+str(round((t_oc-t_ic)/frac/3600,2))\n",
    "            print(prog,end='\\r')\n"
   ]
  },
  {
   "cell_type": "code",
   "execution_count": 13,
   "id": "753154cb-8913-4fc3-86cf-20746363ca03",
   "metadata": {},
   "outputs": [],
   "source": [
    "with open(path_career+'dictauthcores.pkl', 'wb') as f:\n",
    "    pickle.dump(dictauthcores, f)  \n",
    "path_career='/mnt/sdb1/sandeep/openalex_ACTIV/'\n",
    "with open(path_career+'dict_auth_to_paper(whole).pkl', 'rb') as f:\n",
    "    dict_auth_to_paper=pickle.load(f) \n",
    "    "
   ]
  },
  {
   "cell_type": "code",
   "execution_count": 14,
   "id": "0d0bb6f1-656b-4166-be47-88fe06d037a8",
   "metadata": {},
   "outputs": [
    {
     "data": {
      "text/plain": [
       "0.4187363125436461"
      ]
     },
     "execution_count": 14,
     "metadata": {},
     "output_type": "execute_result"
    }
   ],
   "source": [
    "len(dictauthcores)/len(dict_auth_to_paper)"
   ]
  },
  {
   "cell_type": "code",
   "execution_count": 10,
   "id": "e2db2758-dc7f-46ee-8c1d-5ebc6239bb00",
   "metadata": {},
   "outputs": [
    {
     "data": {
      "text/plain": [
       "4000926"
      ]
     },
     "execution_count": 10,
     "metadata": {},
     "output_type": "execute_result"
    }
   ],
   "source": []
  },
  {
   "cell_type": "markdown",
   "id": "f6f1ac17-1a67-4cc8-a802-601e94b6cbbf",
   "metadata": {},
   "source": [
    "# Papers shared"
   ]
  },
  {
   "cell_type": "code",
   "execution_count": 232,
   "id": "f9e651cc-c7cc-452f-88e7-ba6baf58667c",
   "metadata": {},
   "outputs": [
    {
     "name": "stdout",
     "output_type": "stream",
     "text": [
      "2\n",
      "0.9998544490086361109.93, time estimate: 0.036\n",
      " 247337 \n",
      "\n",
      "3\n",
      "0.999975728744448217.39, time estimate: 0.0666\n",
      " 329609 \n",
      "\n",
      "4\n",
      "0.9997217701516543221.32, time estimate: 0.066\n",
      " 262374 \n",
      "\n",
      "5\n",
      "0.9992189393735356119.17, time estimate: 0.034\n",
      " 111388 \n",
      "\n",
      "6\n",
      "0.999257694284245944.41, time estimate: 0.011\n",
      " 35027 \n",
      "\n",
      "7\n",
      "0.993748998236896919.09, time estimate: 0.011\n",
      " 12479 \n",
      "\n",
      "8\n",
      "0.9909909909909916.8, time estimate: 0.0.00\n",
      " 4441 \n",
      "\n",
      "9\n",
      "0.9575923392612862.31, time estimate: 0.000\n",
      " 1463 \n",
      "\n"
     ]
    }
   ],
   "source": [
    "t_ic = time.time();\n",
    "\n",
    "for gsize in range(2,10):\n",
    "    t_ic = time.time();\n",
    "    path_career='/mnt/sdb1/sandeep/openalex_ACTIV/'\n",
    "    \n",
    "    print(gsize)\n",
    "    papers_shared=[]\n",
    "    ind_papers_shared=[0]\n",
    "    ind_=0\n",
    "    it=0\n",
    "\n",
    "    for group in significant_cores3[gsize]['group']:\n",
    "        \n",
    "        for auth in group:\n",
    "            papersinquestion=dict_auth_to_paper[auth]\n",
    "            y=[]\n",
    "            for p in papersinquestion:\n",
    "                pauths=dict_paper_to_auth[p]\n",
    "                if len(set(pauths).intersection(group))==len(group):\n",
    "                    y.append(p)\n",
    "\n",
    "        papers_shared.append(y)\n",
    "        ind_=ind_+len(y)\n",
    "        \n",
    "        it=it+1\n",
    "        if it%100==0:\n",
    "            t_oc = time.time();\n",
    "            frac=(it/len(significant_cores3[gsize]['group']))\n",
    "            prog=str(frac)+str(round(t_oc-t_ic,2))+', time estimate: '+str(round((t_oc-t_ic)/frac/3600,2))\n",
    "            print(prog,end='\\r')\n",
    "\n",
    "    papers_shared=[list(x) for x in papers_shared]    \n",
    "    \n",
    "    if len(papers_shared)>0:\n",
    "        A=np.concatenate(papers_shared)\n",
    "    else:\n",
    "        A=[]\n",
    "    B=[len(x) for x in papers_shared]\n",
    "    C=np.cumsum(B)\n",
    "    C=np.insert(C,0,0)\n",
    "    print('\\n',len(C),'\\n')\n",
    "    with open(path_career+'significant_cores(papers_shared)'+str(gsize)+'.pkl', 'wb') as f:\n",
    "        pickle.dump(A, f)  \n",
    "    with open(path_career+'significant_cores(papers_shared)'+str(gsize)+'_ind.pkl', 'wb') as f:\n",
    "        pickle.dump(C, f)  "
   ]
  },
  {
   "cell_type": "code",
   "execution_count": null,
   "id": "23b18cf9-1445-4382-af51-6dd83b3a4786",
   "metadata": {},
   "outputs": [],
   "source": []
  },
  {
   "cell_type": "markdown",
   "id": "00f169a0-f770-4813-9932-0bc0ea9d528d",
   "metadata": {},
   "source": [
    "# pub years + sorting papers"
   ]
  },
  {
   "cell_type": "code",
   "execution_count": 233,
   "id": "dcdf3897-b4c8-4361-877b-a33eaea5569f",
   "metadata": {
    "tags": []
   },
   "outputs": [],
   "source": [
    "import pickle\n",
    "path_career='/mnt/sdb1/sandeep/openalex_ACTIV/'\n",
    "with open(path_career+'dict_pubdate.pkl', 'rb') as f:\n",
    "    dict_pubyear=pickle.load(f) \n",
    "paper_to_pubyear=dict_pubyear;"
   ]
  },
  {
   "cell_type": "code",
   "execution_count": 234,
   "id": "efffe097-d559-48cc-a08a-7dbc8b6eac3e",
   "metadata": {},
   "outputs": [
    {
     "name": "stdout",
     "output_type": "stream",
     "text": [
      "gs 9,0.956254272043745738.47, time estimate: 0.0128631\r"
     ]
    }
   ],
   "source": [
    "t_ic = time.time();\n",
    "for gsize in range(2,10):\n",
    "\n",
    "    with open(path_career+'significant_cores(papers_shared)'+str(gsize)+'.pkl', 'rb') as f:\n",
    "        papers_by_team=pickle.load(f) \n",
    "    with open(path_career+'significant_cores(papers_shared)'+str(gsize)+'_ind.pkl', 'rb') as f:\n",
    "        I=pickle.load(f) \n",
    "    print(gsize,end='\\r')\n",
    "    pub_years=[paper_to_pubyear[x]  if x in paper_to_pubyear.keys() else 0 for x in papers_by_team]\n",
    "    pub_years=np.array(pub_years)\n",
    "\n",
    "\n",
    "    for n in range(len(I)-1):\n",
    "\n",
    "        a=papers_by_team[I[n]:I[n+1]]\n",
    "        b=pub_years[I[n]:I[n+1]]\n",
    "        z=sorted(zip(b,a))\n",
    "        zpapers = [x for _,x in z]\n",
    "        zyears=[_ for _,x in z]\n",
    "        papers_by_team[I[n]:I[n+1]]=zpapers\n",
    "        pub_years[I[n]:I[n+1]]=zyears\n",
    "\n",
    "        if (n+1)%100==0:\n",
    "            t_oc = time.time();\n",
    "            frac=n/len(I)\n",
    "            prog='gs '+str(gsize)+','+str(frac)+str(round(t_oc-t_ic,2))+', time estimate: '+str(round((t_oc-t_ic)/frac/3600,2))\n",
    "            print(prog,end='\\r') \n",
    "    with open(path_career+'significant_cores(papers_shared)'+str(gsize)+'_time_ordered.pkl', 'wb') as f:\n",
    "        pickle.dump(papers_by_team, f)  \n",
    "    with open(path_career+'significant_cores(pub_years)'+str(gsize)+'_time_ordered.pkl', 'wb') as f:\n",
    "        pickle.dump(pub_years, f)  \n",
    "    with open(path_career+'significant_cores(papers_shared)'+str(gsize)+'ind_time_ordered.pkl', 'wb') as f:\n",
    "        pickle.dump(I, f)  "
   ]
  },
  {
   "cell_type": "markdown",
   "id": "346c6ad7-9c4e-471d-8c21-ca9b3ac42a64",
   "metadata": {},
   "source": [
    "# c5 normalized"
   ]
  },
  {
   "cell_type": "markdown",
   "id": "d6caf86c-6000-4c0f-8c03-f22863b6019a",
   "metadata": {},
   "source": []
  },
  {
   "cell_type": "code",
   "execution_count": 235,
   "id": "f36f46e4-facc-45a8-9315-78983bd2de74",
   "metadata": {},
   "outputs": [],
   "source": [
    "with open(path_career+'dict_c5_norm.pkl', 'rb') as f:\n",
    "    dict_c5_norm=pickle.load(f) \n",
    "paper_to_c5norm=dict_c5_norm"
   ]
  },
  {
   "cell_type": "code",
   "execution_count": 236,
   "id": "28ce0280-a950-43ab-8467-8455ffbe0530",
   "metadata": {},
   "outputs": [],
   "source": [
    "with open(path_career+'dict_paper_to_discidiversity.pkl', 'rb') as f:\n",
    "    dict_paper_to_discidiversity=pickle.load(f) \n",
    "    "
   ]
  },
  {
   "cell_type": "code",
   "execution_count": 237,
   "id": "736d3b20-4e41-4c74-a6f8-e792d49349de",
   "metadata": {},
   "outputs": [],
   "source": [
    "\n",
    "with open(path_career+'dict_papersteamsizes.pkl', 'rb') as f:\n",
    "    dict_papersteamsizes=pickle.load(f) \n",
    "    "
   ]
  },
  {
   "cell_type": "code",
   "execution_count": 238,
   "id": "8e95ba16-0aea-4d88-ae29-f55efae3161e",
   "metadata": {},
   "outputs": [
    {
     "name": "stdout",
     "output_type": "stream",
     "text": [
      "9\r"
     ]
    }
   ],
   "source": [
    "t_ic = time.time();\n",
    "for gsize in range(2,10):\n",
    "    with open(path_career+'significant_cores(papers_shared)'+str(gsize)+'_time_ordered.pkl', 'rb') as f:\n",
    "        papers_by_team=pickle.load(f) \n",
    "    with open(path_career+'significant_cores(papers_shared)'+str(gsize)+'ind_time_ordered.pkl', 'rb') as f:\n",
    "        I=pickle.load(f) \n",
    "    print(gsize,end='\\r')\n",
    "    c5=[paper_to_c5norm[x]  if x in paper_to_c5norm.keys() else 0 for x in papers_by_team]\n",
    "    c5=np.array(c5)\n",
    "\n",
    "    with open(path_career+'significant_cores(c5norm)'+str(gsize)+'_time_ordered.pkl', 'wb') as f:\n",
    "        pickle.dump(c5, f)  \n",
    "    dict_papersteamsizes    \n",
    "        \n",
    "    pub_diversity=[dict_paper_to_discidiversity[x]  if x in dict_paper_to_discidiversity.keys() else np.nan for x in papers_by_team]\n",
    "    pub_diversity=np.array(pub_diversity)\n",
    "    \n",
    "    with open(path_career+'significant_cores(pub_diversity)'+str(gsize)+'_time_ordered.pkl', 'wb') as f:\n",
    "        pickle.dump(pub_diversity, f)  \n",
    "\n",
    "    \n",
    "    teamsizes=[dict_papersteamsizes[x]  if x in dict_papersteamsizes.keys() else np.nan for x in papers_by_team]\n",
    "    teamsizes=np.array(pub_diversity)\n",
    "    \n",
    "    with open(path_career+'significant_cores(teamsizes)'+str(gsize)+'_time_ordered.pkl', 'wb') as f:\n",
    "        pickle.dump(teamsizes, f)  \n",
    "\n",
    "     "
   ]
  },
  {
   "cell_type": "code",
   "execution_count": 240,
   "id": "fa8d0081-22e6-4f11-85bd-1074ac7b272d",
   "metadata": {},
   "outputs": [
    {
     "name": "stdout",
     "output_type": "stream",
     "text": [
      "9\r"
     ]
    }
   ],
   "source": [
    "t_ic = time.time();\n",
    "for gsize in range(2,10):\n",
    "    print(gsize,end='\\r')\n",
    "    \n",
    "    with open(path_career+'significant_cores(papers_shared)'+str(gsize)+'_time_ordered.pkl', 'rb') as f:\n",
    "        papers_by_team=pickle.load(f) \n",
    "    with open(path_career+'significant_cores(papers_shared)'+str(gsize)+'ind_time_ordered.pkl', 'rb') as f:\n",
    "        I=pickle.load(f) \n",
    "\n",
    "    \n",
    "    c5=[paper_to_c5norm[x]  if x in paper_to_c5norm.keys() else 0 for x in papers_by_team]\n",
    "    c5=np.array(c5)\n",
    "\n",
    "    with open(path_career+'significant_cores(c5norm)'+str(gsize)+'_time_ordered.pkl', 'wb') as f:\n",
    "        pickle.dump(c5, f)  \n",
    "    dict_papersteamsizes    \n",
    "        \n",
    "    pub_diversity=[dict_paper_to_discidiversity[x]  if x in dict_paper_to_discidiversity.keys() else np.nan for x in papers_by_team]\n",
    "    pub_diversity=np.array(pub_diversity)\n",
    "    \n",
    "    with open(path_career+'significant_cores(pub_diversity)'+str(gsize)+'_time_ordered.pkl', 'wb') as f:\n",
    "        pickle.dump(pub_diversity, f)  \n",
    "    \n",
    "    teamsizes=[dict_papersteamsizes[x]  if x in dict_papersteamsizes.keys() else np.nan for x in papers_by_team]\n",
    "    teamsizes=np.array(teamsizes)\n",
    "    \n",
    "    with open(path_career+'significant_cores(teamsizes)'+str(gsize)+'_time_ordered.pkl', 'wb') as f:\n",
    "        pickle.dump(teamsizes, f)  \n"
   ]
  },
  {
   "cell_type": "markdown",
   "id": "376af98f-df84-42bb-9310-0f334bfd8f6f",
   "metadata": {},
   "source": []
  },
  {
   "cell_type": "markdown",
   "id": "8bc80a55-96f4-4596-a499-4f24423d00a6",
   "metadata": {},
   "source": [
    "# work count union "
   ]
  },
  {
   "cell_type": "code",
   "execution_count": 241,
   "id": "c732670e-5e8b-4016-a038-f961563975cd",
   "metadata": {},
   "outputs": [],
   "source": [
    "with open(path_career+'dict_workcounts_per_year_for_authors.pkl', 'rb') as f:\n",
    "        dict_workcounts_per_year_for_authors=pickle.load(f)"
   ]
  },
  {
   "cell_type": "code",
   "execution_count": 242,
   "id": "5671f359-9491-4a87-99ff-0fcd5b0480ea",
   "metadata": {},
   "outputs": [
    {
     "data": {
      "text/plain": [
       "4000926"
      ]
     },
     "execution_count": 242,
     "metadata": {},
     "output_type": "execute_result"
    }
   ],
   "source": [
    "len(dict_workcounts_per_year_for_authors)"
   ]
  },
  {
   "cell_type": "code",
   "execution_count": 298,
   "id": "04733c76-9740-4b8f-b5e8-370e732a1231",
   "metadata": {},
   "outputs": [],
   "source": [
    "z=('https://openalex.org/A3050865049', 'https://openalex.org/A3052319308')"
   ]
  },
  {
   "cell_type": "code",
   "execution_count": 299,
   "id": "286746f5-b940-4ea1-b131-74d7db3eab32",
   "metadata": {},
   "outputs": [
    {
     "name": "stdout",
     "output_type": "stream",
     "text": [
      "{2002: 1, 2003: 2, 2005: 2, 2006: 2, 2007: 3, 2009: 1, 2010: 2, 2012: 2, 2013: 1, 2014: 2, 2015: 2, 2017: 1, 2019: 1} \n",
      "\n",
      "{2001: 2, 2002: 1, 2003: 2, 2006: 2, 2007: 2, 2009: 1, 2010: 2, 2011: 1, 2012: 2, 2013: 2, 2014: 2, 2015: 2, 2019: 2} \n",
      "\n"
     ]
    }
   ],
   "source": [
    "for x in z: \n",
    "    print(dict_workcounts_per_year_for_authors[x],'\\n')"
   ]
  },
  {
   "cell_type": "code",
   "execution_count": null,
   "id": "9f73ea77-1fe5-4dcf-99cb-121dea18d863",
   "metadata": {},
   "outputs": [],
   "source": [
    "first_paper_pubyear                                                    2002.003\n",
    "last_paper_pubyear                                                     2019.419"
   ]
  },
  {
   "cell_type": "code",
   "execution_count": 300,
   "id": "9ba5afdc-e0a9-45ad-a6cd-5d93d39fe3f8",
   "metadata": {},
   "outputs": [],
   "source": [
    "for gsize in range(2,3):\n",
    "    with open(path_career+'significant_cores(papers_shared)'+str(gsize)+'_time_ordered.pkl', 'rb') as f:\n",
    "        papers_by_team=pickle.load(f) \n",
    "    with open(path_career+'significant_cores(papers_shared)'+str(gsize)+'ind_time_ordered.pkl', 'rb') as f:\n",
    "        I=pickle.load(f) \n",
    "    "
   ]
  },
  {
   "cell_type": "code",
   "execution_count": 302,
   "id": "d2e2fdb8-46da-4ce1-8e5d-537fc651b3e3",
   "metadata": {},
   "outputs": [
    {
     "data": {
      "text/plain": [
       "array(['https://openalex.org/W951794421',\n",
       "       'https://openalex.org/W2267839044',\n",
       "       'https://openalex.org/W816716612',\n",
       "       'https://openalex.org/W1000008938',\n",
       "       'https://openalex.org/W2290065055',\n",
       "       'https://openalex.org/W3029631223',\n",
       "       'https://openalex.org/W71586038',\n",
       "       'https://openalex.org/W1524237555',\n",
       "       'https://openalex.org/W989279461',\n",
       "       'https://openalex.org/W864327006',\n",
       "       'https://openalex.org/W63928668',\n",
       "       'https://openalex.org/W2256192536',\n",
       "       'https://openalex.org/W989261951',\n",
       "       'https://openalex.org/W2277072878',\n",
       "       'https://openalex.org/W2340440295',\n",
       "       'https://openalex.org/W2972353304'], dtype='<U32')"
      ]
     },
     "execution_count": 302,
     "metadata": {},
     "output_type": "execute_result"
    }
   ],
   "source": [
    "papers_by_team[I[0]:I[1]]"
   ]
  },
  {
   "cell_type": "code",
   "execution_count": 303,
   "id": "eff38e11-87e6-45a0-beb9-52f5bac55930",
   "metadata": {},
   "outputs": [],
   "source": [
    "\n",
    "scientist='https://openalex.org/A3050865049' # \n",
    "\n"
   ]
  },
  {
   "cell_type": "code",
   "execution_count": 308,
   "id": "fe87929a-8c9d-48e4-a25d-96c9362af07a",
   "metadata": {},
   "outputs": [
    {
     "name": "stdout",
     "output_type": "stream",
     "text": [
      "2 0\n",
      "3 1\n",
      "4 1\n",
      "5 1\n",
      "6 1\n",
      "7 1\n",
      "8 1\n",
      "9 1\n"
     ]
    }
   ],
   "source": [
    "# list(significant_cores3[size].iloc[ind_Parisi,0])[1]\n",
    "# uas=[]\n",
    "import pandas as pd\n",
    "dfshow=pd.DataFrame()\n",
    "it=0;ind_Parisi=[]\n",
    "for gsize in range(2,10):\n",
    "    all_=list(significant_cores3[gsize]['group'])\n",
    "    print(gsize,it)\n",
    "    for it1 in range(len(all_)):\n",
    "        x=all_[it1]\n",
    "        if scientist in x:\n",
    "            ind_Parisi.append([gsize,it])\n",
    "            it=it+1\n",
    "#             print(x)\n",
    "#             print(significant_cores3[gsize].iloc[it1:it1+1])\n",
    "            dfshow=pd.concat([dfshow,significant_cores3[gsize].iloc[it1:it1+1]])\n"
   ]
  },
  {
   "cell_type": "code",
   "execution_count": 309,
   "id": "6d152d92-611d-4e8d-bda0-a1b011164fba",
   "metadata": {},
   "outputs": [
    {
     "data": {
      "text/html": [
       "<div>\n",
       "<style scoped>\n",
       "    .dataframe tbody tr th:only-of-type {\n",
       "        vertical-align: middle;\n",
       "    }\n",
       "\n",
       "    .dataframe tbody tr th {\n",
       "        vertical-align: top;\n",
       "    }\n",
       "\n",
       "    .dataframe thead th {\n",
       "        text-align: right;\n",
       "    }\n",
       "</style>\n",
       "<table border=\"1\" class=\"dataframe\">\n",
       "  <thead>\n",
       "    <tr style=\"text-align: right;\">\n",
       "      <th></th>\n",
       "      <th>group</th>\n",
       "      <th>pvalue</th>\n",
       "      <th>w</th>\n",
       "      <th>fdr</th>\n",
       "      <th>ni</th>\n",
       "      <th>N</th>\n",
       "      <th>size</th>\n",
       "      <th>first_paper_pubyear</th>\n",
       "      <th>last_paper_pubyear</th>\n",
       "      <th>core_diversity</th>\n",
       "      <th>member_first_pub</th>\n",
       "    </tr>\n",
       "  </thead>\n",
       "  <tbody>\n",
       "    <tr>\n",
       "      <th>33</th>\n",
       "      <td>(https://openalex.org/A3050865049, https://ope...</td>\n",
       "      <td>1.970952e-28</td>\n",
       "      <td>16</td>\n",
       "      <td>True</td>\n",
       "      <td>(22, 21)</td>\n",
       "      <td>3627</td>\n",
       "      <td>2</td>\n",
       "      <td>2019.419</td>\n",
       "      <td>2019.419</td>\n",
       "      <td>0.399983</td>\n",
       "      <td>[2002, 2001]</td>\n",
       "    </tr>\n",
       "  </tbody>\n",
       "</table>\n",
       "</div>"
      ],
      "text/plain": [
       "                                                group        pvalue   w   fdr  \\\n",
       "33  (https://openalex.org/A3050865049, https://ope...  1.970952e-28  16  True   \n",
       "\n",
       "          ni     N  size  first_paper_pubyear  last_paper_pubyear  \\\n",
       "33  (22, 21)  3627     2             2019.419            2019.419   \n",
       "\n",
       "    core_diversity member_first_pub  \n",
       "33        0.399983     [2002, 2001]  "
      ]
     },
     "execution_count": 309,
     "metadata": {},
     "output_type": "execute_result"
    }
   ],
   "source": [
    "dfshow"
   ]
  },
  {
   "cell_type": "code",
   "execution_count": null,
   "id": "ab07bf29-9a9c-4655-add9-9b8a5b691802",
   "metadata": {},
   "outputs": [],
   "source": []
  },
  {
   "cell_type": "code",
   "execution_count": 306,
   "id": "bcf38253-9da9-4515-afce-fb7e8adcf485",
   "metadata": {},
   "outputs": [],
   "source": [
    "# -----------------------------\n",
    "for gsize in range(2,10):\n",
    "\n",
    "    \n",
    "    with open(path_career+'dict_first_paper_pubyear'+str(gsize)+'.pkl', 'rb') as f:\n",
    "        x=pickle.load(f)\n",
    "\n",
    "    significant_cores3[gsize]['first_paper_pubyear']=x\n",
    "    with open(path_career+'dict_last_paper_pubyear'+str(gsize)+'.pkl', 'rb') as f:\n",
    "        y=pickle.load(f)\n",
    "    significant_cores3[gsize]['last_paper_pubyear']=y\n",
    "# -----------------------------"
   ]
  },
  {
   "cell_type": "code",
   "execution_count": 274,
   "id": "cc8da8d2-2ae1-4043-a16f-7242fcb25a0b",
   "metadata": {},
   "outputs": [],
   "source": [
    "import os\n",
    "import json\n",
    "\n",
    "# List all the JSON files in the current directory\n",
    "# names=path_career+'2authors_papersgrouped/*'\n",
    "# json_files=sorted(glob.glob(names))\n",
    "\n",
    "def calc_workcount_during_active_period(significant_cores3_sample2):\n",
    "    t_ic = time.time();\n",
    "    count_NOTFOUND=0\n",
    "    group=list(significant_cores3_sample2['group'])\n",
    "    from_=list(significant_cores3_sample2['first_paper_pubyear'])\n",
    "    to_=list(significant_cores3_sample2['last_paper_pubyear'])\n",
    "    wcUNION=[]\n",
    "    for it_auth in range(len(group)):\n",
    "        for it_member in range(len(group[it_auth])):\n",
    "            sum_count=0\n",
    "            if group[it_auth][it_member] in dict_workcounts_per_year_for_authors.keys():\n",
    "                for year in dict_workcounts_per_year_for_authors[group[it_auth][it_member]].keys():\n",
    "                    if (year>=from_[it_auth]) and (year<=to_[it_auth]):\n",
    "                        sum_count+=dict_workcounts_per_year_for_authors[group[it_auth][it_member]][year]\n",
    "            else:\n",
    "                count_NOTFOUND+=1\n",
    "        wcUNION.append(sum_count) \n",
    "\n",
    "\n",
    "        if (it_auth+1)%10000==0:\n",
    "            t_oc = time.time();\n",
    "            frac=it_auth/len(group)\n",
    "            prog=str(frac)+str(round(t_oc-t_ic,2))+', time estimate: '+str(round((t_oc-t_ic)/frac/3600,2))\n",
    "            print(prog,end='\\r')\n",
    "    \n",
    "    return wcUNION\n",
    "\n"
   ]
  },
  {
   "cell_type": "code",
   "execution_count": 275,
   "id": "07e70412-6b1f-44b1-91f5-377586b85e5e",
   "metadata": {},
   "outputs": [
    {
     "name": "stdout",
     "output_type": "stream",
     "text": [
      "0.99095181287708726.75, time estimate: 0.0000.84949091041479575.96, time estimate: 0.00.266791933621218672.48, time estimate: 0.0\r"
     ]
    }
   ],
   "source": [
    "json_files=[significant_cores3[k] for k in significant_cores3.keys()]\n",
    "# Create a pool of workers to process the files concurrently\n",
    "with Pool() as pool:\n",
    "    # Apply the processing function to each JSON file concurrently\n",
    "    results = pool.map(calc_workcount_during_active_period, json_files)\n",
    "\n",
    "\n",
    "work_counts_UNION={}\n",
    "for i,result in zip(range(2,10),results):\n",
    "    work_counts_UNION[i]=result\n",
    "    "
   ]
  },
  {
   "cell_type": "code",
   "execution_count": 276,
   "id": "5e2418b5-5d88-46e9-93d7-14e6d1385bbc",
   "metadata": {},
   "outputs": [],
   "source": [
    "\n",
    "with open(path_career+'work_counts_UNION.pkl', 'wb') as f:\n",
    "    pickle.dump(work_counts_UNION, f)  "
   ]
  },
  {
   "cell_type": "markdown",
   "id": "19760cf2-d12f-449f-a6b2-f8bd2154f418",
   "metadata": {},
   "source": [
    "# Paper disciplinary diversity of cores"
   ]
  },
  {
   "cell_type": "code",
   "execution_count": 250,
   "id": "c427ff3a-dd8a-440e-924c-cc4e6b7c9793",
   "metadata": {},
   "outputs": [
    {
     "name": "stdout",
     "output_type": "stream",
     "text": [
      "gs 9,0.956254272043745742.31, time estimate: 0.0122593\r"
     ]
    }
   ],
   "source": [
    "t_ic = time.time();\n",
    "core_diversity={}\n",
    "for gsize in range(2,10):\n",
    "    print(gsize,end='\\r')\n",
    "#     cores=significant_cores3[gsize]\n",
    "#     group=list(cores['group'])\n",
    "    \n",
    "#     with open(path_career+'significant_cores(papers_shared)'+str(gsize)+'_time_ordered.pkl', 'rb') as f:\n",
    "#         papers_by_team=pickle.load(f) \n",
    "    with open(path_career+'significant_cores(papers_shared)'+str(gsize)+'ind_time_ordered.pkl', 'rb') as f:\n",
    "        I=pickle.load(f) \n",
    "    with open(path_career+'significant_cores(pub_diversity)'+str(gsize)+'_time_ordered.pkl', 'rb') as f:\n",
    "        pub_diversity=pickle.load(f) \n",
    "\n",
    "    core_diversity[gsize]=[]\n",
    "    for n in range(len(I)-1):\n",
    "\n",
    "        a=pub_diversity[I[n]:I[n+1]]\n",
    "        core_diversity[gsize].append(np.nanmean(a))\n",
    "        \n",
    "        if (n+1)%100==0:\n",
    "            t_oc = time.time();\n",
    "            frac=n/len(I)\n",
    "            prog='gs '+str(gsize)+','+str(frac)+str(round(t_oc-t_ic,2))+', time estimate: '+str(round((t_oc-t_ic)/frac/3600,2))\n",
    "            print(prog,end='\\r') \n",
    "    significant_cores3[gsize]['core_diversity']=core_diversity[gsize]\n",
    "with open(path_career+'dict_significant_core_diversity.pkl', 'wb') as f:\n",
    "    pickle.dump(core_diversity, f) \n"
   ]
  },
  {
   "cell_type": "markdown",
   "id": "a0a3e7ce-c249-4c12-9709-5f9fcbe00822",
   "metadata": {},
   "source": [
    "# correlation impact vs  teamsizes"
   ]
  },
  {
   "cell_type": "code",
   "execution_count": null,
   "id": "443e574f-36f7-4dcb-af63-5b9291808409",
   "metadata": {
    "tags": []
   },
   "outputs": [
    {
     "name": "stdout",
     "output_type": "stream",
     "text": [
      "gs 2,0.00080457028265079630.2, time estimate: 0.071\r"
     ]
    },
    {
     "name": "stderr",
     "output_type": "stream",
     "text": [
      "/mnt/sdb1/sandeep/.local/lib/python3.9/site-packages/scipy/stats/stats.py:4264: SpearmanRConstantInputWarning: An input array is constant; the correlation coefficent is not defined.\n",
      "  warnings.warn(SpearmanRConstantInputWarning())\n"
     ]
    },
    {
     "name": "stdout",
     "output_type": "stream",
     "text": [
      "gs 2,0.729769504764754185.06, time estimate: 0.0333\r"
     ]
    }
   ],
   "source": [
    "corrimpactteamsize={}\n",
    "numpapers={}\n",
    "from scipy import stats\n",
    "\n",
    "\n",
    "for gsize in range(2,10):\n",
    "    t_ic = time.time();\n",
    "    print(gsize,end='\\r')\n",
    "    corrimpactteamsize[gsize]=[]\n",
    "    numpapers[gsize]=[]\n",
    "    with open(path_career+'significant_cores(c5norm)'+str(gsize)+'_time_ordered.pkl', 'rb') as f:\n",
    "        c5=pickle.load(f) \n",
    "    with open(path_career+'significant_cores(teamsizes)'+str(gsize)+'_time_ordered.pkl', 'rb') as f:\n",
    "        teamsizes=pickle.load(f) \n",
    "    with open(path_career+'significant_cores(papers_shared)'+str(gsize)+'ind_time_ordered.pkl', 'rb') as f:\n",
    "        I=pickle.load(f) \n",
    "    for n in range(len(I)-1):\n",
    "        corrimpactteamsize[gsize].append(stats.spearmanr(c5[I[n]:I[n+1]],teamsizes[I[n]:I[n+1]]))\n",
    "        numpapers[gsize].append(I[n+1]-I[n])\n",
    "        if (n+1)%100==0:\n",
    "            t_oc = time.time();\n",
    "            frac=n/len(I)\n",
    "            prog='gs '+str(gsize)+','+str(frac)+str(round(t_oc-t_ic,2))+', time estimate: '+str(round((t_oc-t_ic)/frac/3600,2))\n",
    "            print(prog,end='\\r')   \n",
    "#         a=papers_by_team[I[n]:I[n+1]]\n",
    "\n",
    "with open(path_career+'corrimpactteamsize.pkl', 'wb') as f:\n",
    "    pickle.dump(corrimpactteamsize, f)  \n",
    "with open(path_career+'corrimpactteamsizenumpapers.pkl', 'wb') as f:\n",
    "    pickle.dump(numpapers, f)  \n",
    "\n",
    "\n"
   ]
  },
  {
   "cell_type": "markdown",
   "id": "80e798c5-4399-460a-95af-42b94398e332",
   "metadata": {},
   "source": [
    "# calc formation of cores"
   ]
  },
  {
   "cell_type": "code",
   "execution_count": null,
   "id": "9f05bde2-ccdf-4d4c-8d1c-0166f8caae89",
   "metadata": {},
   "outputs": [],
   "source": [
    "# dict_pairs_firstpubtogether\n",
    "with open(path_career+'dict_pairs_firstpubtogether.pkl', 'rb') as f:\n",
    "    dict_pairs_firstpubtogether=pickle.load(f) "
   ]
  },
  {
   "cell_type": "code",
   "execution_count": null,
   "id": "37746c01-64dc-441e-8455-2714d5f0a14f",
   "metadata": {},
   "outputs": [],
   "source": [
    "with open(path_career+'dict_firstpub.pkl', 'rb') as f:\n",
    "    dict_firstpub=pickle.load(f) \n",
    "auth_to_firstpubyear=dict_firstpub\n",
    "\n",
    "with open(path_career+'dict_pubdate.pkl', 'rb') as f:\n",
    "    dict_pubdate=pickle.load(f) \n",
    "paper_to_pubyear=dict_pubdate"
   ]
  },
  {
   "cell_type": "code",
   "execution_count": null,
   "id": "0b92c1af-1ecf-4a47-8b46-832fdf6cb983",
   "metadata": {},
   "outputs": [],
   "source": []
  },
  {
   "cell_type": "code",
   "execution_count": null,
   "id": "0a0c8923-2c86-4111-800a-20808d20550b",
   "metadata": {},
   "outputs": [],
   "source": [
    "for gsize in range(2,10):\n",
    "    t_ic = time.time();\n",
    "\n",
    "\n",
    "    print(gsize,end='\\r')\n",
    "    group=list(significant_cores3[gsize]['group'])\n",
    "\n",
    "    Age1=[];Age2=[]\n",
    "    sfirstpubtogether=[]\n",
    "    smem_first=[]\n",
    "    for it_auth in range(len(group)):\n",
    "#         print(it_auth/len(group),end='\\r')\n",
    "\n",
    "        mem_first=[]\n",
    "        firstpubtogether=[]\n",
    "        a=group[it_auth]\n",
    "        for ii in range(len(a)):\n",
    "            try:\n",
    "                mem_first.append(int(dict_firstpub[a[ii]]))\n",
    "            except:\n",
    "                mem_first.append(np.nan)\n",
    "            for ii2 in range(ii+1,len(a)):\n",
    "                if a[ii2] in dict_pairs_firstpubtogether[a[ii]].keys():\n",
    "                    firstpubtogether.append(dict_pairs_firstpubtogether[a[ii]][a[ii2]]['first_year_together']);\n",
    "                else:\n",
    "                    firstpubtogether.append(np.nan)\n",
    "#             ages=[firstpubtogether-firstA1,firstpubtogether-firstA2];ages=sorted(ages)\n",
    "#             Age1.append(ages[0]);Age2.append(ages[1]);\n",
    "\n",
    "        sfirstpubtogether.append(firstpubtogether)\n",
    "        smem_first.append(mem_first)\n",
    "\n",
    "        if (it_auth+1)%100==0:\n",
    "            t_oc = time.time();\n",
    "            frac=it_auth/len(group)\n",
    "            prog=str(gsize)+'--- ',str(frac)+str(round(t_oc-t_ic,2))+', time estimate: '+str(round((t_oc-t_ic)/frac/3600,2))\n",
    "            print(prog,end='\\r')\n",
    "\n",
    "    \n",
    "\n",
    "#     significant_cores3[gsize]['sfirstpubtogether']=sfirstpubtogether\n",
    "    significant_cores3[gsize]['member_first_pub']=smem_first\n",
    "    with open(path_career+'sfirstpubtogether'+str(gsize)+'.pkl', 'wb') as f:\n",
    "        pickle.dump(sfirstpubtogether, f)  \n",
    "    with open(path_career+'smember_first_pub'+str(gsize)+'.pkl', 'wb') as f:\n",
    "        pickle.dump(smem_first, f)  \n"
   ]
  },
  {
   "cell_type": "markdown",
   "id": "df5583fb-687e-4380-94fd-0cab211aad01",
   "metadata": {},
   "source": [
    "# Non-core members identification"
   ]
  },
  {
   "cell_type": "code",
   "execution_count": null,
   "id": "f2cbb53a-0f70-43af-92bc-ed73e00e2768",
   "metadata": {},
   "outputs": [],
   "source": [
    "with open(path_career+'dict_paper_to_auth(whole).pkl', 'rb') as f:\n",
    "        dict_paper_to_auth=pickle.load(f)"
   ]
  },
  {
   "cell_type": "code",
   "execution_count": 259,
   "id": "021be28d-7701-404b-b96f-d0cc72cbc6ca",
   "metadata": {},
   "outputs": [
    {
     "name": "stdout",
     "output_type": "stream",
     "text": [
      "2\n",
      "3s 2,0.999846363463614462.29, time estimate: 0.0229\n",
      "4s 3,0.999969661022605556.76, time estimate: 0.02264\n",
      "5s 4,0.999714148505568438.02, time estimate: 0.01118\n",
      "6s 5,0.999200991130103716.47, time estimate: 0.0119\n",
      "7s 6,0.99920061666714246.0, time estimate: 0.00001\n",
      "8s 7,0.99358922990624242.39, time estimate: 0.0001\n",
      "9s 8,0.99054267056969150.97, time estimate: 0.000\n",
      "gs 9,0.95625427204374570.41, time estimate: 0.00\r"
     ]
    }
   ],
   "source": [
    "t_ic = time.time();\n",
    "path_career='/mnt/sdb1/sandeep/openalex_ACTIV/'\n",
    "\n",
    "for gsize in range(2,10):\n",
    "    NONCORES=[]\n",
    "    t_ic = time.time();\n",
    "    print(gsize)\n",
    "    cores=np.array(list(significant_cores3[gsize]['group']))\n",
    "    with open(path_career+'significant_cores(papers_shared)'+str(gsize)+'_time_ordered.pkl', 'rb') as f:\n",
    "        papers_by_team=pickle.load(f) \n",
    "    with open(path_career+'significant_cores(papers_shared)'+str(gsize)+'ind_time_ordered.pkl', 'rb') as f:\n",
    "        I=pickle.load(f) \n",
    "        \n",
    "    for n in range(len(I)-1):\n",
    "        papers=papers_by_team[I[n]:I[n+1]]\n",
    "        allauths=[dict_paper_to_auth[paper] for paper in papers]\n",
    "        core=cores[n]\n",
    "        for team in allauths: \n",
    "            noncores=[a for a in team if a not in core]   \n",
    "            NONCORES.append(noncores)\n",
    "        if (n+1)%100==0:\n",
    "            t_oc = time.time();\n",
    "            frac=n/len(I)\n",
    "            prog='gs '+str(gsize)+','+str(frac)+str(round(t_oc-t_ic,2))+', time estimate: '+str(round((t_oc-t_ic)/frac/3600,2))\n",
    "            print(prog,end='\\r') \n",
    "    with open(path_career+'significant_cores(non_cores)'+str(gsize)+'_time_ordered.pkl', 'wb') as f:\n",
    "        pickle.dump(NONCORES, f)"
   ]
  },
  {
   "cell_type": "code",
   "execution_count": 260,
   "id": "2733c560-a64f-45fb-8919-3ed9c3b6e093",
   "metadata": {},
   "outputs": [
    {
     "name": "stdout",
     "output_type": "stream",
     "text": [
      "2\n",
      "3\n",
      "4\n",
      "5\n",
      "6\n",
      "7\n",
      "8\n",
      "9\n"
     ]
    }
   ],
   "source": [
    "for gsize in range(2,10):\n",
    "    print(gsize)\n",
    "    with open(path_career+'significant_cores(non_cores)'+str(gsize)+'_time_ordered.pkl', 'rb') as f:\n",
    "        NONCORES=pickle.load(f)\n",
    "    num_noncore=[len(x) for x in NONCORES]\n",
    "    with open(path_career+'significant_cores(num_noncore)'+str(gsize)+'_time_ordered.pkl', 'wb') as f:\n",
    "        pickle.dump(num_noncore, f)"
   ]
  },
  {
   "cell_type": "code",
   "execution_count": 261,
   "id": "ba55ec8b-b757-42c2-9026-e8eb1f2a0075",
   "metadata": {},
   "outputs": [
    {
     "name": "stdout",
     "output_type": "stream",
     "text": [
      "2\n",
      "0.8518307520747852\n",
      "3\n",
      "1.2047351481307642\n",
      "4\n",
      "1.4006176420240528\n",
      "5\n",
      "1.1817391525288383\n",
      "6\n",
      "0.8630235917188253\n",
      "7\n",
      "0.567701978470045\n",
      "8\n",
      "0.2674689764304156\n",
      "9\n",
      "0.0\n"
     ]
    }
   ],
   "source": [
    "for gsize in range(2,10):\n",
    "    print(gsize)\n",
    "    with open(path_career+'significant_cores(num_noncore)'+str(gsize)+'_time_ordered.pkl', 'rb') as f:\n",
    "        num_noncore=pickle.load(f)\n",
    "    print(np.mean(num_noncore))"
   ]
  },
  {
   "cell_type": "code",
   "execution_count": 262,
   "id": "74c19a09-9f8c-404f-b28d-2546ae493f8d",
   "metadata": {},
   "outputs": [
    {
     "name": "stdout",
     "output_type": "stream",
     "text": [
      "2\n",
      "3175389 3175389\n",
      "3s 2,0.99984636346361442.17, time estimate: 0.00014\n",
      "2597131 2597131\n",
      "4s 3,0.99996966102260552.95, time estimate: 0.001156\n",
      "1442907 1442907\n",
      "5s 4,0.99971414850556841.72, time estimate: 0.000161\n",
      "551004 551004\n",
      "6s 5,0.99920099113010370.69, time estimate: 0.00012\n",
      "174468 174468\n",
      "7s 6,0.99920061666714240.18, time estimate: 0.0001\n",
      "64747 64747\n",
      "8s 7,0.99358922990624240.05, time estimate: 0.000\n",
      "24014 24014\n",
      "9s 8,0.99054267056969150.02, time estimate: 0.000\n",
      "9871 9871\n",
      "gs 9,0.95625427204374570.0, time estimate: 0.00\r"
     ]
    }
   ],
   "source": [
    "\n",
    "for gsize in range(2,10):\n",
    "    NONCORES_COMBINED=[]\n",
    "    NONCORES_COMBINED_UNIQUE=[]\n",
    "    t_ic = time.time();\n",
    "    print(gsize)\n",
    "\n",
    "    with open(path_career+'significant_cores(non_cores)'+str(gsize)+'_time_ordered.pkl', 'rb') as f:\n",
    "        NONCORES=pickle.load(f)\n",
    "    with open(path_career+'significant_cores(papers_shared)'+str(gsize)+'ind_time_ordered.pkl', 'rb') as f:\n",
    "        I=pickle.load(f) \n",
    "    print(I[-1],len(NONCORES))\n",
    "    for n in range(len(I)-1):\n",
    "        noncoremembers=NONCORES[I[n]:I[n+1]]\n",
    "        \n",
    "#         allauths=[dict_paper_to_auth[paper] for paper in papers]\n",
    "        y=[]        \n",
    "        for x in noncoremembers: \n",
    "            y=y+x\n",
    "        if (n+1)%100==0:\n",
    "            t_oc = time.time();\n",
    "            frac=n/len(I)\n",
    "            prog='gs '+str(gsize)+','+str(frac)+str(round(t_oc-t_ic,2))+', time estimate: '+str(round((t_oc-t_ic)/frac/3600,2))\n",
    "            print(prog,end='\\r')            \n",
    "        NONCORES_COMBINED.append(y)\n",
    "        NONCORES_COMBINED_UNIQUE.append(set(y))\n",
    "\n",
    "    with open(path_career+'significant_cores(NONCORES_COMBINED)'+str(gsize)+'_time_ordered.pkl', 'wb') as f:\n",
    "        pickle.dump(NONCORES_COMBINED, f)\n",
    "    with open(path_career+'significant_cores(NONCORES_COMBINED_UNIQUE)'+str(gsize)+'_time_ordered.pkl', 'wb') as f:\n",
    "        pickle.dump(NONCORES_COMBINED_UNIQUE, f)\n"
   ]
  },
  {
   "cell_type": "code",
   "execution_count": 263,
   "id": "01ab1916-acca-4121-8bdf-50f5fcedfc0e",
   "metadata": {},
   "outputs": [
    {
     "name": "stdout",
     "output_type": "stream",
     "text": [
      "2\n"
     ]
    },
    {
     "name": "stderr",
     "output_type": "stream",
     "text": [
      "<ipython-input-263-ccf622ec7f3a>:11: RuntimeWarning: invalid value encountered in true_divide\n",
      "  print(gsize,'---',np.mean(n),'--',np.mean(nunique),'--',np.nanmean(np.divide(nunique,n)))\n"
     ]
    },
    {
     "name": "stdout",
     "output_type": "stream",
     "text": [
      "2 --- 10.936111200957402 -- 6.5711542193615164 -- 0.6224441741044268\n",
      "3\n",
      "3 --- 9.492654911288561 -- 6.174322225188709 -- 0.6751366308209563\n",
      "4\n",
      "4 --- 7.7026256512674705 -- 5.231018435585979 -- 0.7029565217624191\n",
      "5\n",
      "5 --- 5.845771948252489 -- 4.032167129018647 -- 0.7214736872991709\n",
      "6\n",
      "6 --- 4.298806600810826 -- 3.061697025067093 -- 0.7492444240950799\n",
      "7\n",
      "7 --- 2.945744510338195 -- 2.145295720468024 -- 0.769473921350684\n",
      "8\n",
      "8 --- 1.4466216216216217 -- 1.0903153153153153 -- 0.7998696652185023\n",
      "9\n",
      "9 --- 0.0 -- 0.0 -- nan\n"
     ]
    },
    {
     "name": "stderr",
     "output_type": "stream",
     "text": [
      "<ipython-input-263-ccf622ec7f3a>:11: RuntimeWarning: Mean of empty slice\n",
      "  print(gsize,'---',np.mean(n),'--',np.mean(nunique),'--',np.nanmean(np.divide(nunique,n)))\n"
     ]
    }
   ],
   "source": [
    "\n",
    "for gsize in range(2,10):\n",
    "    t_ic = time.time();\n",
    "    print(gsize)\n",
    "\n",
    "    with open(path_career+'significant_cores(NONCORES_COMBINED)'+str(gsize)+'_time_ordered.pkl', 'rb') as f:\n",
    "        NONCORES_COMBINED=pickle.load(f)\n",
    "    with open(path_career+'significant_cores(NONCORES_COMBINED_UNIQUE)'+str(gsize)+'_time_ordered.pkl', 'rb') as f:\n",
    "        NONCORES_COMBINED_UNIQUE=pickle.load(f) \n",
    "    nunique=[len(x) for x in NONCORES_COMBINED_UNIQUE]\n",
    "    n=[len(x) for x in NONCORES_COMBINED]\n",
    "    print(gsize,'---',np.mean(n),'--',np.mean(nunique),'--',np.nanmean(np.divide(nunique,n)))"
   ]
  },
  {
   "cell_type": "code",
   "execution_count": null,
   "id": "ff51a22b-c286-43f6-94e1-5df26a241c9a",
   "metadata": {},
   "outputs": [],
   "source": []
  },
  {
   "cell_type": "code",
   "execution_count": null,
   "id": "c20f4c08-d727-4a6f-ae56-c6a4027b7287",
   "metadata": {},
   "outputs": [],
   "source": []
  },
  {
   "cell_type": "code",
   "execution_count": null,
   "id": "73774e6f-8b59-4d5a-95e8-d5df17229295",
   "metadata": {},
   "outputs": [],
   "source": []
  },
  {
   "cell_type": "code",
   "execution_count": 85,
   "id": "3405651d-ec72-4c03-8902-0d7828fcec96",
   "metadata": {},
   "outputs": [
    {
     "name": "stderr",
     "output_type": "stream",
     "text": [
      "<ipython-input-85-f7becba1ba38>:1: RuntimeWarning: invalid value encountered in true_divide\n",
      "  np.nanmean(np.divide(nunique,n))\n"
     ]
    },
    {
     "data": {
      "text/plain": [
       "0.7617152785345006"
      ]
     },
     "execution_count": 85,
     "metadata": {},
     "output_type": "execute_result"
    }
   ],
   "source": [
    "np.nanmean(np.divide(nunique,n))"
   ]
  },
  {
   "cell_type": "markdown",
   "id": "2bb3f2f1-8626-4ab4-a864-ecf7c7f65e2d",
   "metadata": {},
   "source": [
    "# Age calculation "
   ]
  },
  {
   "cell_type": "code",
   "execution_count": null,
   "id": "e7879ffc-e735-4384-98cc-16c81c420a69",
   "metadata": {},
   "outputs": [],
   "source": [
    "with open(path_career+'dict_firstpub.pkl', 'rb') as f:\n",
    "    dict_firstpub=pickle.load(f) "
   ]
  },
  {
   "cell_type": "code",
   "execution_count": null,
   "id": "2825eca4-2969-48ab-8c77-05628e728bec",
   "metadata": {},
   "outputs": [],
   "source": []
  },
  {
   "cell_type": "code",
   "execution_count": 264,
   "id": "eeeebc58-f604-4364-8988-68a054762042",
   "metadata": {},
   "outputs": [
    {
     "name": "stdout",
     "output_type": "stream",
     "text": [
      "2\n",
      "3s 2,0.999846363463614444.48, time estimate: 0.0115\n",
      "4s 3,0.999969661022605550.45, time estimate: 0.01268\n",
      "5s 4,0.999714148505568436.91, time estimate: 0.01117\n",
      "6s 5,0.999200991130103717.26, time estimate: 0.0119\n",
      "7s 6,0.99920061666714246.44, time estimate: 0.0001\n",
      "8s 7,0.99358922990624242.73, time estimate: 0.000\n",
      "9s 8,0.99054267056969151.16, time estimate: 0.000\n",
      "gs 9,0.95625427204374570.52, time estimate: 0.00\r"
     ]
    }
   ],
   "source": [
    "t_ic = time.time();\n",
    "path_career='/mnt/sdb1/sandeep/openalex_ACTIV/'\n",
    "\n",
    "for gsize in range(2,10):\n",
    "    t_ic = time.time();\n",
    "    print(gsize)\n",
    "    cores=np.array(list(significant_cores3[gsize]['group']))\n",
    "    with open(path_career+'significant_cores(pub_years)'+str(gsize)+'_time_ordered.pkl', 'rb') as f:\n",
    "        pub_years=pickle.load(f) \n",
    "    with open(path_career+'significant_cores(papers_shared)'+str(gsize)+'ind_time_ordered.pkl', 'rb') as f:\n",
    "        I=pickle.load(f) \n",
    "    ages=[]\n",
    "        \n",
    "    for n in range(len(I)-1):\n",
    "        pub_years_=pub_years[I[n]:I[n+1]]\n",
    "        core=cores[n]\n",
    "        ages_temp=[]\n",
    "        for pyear in pub_years_: \n",
    "            ages_temp.append([round(pyear-dict_firstpub.get(auth,np.nan),3) for auth in core]  ) \n",
    "        ages.append(ages_temp)\n",
    "        if (n+1)%100==0:\n",
    "            t_oc = time.time();\n",
    "            frac=n/len(I)\n",
    "            prog='gs '+str(gsize)+','+str(frac)+str(round(t_oc-t_ic,2))+', time estimate: '+str(round((t_oc-t_ic)/frac/3600,2))\n",
    "            print(prog,end='\\r') \n",
    "    A=np.concatenate(ages)\n",
    "\n",
    "    with open(path_career+'significant_cores(ages)'+str(gsize)+'_time_ordered.pkl', 'wb') as f:\n",
    "        pickle.dump(A, f)"
   ]
  },
  {
   "cell_type": "code",
   "execution_count": null,
   "id": "c517d2c3-04a1-4a69-9013-d40c87fac397",
   "metadata": {},
   "outputs": [],
   "source": []
  },
  {
   "cell_type": "code",
   "execution_count": null,
   "id": "acefabc2-f6fa-4cee-b654-e306c65d3fb7",
   "metadata": {},
   "outputs": [],
   "source": []
  },
  {
   "cell_type": "code",
   "execution_count": 203,
   "id": "ca74637a-3aec-4906-9f00-cc876327c586",
   "metadata": {},
   "outputs": [
    {
     "data": {
      "text/plain": [
       "13484"
      ]
     },
     "execution_count": 203,
     "metadata": {},
     "output_type": "execute_result"
    }
   ],
   "source": [
    "np.sum(A<0)"
   ]
  },
  {
   "cell_type": "code",
   "execution_count": 204,
   "id": "9b0ab6d0-eebb-4181-aff9-b85f0c02a633",
   "metadata": {},
   "outputs": [
    {
     "data": {
      "text/plain": [
       "array([ 4.547, 26.297, -1.703])"
      ]
     },
     "execution_count": 204,
     "metadata": {},
     "output_type": "execute_result"
    }
   ],
   "source": [
    "A[46]"
   ]
  },
  {
   "cell_type": "code",
   "execution_count": 172,
   "id": "76624904-6ffd-4373-9cee-6fe5fff6489d",
   "metadata": {},
   "outputs": [],
   "source": []
  },
  {
   "cell_type": "code",
   "execution_count": 200,
   "id": "96a648b3-c881-4358-99fa-bd8ddcd0777c",
   "metadata": {},
   "outputs": [
    {
     "name": "stdout",
     "output_type": "stream",
     "text": [
      "3\n"
     ]
    }
   ],
   "source": [
    "t_ic = time.time();\n",
    "path_career='/mnt/sdb1/sandeep/openalex_ACTIV/'\n",
    "\n",
    "for gsize in range(3,4):\n",
    "    NONCORES=[]\n",
    "    t_ic = time.time();\n",
    "    print(gsize)\n",
    "    cores=np.array(list(significant_cores3[gsize]['group']))\n",
    "    with open(path_career+'significant_cores(papers_shared)'+str(gsize)+'_time_ordered.pkl', 'rb') as f:\n",
    "        papers_by_team=pickle.load(f) \n",
    "    with open(path_career+'significant_cores(pub_years)'+str(gsize)+'_time_ordered.pkl', 'rb') as f:\n",
    "        pub_years=pickle.load(f) \n",
    "    with open(path_career+'significant_cores(papers_shared)'+str(gsize)+'ind_time_ordered.pkl', 'rb') as f:\n",
    "        I=pickle.load(f) \n",
    "    break"
   ]
  },
  {
   "cell_type": "code",
   "execution_count": null,
   "id": "6ebcd372-7486-4867-8457-fd636664a524",
   "metadata": {},
   "outputs": [],
   "source": []
  },
  {
   "cell_type": "code",
   "execution_count": 205,
   "id": "c992b629-22c6-4685-851c-ff3e228be933",
   "metadata": {},
   "outputs": [],
   "source": [
    "ind=np.where(A<0)"
   ]
  },
  {
   "cell_type": "code",
   "execution_count": 206,
   "id": "adbe1c0a-b629-4f3d-b9ed-e47e6e9bd9b1",
   "metadata": {},
   "outputs": [
    {
     "data": {
      "text/plain": [
       "46"
      ]
     },
     "execution_count": 206,
     "metadata": {},
     "output_type": "execute_result"
    }
   ],
   "source": [
    "ind[0][0]"
   ]
  },
  {
   "cell_type": "code",
   "execution_count": 207,
   "id": "e26d8ef3-e727-4372-a66b-31070d8955a0",
   "metadata": {},
   "outputs": [],
   "source": [
    "ineg=0\n",
    "for n_ in range(len(I)-1):\n",
    "    if ind[0][ineg]<I[n_]:\n",
    "        break"
   ]
  },
  {
   "cell_type": "code",
   "execution_count": 208,
   "id": "09a7aa5f-3297-4c62-ad34-b19c72a01fc1",
   "metadata": {},
   "outputs": [
    {
     "name": "stdout",
     "output_type": "stream",
     "text": [
      "['https://openalex.org/A1971919205' 'https://openalex.org/A4339652633'\n",
      " 'https://openalex.org/A4344922857']\n",
      "[2007.753, 1986.003, 2014.003]\n"
     ]
    }
   ],
   "source": [
    "print(cores[n_-1])\n",
    "print([dict_firstpub.get(auth,np.nan) for auth in cores[n_-1]])"
   ]
  },
  {
   "cell_type": "code",
   "execution_count": 209,
   "id": "49c2059f-3fb4-4f14-839f-748d60448c70",
   "metadata": {},
   "outputs": [
    {
     "name": "stdout",
     "output_type": "stream",
     "text": [
      "https://openalex.org/W2029349120\n"
     ]
    }
   ],
   "source": [
    "print(papers_by_team[ind[0][ineg]])"
   ]
  },
  {
   "cell_type": "code",
   "execution_count": 212,
   "id": "d0915438-37bb-40f8-b855-9f5458f2e29c",
   "metadata": {},
   "outputs": [
    {
     "data": {
      "text/plain": [
       "['https://openalex.org/A4339652633', 'https://openalex.org/A1971919205']"
      ]
     },
     "execution_count": 212,
     "metadata": {},
     "output_type": "execute_result"
    }
   ],
   "source": [
    "dict_paper_to_auth[papers_by_team[ind[0][ineg]]]"
   ]
  },
  {
   "cell_type": "code",
   "execution_count": 216,
   "id": "e292a7f5-0dd7-4658-a2ce-148a57c89324",
   "metadata": {},
   "outputs": [
    {
     "name": "stdout",
     "output_type": "stream",
     "text": [
      "['https://openalex.org/W2029349120' 'https://openalex.org/W4237081066'\n",
      " 'https://openalex.org/W2156013666' 'https://openalex.org/W2776331742'\n",
      " 'https://openalex.org/W1000030475' 'https://openalex.org/W2771298084'\n",
      " 'https://openalex.org/W2620237301' 'https://openalex.org/W2745398328'\n",
      " 'https://openalex.org/W2779141737' 'https://openalex.org/W2802958903'\n",
      " 'https://openalex.org/W3183281136' 'https://openalex.org/W3201988867']\n",
      "12\n"
     ]
    }
   ],
   "source": [
    "print(papers_by_team[I[n_-1]:I[n_]])\n",
    "print(len(papers_by_team[I[n_-1]:I[n_]]))"
   ]
  },
  {
   "cell_type": "code",
   "execution_count": 228,
   "id": "37497391-946e-43ff-bc81-62a2f9463635",
   "metadata": {},
   "outputs": [
    {
     "name": "stdout",
     "output_type": "stream",
     "text": [
      "12\n"
     ]
    }
   ],
   "source": [
    "x=[]\n",
    "for auth in cores[n_-1]:\n",
    "    x.append(dict_auth_to_paper[auth])\n",
    "y=x[0]\n",
    "for it1 in range(1,len(x)-1):\n",
    "    y=set(y).intersection(set(x[it1]))\n",
    "print(len(list(y)))\n"
   ]
  },
  {
   "cell_type": "code",
   "execution_count": null,
   "id": "34a78074-e74b-4f7d-8975-61869ce0bfa5",
   "metadata": {},
   "outputs": [],
   "source": []
  },
  {
   "cell_type": "code",
   "execution_count": 230,
   "id": "f4d75ac2-66f7-4b9e-9c8c-d289ece8cd71",
   "metadata": {},
   "outputs": [
    {
     "name": "stdout",
     "output_type": "stream",
     "text": [
      "8\n"
     ]
    }
   ],
   "source": [
    "x=[]\n",
    "for auth in cores[n_-1]:\n",
    "    papersinquestion=dict_auth_to_paper[auth]\n",
    "    papers_shared=[]\n",
    "    for p in papersinquestion:\n",
    "        pauths=dict_paper_to_auth[p]\n",
    "        if len(set(pauths).intersection(set(cores[n_-1])))==len(cores[n_-1]):\n",
    "            papers_shared.append(p)\n",
    "    \n",
    "    \n",
    "print(len(papers_shared))\n"
   ]
  },
  {
   "cell_type": "code",
   "execution_count": 225,
   "id": "e1e8ef4f-4f79-4efa-87b1-9e521803b595",
   "metadata": {},
   "outputs": [
    {
     "name": "stdout",
     "output_type": "stream",
     "text": [
      "False\n",
      "False\n",
      "True\n",
      "True\n",
      "True\n",
      "True\n",
      "True\n",
      "True\n",
      "False\n",
      "True\n",
      "True\n",
      "False\n"
     ]
    }
   ],
   "source": [
    "for x in papers_by_team[I[n_-1]:I[n_]]:\n",
    "    print( x in dict_auth_to_paper['https://openalex.org/A4344922857'])"
   ]
  },
  {
   "cell_type": "code",
   "execution_count": 231,
   "id": "98937205-b1b1-4956-8657-016a662ccc36",
   "metadata": {},
   "outputs": [
    {
     "name": "stdout",
     "output_type": "stream",
     "text": [
      "True\n",
      "True\n",
      "True\n",
      "True\n",
      "True\n",
      "True\n",
      "True\n",
      "True\n"
     ]
    }
   ],
   "source": [
    "\n",
    "for x in papers_shared:\n",
    "    print( x in dict_auth_to_paper['https://openalex.org/A4344922857'])"
   ]
  },
  {
   "cell_type": "markdown",
   "id": "b90f72ce-f812-4525-af30-e8eba5184ea9",
   "metadata": {},
   "source": [
    "## non-core age calculation"
   ]
  },
  {
   "cell_type": "code",
   "execution_count": null,
   "id": "e7884133-c24e-4ccf-a213-385ddd8a46a3",
   "metadata": {},
   "outputs": [
    {
     "name": "stdout",
     "output_type": "stream",
     "text": [
      "2\n",
      "3s 2,0.9998463634636144160.4, time estimate: 0.0447\n",
      "4s 3,0.9999696610226055188.79, time estimate: 0.057121\n",
      "gs 4,0.3925655743328226331.07, time estimate: 0.0244\r"
     ]
    }
   ],
   "source": [
    " t_ic = time.time();\n",
    "path_career='/mnt/sdb1/sandeep/openalex_ACTIV/'\n",
    "\n",
    "for gsize in range(2,10):\n",
    "    ages=[]\n",
    "    t_ic = time.time();\n",
    "    print(gsize)\n",
    "    cores=np.array(list(significant_cores3[gsize]['group']))\n",
    "    \n",
    "    with open(path_career+'significant_cores(non_cores)'+str(gsize)+'_time_ordered.pkl', 'rb') as f:\n",
    "        non_cores=pickle.load(f) \n",
    "    with open(path_career+'significant_cores(pub_years)'+str(gsize)+'_time_ordered.pkl', 'rb') as f:\n",
    "        pub_years=pickle.load(f) \n",
    "    with open(path_career+'significant_cores(papers_shared)'+str(gsize)+'ind_time_ordered.pkl', 'rb') as f:\n",
    "        I=pickle.load(f) \n",
    "        \n",
    "    for n in range(len(I)-1):\n",
    "        pub_years_=pub_years[I[n]:I[n+1]]\n",
    "        noncore=non_cores[n]\n",
    "        ages_temp=[]\n",
    "\n",
    "        for pyear in pub_years_: \n",
    "            ages_temp.append([round(pyear-dict_firstpub.get(auth,np.nan),3) for auth in core]  ) \n",
    "        ages.append(ages_temp)\n",
    "        if (n+1)%100==0:\n",
    "            t_oc = time.time();\n",
    "            frac=n/len(I)\n",
    "            prog='gs '+str(gsize)+','+str(frac)+str(round(t_oc-t_ic,2))+', time estimate: '+str(round((t_oc-t_ic)/frac/3600,2))\n",
    "            print(prog,end='\\r') \n",
    "    with open(path_career+'significant_cores(agesnoncore)'+str(gsize)+'_time_ordered.pkl', 'wb') as f:\n",
    "        pickle.dump(ages, f)\n"
   ]
  },
  {
   "cell_type": "code",
   "execution_count": null,
   "id": "93952166-0e2d-47f4-a7ef-217ccf0db72d",
   "metadata": {},
   "outputs": [],
   "source": []
  },
  {
   "cell_type": "code",
   "execution_count": 105,
   "id": "b25ac306-93c0-4c77-af48-42ae36b91883",
   "metadata": {},
   "outputs": [
    {
     "name": "stderr",
     "output_type": "stream",
     "text": [
      "<ipython-input-105-ba4ad3c932c6>:1: RuntimeWarning: Mean of empty slice\n",
      "  meannoncoreage=[np.nanmean(x) for x in agesnoncore]\n"
     ]
    }
   ],
   "source": [
    "meannoncoreage=np.array([np.nanmean(x) for x in agesnoncore])"
   ]
  },
  {
   "cell_type": "code",
   "execution_count": 108,
   "id": "68c515a1-5269-47cc-9671-afdc7e912ec4",
   "metadata": {},
   "outputs": [],
   "source": []
  },
  {
   "cell_type": "code",
   "execution_count": 111,
   "id": "a01ce882-a1f0-49e3-a663-45453e2c0d14",
   "metadata": {},
   "outputs": [
    {
     "data": {
      "text/plain": [
       "30.334340130691636"
      ]
     },
     "execution_count": 111,
     "metadata": {},
     "output_type": "execute_result"
    }
   ],
   "source": [
    "np.nanmean(meannoncoreage[meannoncoreage<60])"
   ]
  },
  {
   "cell_type": "code",
   "execution_count": 121,
   "id": "ceb0c1ac-aeef-4909-a950-d110387c5aeb",
   "metadata": {},
   "outputs": [
    {
     "name": "stderr",
     "output_type": "stream",
     "text": [
      "<ipython-input-121-1d77bd6cf8ad>:1: RuntimeWarning: Mean of empty slice\n",
      "  meancoreage=np.array([np.nanmean(x) for x in agescore])\n"
     ]
    }
   ],
   "source": [
    "meancoreage=np.array([np.nanmean(x) for x in agescore])"
   ]
  },
  {
   "cell_type": "code",
   "execution_count": 131,
   "id": "27d90baf-aa5b-4ed8-8363-d1a8ee09dd85",
   "metadata": {},
   "outputs": [
    {
     "data": {
      "text/plain": [
       "32.87256816212833"
      ]
     },
     "execution_count": 131,
     "metadata": {},
     "output_type": "execute_result"
    }
   ],
   "source": [
    "np.nanmean(meancoreage[meancoreage<100])"
   ]
  },
  {
   "cell_type": "markdown",
   "id": "6f211daa-e165-4aef-b3bb-b2504b5db183",
   "metadata": {},
   "source": [
    "while cores consist of younger members on average than the non core members"
   ]
  },
  {
   "cell_type": "markdown",
   "id": "87a71a19-e890-453a-965c-6ac4ddaf5b48",
   "metadata": {},
   "source": [
    "on average non-core members are typically quite experienced ~30.3 years into academia"
   ]
  },
  {
   "cell_type": "code",
   "execution_count": 123,
   "id": "a6d6f89b-e06f-4cc3-9b68-579ff586159c",
   "metadata": {},
   "outputs": [],
   "source": [
    "maxcoreage=np.array([np.max(x)  if (len(x)>0) else np.nan for x in agescore])"
   ]
  },
  {
   "cell_type": "code",
   "execution_count": 130,
   "id": "78806b65-6f46-4368-99a6-e915c7528463",
   "metadata": {},
   "outputs": [
    {
     "data": {
      "text/plain": [
       "38.327055585479286"
      ]
     },
     "execution_count": 130,
     "metadata": {},
     "output_type": "execute_result"
    }
   ],
   "source": [
    "np.nanmean(maxcoreage[maxcoreage<60])\n",
    "np.nanmean(maxcoreage[maxcoreage<100])"
   ]
  },
  {
   "cell_type": "code",
   "execution_count": 125,
   "id": "d9ab4dff-2ebe-4c06-91a2-aef7cbcb2fa5",
   "metadata": {},
   "outputs": [],
   "source": [
    "mincoreage=np.array([np.min(x)  if (len(x)>0) else np.nan for x in agescore])"
   ]
  },
  {
   "cell_type": "code",
   "execution_count": 126,
   "id": "4ebd0ba0-6fc7-4864-adfe-a79caf4972c5",
   "metadata": {},
   "outputs": [
    {
     "data": {
      "text/plain": [
       "23.81997534667417"
      ]
     },
     "execution_count": 126,
     "metadata": {},
     "output_type": "execute_result"
    }
   ],
   "source": [
    "np.nanmean(mincoreage[mincoreage<60])"
   ]
  },
  {
   "cell_type": "code",
   "execution_count": 101,
   "id": "a0d58980-0f3e-4980-a6ee-d59ad1b3e59d",
   "metadata": {},
   "outputs": [],
   "source": [
    "sortedagescore=[sorted(x) for x in agescore]"
   ]
  },
  {
   "cell_type": "code",
   "execution_count": null,
   "id": "c2fcbf81-9eaa-4d1b-8951-5041d0fdb055",
   "metadata": {},
   "outputs": [],
   "source": []
  },
  {
   "cell_type": "code",
   "execution_count": null,
   "id": "f6041d32-8f14-40fd-962a-4c32738a6f99",
   "metadata": {},
   "outputs": [],
   "source": []
  }
 ],
 "metadata": {
  "kernelspec": {
   "display_name": "Python 3",
   "language": "python",
   "name": "python3"
  },
  "language_info": {
   "codemirror_mode": {
    "name": "ipython",
    "version": 3
   },
   "file_extension": ".py",
   "mimetype": "text/x-python",
   "name": "python",
   "nbconvert_exporter": "python",
   "pygments_lexer": "ipython3",
   "version": "3.9.2"
  }
 },
 "nbformat": 4,
 "nbformat_minor": 5
}
