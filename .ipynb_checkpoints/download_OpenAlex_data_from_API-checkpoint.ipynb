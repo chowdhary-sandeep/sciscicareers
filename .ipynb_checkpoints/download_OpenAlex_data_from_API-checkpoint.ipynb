{
 "cells": [
  {
   "cell_type": "code",
   "execution_count": 10,
   "id": "ee74f6cf-ff65-4eb8-8409-7541e81f7d20",
   "metadata": {},
   "outputs": [],
   "source": [
    "import glob\n",
    "import time\n",
    "import timeit\n",
    "import pickle\n",
    "import requests\n",
    "import json\n",
    "import re\n",
    "import numpy as np\n",
    "import pandas as pd\n",
    "from multiprocessing import Pool\n",
    "from matplotlib import pyplot as plt\n",
    "from zipfile import ZipFile\n",
    "import lxml.etree as etree\n",
    "import xmlschema\n",
    "from pprint import pprint\n",
    "\n",
    "# If 'get_career' is a custom module you've created, keep this import\n",
    "from get_career import *\n",
    "\n",
    "# Define 'toc' function once\n",
    "def toc(start_time):\n",
    "    elapsed = timeit.default_timer() - start_time\n",
    "    print(elapsed)\n",
    "\n",
    "# Record start time\n",
    "start_time = timeit.default_timer()\n",
    "\n",
    "import math\n",
    "import matplotlib as mpl\n",
    "import seaborn as sns\n",
    "import matplotlib.cm as cm\n",
    "import pickle\n",
    "import numpy as np\n",
    "import matplotlib.pyplot as plt\n",
    "from matplotlib import gridspec\n",
    "import matplotlib.transforms as mtransforms\n",
    "import pandas as pd\n",
    "%matplotlib inline\n",
    "%config InlineBackend.figure_format = 'svg'\n",
    "sns.set_context('talk')#, font_scale=1.5)\n",
    "mpl.rcParams.update({'text.usetex': False})\n",
    "from pandas.plotting import register_matplotlib_converters\n",
    "register_matplotlib_converters()\n",
    "path_career='/mnt/sdb1/sandeep/openalex_ACTIV/'\n",
    "# GB_INLCUDED_OR_NOT='GB_NOT_INCLUDED'\n",
    "import matplotlib.pyplot as plt\n",
    "import seaborn as sns\n",
    "import matplotlib.gridspec as gridspec"
   ]
  },
  {
   "cell_type": "markdown",
   "id": "a5f7f354-464f-4e06-995e-40a49f538205",
   "metadata": {},
   "source": [
    "search in browser:\n",
    "    https://api.openalex.org/institutions?search=IISER"
   ]
  },
  {
   "cell_type": "code",
   "execution_count": null,
   "id": "0bc61b5b-5cdd-478c-8d94-0aa5729c5db0",
   "metadata": {},
   "outputs": [],
   "source": []
  },
  {
   "cell_type": "code",
   "execution_count": null,
   "id": "2740a252-beb6-485e-9302-4e46457a3512",
   "metadata": {},
   "outputs": [],
   "source": []
  },
  {
   "cell_type": "markdown",
   "id": "597bc81f-0092-4462-aed0-0be2854e3329",
   "metadata": {},
   "source": [
    "# FUNCTIONS"
   ]
  },
  {
   "cell_type": "code",
   "execution_count": 35,
   "id": "2ff7e9b4-0bb6-4722-ace6-d30f830493fd",
   "metadata": {},
   "outputs": [],
   "source": [
    "def extract_paper_details(papers):\n",
    "    pubyears = []\n",
    "    institutions = []\n",
    "    countries = []\n",
    "    authors=[]\n",
    "    for paper in papers:\n",
    "        # Extract publication year\n",
    "        pubyears.append(paper.get('publication_year', None))\n",
    "\n",
    "        # Extract country codes and institutions\n",
    "        paper_countries = []\n",
    "        paper_institutions = []\n",
    "        paper_authors=[]\n",
    "        \n",
    "        for authorship in paper.get('authorships', []):\n",
    "\n",
    "            for inst in authorship.get('institutions', []):\n",
    "                if 'country_code' in inst:\n",
    "                    paper_countries.append(inst['country_code'])\n",
    "                if 'display_name' in inst:\n",
    "                    paper_institutions.append(inst['display_name'])\n",
    "#         authors.append(paper_authors)\n",
    "        countries.append(paper_countries)\n",
    "        institutions.append(paper_institutions)\n",
    "\n",
    "    return pubyears, institutions, countries,authors\n",
    "\n",
    "\n",
    "# pubyears, institutions, countries = extract_paper_details(papers)\n",
    "\n",
    "# Now you have three lists: pubyears, institutions, and countries\n"
   ]
  },
  {
   "cell_type": "code",
   "execution_count": null,
   "id": "905ebc58-386d-4a50-bd41-3a3ba132e170",
   "metadata": {},
   "outputs": [],
   "source": []
  },
  {
   "cell_type": "code",
   "execution_count": null,
   "id": "3d740cb8-2c32-46cf-8366-1ecf3c60648f",
   "metadata": {},
   "outputs": [],
   "source": []
  },
  {
   "cell_type": "markdown",
   "id": "3fc26e0d-181b-4edd-9644-fad5d361dc73",
   "metadata": {},
   "source": [
    "# IISERs "
   ]
  },
  {
   "cell_type": "markdown",
   "id": "6a3b8a09-9617-4e1f-b0dc-c3274889c129",
   "metadata": {},
   "source": [
    "https://api.openalex.org/institutions?search=indian%20institute%20of%20science%20education%20research"
   ]
  },
  {
   "cell_type": "markdown",
   "id": "e3a5eb27-121e-4909-a19d-43423150ebad",
   "metadata": {},
   "source": [
    "id: \"https://openalex.org/I181996519\",\n",
    "id: \"https://openalex.org/I127439422\",\n",
    "id: \"https://openalex.org/I165916956\",\n",
    "id: \"https://openalex.org/I288749910\",\n",
    "id: \"https://openalex.org/I4210140410\",\n",
    "id: \"https://openalex.org/I50557253\",\n",
    "id: \"https://openalex.org/I4210115612\",\n"
   ]
  },
  {
   "cell_type": "code",
   "execution_count": 24,
   "id": "6c03bfdd-60ff-4e8d-97f9-dcd8b4273d4e",
   "metadata": {},
   "outputs": [
    {
     "data": {
      "text/plain": [
       "'https://api.openalex.org/works?filter=institutions.id:I181996519'"
      ]
     },
     "execution_count": 24,
     "metadata": {},
     "output_type": "execute_result"
    }
   ],
   "source": [
    "url"
   ]
  },
  {
   "cell_type": "code",
   "execution_count": 13,
   "id": "fb278113-0cd2-4b95-94e9-e641072f7d3f",
   "metadata": {},
   "outputs": [
    {
     "name": "stdout",
     "output_type": "stream",
     "text": [
      "1.061538461538461664\r"
     ]
    }
   ],
   "source": [
    "insti_id=\"I181996519\"\n",
    "\n",
    "url='https://api.openalex.org/works?filter=institutions.id:'+insti_id\n",
    "headers = {\n",
    "        'User-Agent': 'chowdhary_sandeep',\n",
    "        'From': 'chowdhary_sandeep@phd.ceu.edu'  # This is another valid field\n",
    "    }\n",
    "\n",
    "        \n",
    "cursor='*'\n",
    "works_=[];it=0\n",
    "response = requests.get(url+'&per-page=200&cursor='+cursor,headers=headers)\n",
    "res = json.loads(response.content.decode(\"utf-8\"))\n",
    "works_.append(res)\n",
    "totalpages=math.ceil(res['meta']['count']/200)\n",
    "\n",
    "while not(res['meta']['next_cursor'] is None):\n",
    "    it+=1\n",
    "    print(it/totalpages,end='\\r')\n",
    "    cursor=res['meta']['next_cursor']\n",
    "    try:\n",
    "        response = requests.get(url+'&per-page=200&cursor='+cursor,headers=headers)\n",
    "        response.raise_for_status()  # raises exception when not a 2xx response\n",
    "\n",
    "    except:\n",
    "        response = requests.get(url+'&per-page=50&cursor='+cursor,headers=headers)\n",
    "        response.raise_for_status()  # raises exception when not a 2xx response\n",
    "    if response.status_code != 204:\n",
    "#                             res= response.json()                            \n",
    "        res = json.loads(response.content.decode(\"utf-8\"))\n",
    "\n",
    "        if len(res['results'])>0:\n",
    "            works_.append(res)\n",
    "papers=[works['results'] for works in works_]\n",
    "papers=np.concatenate(papers)\n",
    "with open(path_career+'works_'+insti_id+'.pkl', 'wb') as f:\n",
    "    pickle.dump(papers, f) \n"
   ]
  },
  {
   "cell_type": "code",
   "execution_count": 27,
   "id": "67488543-4c0c-4be0-830d-2bbed093da98",
   "metadata": {},
   "outputs": [],
   "source": [
    "# works_IISER[0]\n",
    "\n"
   ]
  },
  {
   "cell_type": "code",
   "execution_count": 15,
   "id": "08dc519e-08bd-472b-9293-d5aad86be2ac",
   "metadata": {},
   "outputs": [],
   "source": [
    "with open(path_career+'works_'+insti_id+'.pkl', 'rb') as f:\n",
    "    works_IISER=pickle.load(f) \n"
   ]
  },
  {
   "cell_type": "code",
   "execution_count": 16,
   "id": "897888a5-5ec6-47fb-95bf-3cf155364ed0",
   "metadata": {},
   "outputs": [
    {
     "data": {
      "text/plain": [
       "5199"
      ]
     },
     "execution_count": 16,
     "metadata": {},
     "output_type": "execute_result"
    }
   ],
   "source": [
    "len(works_IISER)"
   ]
  },
  {
   "cell_type": "code",
   "execution_count": 36,
   "id": "586a8c6c-c161-4ab8-9e16-af3ed30d7558",
   "metadata": {},
   "outputs": [
    {
     "ename": "ValueError",
     "evalue": "too many values to unpack (expected 3)",
     "output_type": "error",
     "traceback": [
      "\u001b[0;31m---------------------------------------------------------------------------\u001b[0m",
      "\u001b[0;31mValueError\u001b[0m                                Traceback (most recent call last)",
      "\u001b[0;32m<ipython-input-36-f24941117122>\u001b[0m in \u001b[0;36m<module>\u001b[0;34m\u001b[0m\n\u001b[0;32m----> 1\u001b[0;31m \u001b[0mpubyears\u001b[0m\u001b[0;34m,\u001b[0m \u001b[0minstitutions\u001b[0m\u001b[0;34m,\u001b[0m \u001b[0mcountries\u001b[0m \u001b[0;34m=\u001b[0m \u001b[0mextract_paper_details\u001b[0m\u001b[0;34m(\u001b[0m\u001b[0mworks_IISER\u001b[0m\u001b[0;34m)\u001b[0m\u001b[0;34m\u001b[0m\u001b[0;34m\u001b[0m\u001b[0m\n\u001b[0m",
      "\u001b[0;31mValueError\u001b[0m: too many values to unpack (expected 3)"
     ]
    }
   ],
   "source": [
    "pubyears, institutions, countries = extract_paper_details(works_IISER)\n"
   ]
  },
  {
   "cell_type": "code",
   "execution_count": null,
   "id": "ab273168-43be-4126-8803-f9ea67a95f35",
   "metadata": {},
   "outputs": [],
   "source": []
  },
  {
   "cell_type": "code",
   "execution_count": null,
   "id": "699c61ff-9226-4fb8-811b-8b3508a6f3a8",
   "metadata": {},
   "outputs": [],
   "source": []
  },
  {
   "cell_type": "code",
   "execution_count": 17,
   "id": "d2f5d028-e91d-4278-a349-fd53359bdb69",
   "metadata": {},
   "outputs": [],
   "source": [
    "# pubyears, institutions, countries = extract_paper_details(works_IISER)\n",
    "\n",
    "# fractions, team_sizes = calculate_austrian_collaboration_fraction_and_team_size(institutions, countries)\n",
    "# fractions=np.array(fractions)\n",
    "# fractions, team_sizes, stats = calculate_collaboration_stats(pubyears, institutions, countries, country_code)\n",
    "# stats"
   ]
  },
  {
   "cell_type": "code",
   "execution_count": 20,
   "id": "a8d0f78a-cd04-4c52-8748-99ded935225c",
   "metadata": {},
   "outputs": [],
   "source": [
    "pubyears, institutions, countries = extract_paper_details(works_IISER)\n"
   ]
  },
  {
   "cell_type": "code",
   "execution_count": 23,
   "id": "2cb9a405-888e-4922-99e6-d92dbf7dc55b",
   "metadata": {},
   "outputs": [],
   "source": [
    "# institutions"
   ]
  },
  {
   "cell_type": "code",
   "execution_count": null,
   "id": "d6a62ae1-e699-4ecb-a863-f9205d86d7b9",
   "metadata": {},
   "outputs": [],
   "source": []
  },
  {
   "cell_type": "code",
   "execution_count": null,
   "id": "7d433803-578f-47c7-aeb4-3d08834bac0e",
   "metadata": {},
   "outputs": [],
   "source": []
  },
  {
   "cell_type": "code",
   "execution_count": null,
   "id": "33a13fcf-5bdc-4b49-bda9-54fdc4aa0ad6",
   "metadata": {},
   "outputs": [],
   "source": []
  }
 ],
 "metadata": {
  "kernelspec": {
   "display_name": "Python 3",
   "language": "python",
   "name": "python3"
  },
  "language_info": {
   "codemirror_mode": {
    "name": "ipython",
    "version": 3
   },
   "file_extension": ".py",
   "mimetype": "text/x-python",
   "name": "python",
   "nbconvert_exporter": "python",
   "pygments_lexer": "ipython3",
   "version": "3.9.2"
  }
 },
 "nbformat": 4,
 "nbformat_minor": 5
}
