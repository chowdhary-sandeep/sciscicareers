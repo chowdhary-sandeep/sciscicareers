{
 "cells": [
  {
   "cell_type": "code",
   "execution_count": 46,
   "id": "a3699651-f987-469b-94ac-06f98dde4356",
   "metadata": {},
   "outputs": [],
   "source": [
    "import numpy as np\n",
    "from multiprocessing import Pool\n",
    "import requests, json\n",
    "import pandas as pd\n",
    "import glob\n",
    "import timeit\n",
    "import time\n",
    "from multiprocessing import Pool\n",
    "import numpy as np\n",
    "def toc(start_time):\n",
    "    elapsed = timeit.default_timer() - start_time\n",
    "    print(elapsed)\n",
    "from zipfile import ZipFile\n",
    "import re\n",
    "import xmlschema\n",
    "from pprint import pprint\n",
    "import glob\n",
    "# importing element tree\n",
    "import lxml.etree as etree\n",
    "import pickle\n",
    "from matplotlib import pyplot as plt\n",
    "%matplotlib inline\n",
    "\n",
    "plt.rcParams.update({'font.size': 8, 'font.style': 'normal', 'font.family':'serif'})\n",
    "%config InlineBackend.figure_format = 'svg'"
   ]
  },
  {
   "cell_type": "code",
   "execution_count": 47,
   "id": "8b5667fb-fa3c-4b77-80b8-b0d6caabc7e4",
   "metadata": {},
   "outputs": [],
   "source": [
    "import pickle\n",
    "path_career='/mnt/sdb1/sandeep/openalex_ACTIV/'\n",
    "\n",
    "\n",
    "with open(path_career+'dict_pubdate.pkl', 'rb') as f:\n",
    "    dict_pubyear=pickle.load(f) \n",
    "paper_to_pubyear=dict_pubyear\n",
    "\n",
    "\n",
    "    "
   ]
  },
  {
   "cell_type": "code",
   "execution_count": 35,
   "id": "410a33aa-8435-47e8-b873-26ed46d4aa85",
   "metadata": {},
   "outputs": [],
   "source": []
  },
  {
   "cell_type": "code",
   "execution_count": 36,
   "id": "c84918ed-3929-44bd-8855-c057e419ecbd",
   "metadata": {},
   "outputs": [],
   "source": []
  },
  {
   "cell_type": "code",
   "execution_count": null,
   "id": "2b1b8fc7-cbd1-402d-bb5c-a868d8e03090",
   "metadata": {},
   "outputs": [],
   "source": []
  },
  {
   "cell_type": "code",
   "execution_count": 37,
   "id": "0486d33f-d2b0-4a12-83ae-fc4cad3fd3c6",
   "metadata": {},
   "outputs": [],
   "source": []
  },
  {
   "cell_type": "code",
   "execution_count": 50,
   "id": "425acf15-054d-4de3-bd8d-c279dffedb64",
   "metadata": {},
   "outputs": [
    {
     "name": "stdout",
     "output_type": "stream",
     "text": [
      "gs 7,0.99848760814414881741.81, time estimate: 0.4876237651\r"
     ]
    }
   ],
   "source": [
    "t_ic = time.time();\n",
    "for gsize in range(2,8):\n",
    "\n",
    "    with open(path_career+'significant_cores(papers_shared)'+str(gsize)+'.pkl', 'rb') as f:\n",
    "        papers_by_team=pickle.load(f) \n",
    "    with open(path_career+'significant_cores(papers_shared)'+str(gsize)+'_ind.pkl', 'rb') as f:\n",
    "        I=pickle.load(f) \n",
    "    print(gsize,end='\\r')\n",
    "    pub_years=[paper_to_pubyear['https://openalex.org/'+x]  if 'https://openalex.org/'+x in paper_to_pubyear.keys() else 0 for x in papers_by_team]\n",
    "    pub_years=np.array(pub_years)\n",
    "\n",
    "\n",
    "    for n in range(len(I)-1):\n",
    "\n",
    "        a=papers_by_team[I[n]:I[n+1]]\n",
    "        b=pub_years[I[n]:I[n+1]]\n",
    "        z=sorted(zip(b,a))\n",
    "        zpapers = [x for _,x in z]\n",
    "        zyears=[_ for _,x in z]\n",
    "        papers_by_team[I[n]:I[n+1]]=zpapers\n",
    "        pub_years[I[n]:I[n+1]]=zyears\n",
    "\n",
    "        if (n+1)%100==0:\n",
    "            t_oc = time.time();\n",
    "            frac=n/len(I)\n",
    "            prog='gs '+str(gsize)+','+str(frac)+str(round(t_oc-t_ic,2))+', time estimate: '+str(round((t_oc-t_ic)/frac/3600,2))\n",
    "            print(prog,end='\\r') \n",
    "\n",
    "    with open(path_career+'significant_cores(papers_shared)'+str(gsize)+'_time_ordered.pkl', 'wb') as f:\n",
    "        pickle.dump(papers_by_team, f)  \n",
    "    with open(path_career+'significant_cores(pub_years)'+str(gsize)+'_time_ordered.pkl', 'wb') as f:\n",
    "        pickle.dump(pub_years, f)  \n",
    "    with open(path_career+'significant_cores(papers_shared)'+str(gsize)+'ind_time_ordered.pkl', 'wb') as f:\n",
    "        pickle.dump(I, f)  \n",
    "\n"
   ]
  },
  {
   "cell_type": "code",
   "execution_count": 51,
   "id": "836c8c7a-6260-47c8-9d62-df3bc0e42a27",
   "metadata": {},
   "outputs": [
    {
     "data": {
      "text/plain": [
       "array([1992.889, 1993.503, 1994.375, 1994.375, 1994.375, 1994.722,\n",
       "       1995.389, 1995.389])"
      ]
     },
     "execution_count": 51,
     "metadata": {},
     "output_type": "execute_result"
    }
   ],
   "source": [
    "pub_years[I[n]:I[n+1]]"
   ]
  },
  {
   "cell_type": "code",
   "execution_count": 53,
   "id": "855c25f7-0820-48a0-8782-a9f2106c4447",
   "metadata": {},
   "outputs": [],
   "source": [
    "with open(path_career+'dict_c5_norm.pkl', 'rb') as f:\n",
    "    dict_c5_norm=pickle.load(f) \n",
    "paper_to_c5norm=dict_c5_norm"
   ]
  },
  {
   "cell_type": "code",
   "execution_count": null,
   "id": "652e0ec5-6b7e-4507-9a17-166d38252af0",
   "metadata": {},
   "outputs": [
    {
     "name": "stdout",
     "output_type": "stream",
     "text": [
      "2\r"
     ]
    }
   ],
   "source": [
    "t_ic = time.time();\n",
    "for gsize in range(2,8):\n",
    "\n",
    "    with open(path_career+'significant_cores(papers_shared)'+str(gsize)+'_time_ordered.pkl', 'rb') as f:\n",
    "        papers_by_team=pickle.load(f) \n",
    "    with open(path_career+'significant_cores(papers_shared)'+str(gsize)+'ind_time_ordered.pkl', 'rb') as f:\n",
    "        I=pickle.load(f) \n",
    "    print(gsize,end='\\r')\n",
    "    c5=[paper_to_c5norm['https://openalex.org/'+x]  if 'https://openalex.org/'+x in paper_to_c5norm.keys() else 0 for x in papers_by_team]\n",
    "    c5=np.array(c5)\n",
    "\n",
    "    with open(path_career+'significant_cores(c5norm)'+str(gsize)+'_time_ordered.pkl', 'wb') as f:\n",
    "        pickle.dump(c5, f)  \n"
   ]
  },
  {
   "cell_type": "code",
   "execution_count": null,
   "id": "7b60405f-dc88-41f4-8c88-dcdffa6f2d87",
   "metadata": {},
   "outputs": [],
   "source": [
    "sum(c5>0)/len(c5)"
   ]
  },
  {
   "cell_type": "code",
   "execution_count": null,
   "id": "9b6f6b06-69b3-4184-8117-ab0ff7e26d3f",
   "metadata": {},
   "outputs": [],
   "source": [
    "pub_year=[]\n"
   ]
  },
  {
   "cell_type": "code",
   "execution_count": null,
   "id": "5e81f054-696f-43d9-a4b9-f0151b02409d",
   "metadata": {},
   "outputs": [],
   "source": []
  }
 ],
 "metadata": {
  "kernelspec": {
   "display_name": "Python 3",
   "language": "python",
   "name": "python3"
  },
  "language_info": {
   "codemirror_mode": {
    "name": "ipython",
    "version": 3
   },
   "file_extension": ".py",
   "mimetype": "text/x-python",
   "name": "python",
   "nbconvert_exporter": "python",
   "pygments_lexer": "ipython3",
   "version": "3.9.2"
  }
 },
 "nbformat": 4,
 "nbformat_minor": 5
}
