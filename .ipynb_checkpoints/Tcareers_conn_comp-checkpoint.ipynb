{
 "cells": [
  {
   "cell_type": "code",
   "execution_count": null,
   "id": "17f8fb0c-2355-4d17-8264-dad6d57234c0",
   "metadata": {},
   "outputs": [],
   "source": []
  },
  {
   "cell_type": "code",
   "execution_count": 1,
   "id": "e4455236-7f20-47ab-8057-eb7ec358f8ef",
   "metadata": {},
   "outputs": [],
   "source": [
    "import pandas as pd\n",
    "import glob\n",
    "import numpy as np\n",
    "import timeit\n",
    "from multiprocessing import Pool\n",
    "import time\n",
    "import networkx as nx\n",
    "from matplotlib import pyplot as plt\n",
    "\n",
    "def toc(start_time):\n",
    "    elapsed = timeit.default_timer() - start_time\n",
    "    print(elapsed)\n",
    "start_time = timeit.default_timer()\n",
    "\n",
    "# import matplotlib.pyplot as plt\n",
    "import pickle\n",
    "path_career='/mnt/sdb1/sandeep/Career Transitions/'\n",
    "\n",
    "%matplotlib inline\n",
    "# %config InlineBackend.figure_format = 'svg'\n",
    "plt.rcParams.update({'font.size': 8, 'font.style': 'normal', 'font.family':'serif'})\n",
    "%config InlineBackend.figure_format = 'svg'\n",
    "plt.rcParams.update({'font.size': 8, 'font.style': 'normal', 'font.family':'serif'})\n",
    "#matplotlib.rcParams.update({'font.size': 18})\n",
    "\n",
    "start_time = timeit.default_timer()\n",
    "\n",
    "# p=Pool(processes=4)\n",
    "\n",
    "# names=\"/mnt/sdb1/sandeep/z_merged_auth_article_info.parquet\"\n",
    "# files=sorted(glob.glob(names))\n",
    "# df_author = pd.concat(p.map(pd.read_parquet,files),ignore_index=True)\n",
    "# p.close()\n",
    "# print('loaded author files=',toc(start_time))\n",
    "\n",
    "# df_author = df_author.sort_values( ['auth_dais','year','month','article_id'])\n",
    "\n",
    "\n",
    "# df=df_author.copy()\n",
    "# df['first_auth'] = np.where(df['auth_ord'] ==1, 1, 0)\n",
    "# df['last_auth'] =np.where((df['auth_ord'] ==df['TeamSize'])*(df['TeamSize']>1)>0, 1, 0)\n",
    "# # df['last_auth'] =np.where((df['auth_ord'] ==df['TeamSize'])>0, 1, 0)\n",
    "\n",
    "# df.info()\n",
    "\n",
    "\n",
    "# start_time = timeit.default_timer()\n",
    "\n",
    "# asca_list=df['asca'].unique()\n",
    "\n",
    "# # defining mapping of asca names to asca ids\n",
    "# dict_asca_to_id=dict()\n",
    "# x=int(0);\n",
    "# for key_ in asca_list:    \n",
    "#     dict_asca_to_id.setdefault(key_, []).append(x)\n",
    "#     x=x+1    \n",
    "# for key_ in asca_list:    \n",
    "#     dict_asca_to_id[key_]=dict_asca_to_id[key_][0]\n",
    "# dict_id_to_asca = {v: k for k, v in dict_asca_to_id.items()}\n",
    "\n",
    "\n",
    "# # #     print(dict_asca[KEY_][0])\n",
    "# df.shape\n",
    "\n",
    "\n",
    "# #--------------------------------------------------------------------------\n",
    "# # Mapping months to numerical values\n",
    "# #--------------------------------------------------------------------------   \n",
    "# # df['asca']=df['asca'].str.lower()\n",
    "# df['asca'] = df['asca'].map(dict_asca_to_id)\n",
    "\n",
    "# print('Elasped replacing asca by numerical=',toc(start_time))    \n"
   ]
  },
  {
   "cell_type": "code",
   "execution_count": 2,
   "id": "14faed24-428e-44b3-aeb1-02d2fc0833a1",
   "metadata": {},
   "outputs": [],
   "source": [
    "# path_career='/mnt/sdb1/sandeep/Career Transitions/'\n",
    "# with open(path_career+'dict_neigh_d1.pkl', 'rb') as f:\n",
    "#     dict_neigh1_loaded=pickle.load(f)    \n",
    "\n",
    "    "
   ]
  },
  {
   "cell_type": "code",
   "execution_count": 14,
   "id": "38c76643-cee9-4f60-a10f-d951d7e9aaec",
   "metadata": {},
   "outputs": [],
   "source": [
    "# from igraph import *"
   ]
  },
  {
   "cell_type": "code",
   "execution_count": null,
   "id": "8ce158f9-988d-4922-91f5-8a8f44536147",
   "metadata": {},
   "outputs": [],
   "source": []
  },
  {
   "cell_type": "code",
   "execution_count": 3,
   "id": "849d260e-f3b0-461d-8f9d-f18603ca1d9c",
   "metadata": {},
   "outputs": [],
   "source": [
    "path_career='/mnt/sdb1/sandeep/Career Transitions/'\n",
    "with open(path_career+'df_new_by_papers.pkl', 'rb') as f:\n",
    "    df_new_by_papers=pickle.load(f)    \n",
    "\n",
    "    "
   ]
  },
  {
   "cell_type": "code",
   "execution_count": 5,
   "id": "398b67d2-4df6-4092-97f2-acf5b00bb98e",
   "metadata": {},
   "outputs": [],
   "source": [
    "# selecting authors with less than 1000 papers\n",
    "YY=df_new_by_papers.groupby(['a']).count()\n",
    "selcted_b=YY[YY['b']<1000]\n",
    "df_new_by_papers=df_new_by_papers.loc[df_new_by_papers['a'].isin(np.array(selcted_b.index))]\n",
    "df_new_by_papers=df_new_by_papers.sort_values(['b'])"
   ]
  },
  {
   "cell_type": "code",
   "execution_count": 6,
   "id": "7b8cd868-ed4f-4f57-bbea-801982dd70fd",
   "metadata": {},
   "outputs": [
    {
     "name": "stdout",
     "output_type": "stream",
     "text": [
      "102.77471858263016645\n",
      "Elasped replacing asca by numerical= None\n"
     ]
    }
   ],
   "source": [
    "papers_=np.array(df_new_by_papers.iloc[:,1])\n",
    "auth_ids=np.array(df_new_by_papers.iloc[:,0])\n",
    "changes_= np.where((papers_[1:-1]-papers_[0:-2])>0)[0]\n",
    "changes_=np.insert(changes_,0,0)\n",
    "# create neighbour list\n",
    "start_time = timeit.default_timer()\n",
    "dict_neigh={id:[] for id in auth_ids}\n",
    "flag=0\n",
    "for it in range(len(changes_)-1):\n",
    "    group=auth_ids[changes_[it]:changes_[it+1]]\n",
    "    for node in group:\n",
    "        for neigh in group:\n",
    "            if not(neigh in dict_neigh[node]):\n",
    "                if (not (type(neigh) == list)) :\n",
    "                    dict_neigh[node].append(neigh) \n",
    "                else:\n",
    "                    flag=1\n",
    "                    print(\"error----check\")\n",
    "                    break\n",
    "        if flag==1:\n",
    "            break\n",
    "    if flag==1:         \n",
    "        break        \n",
    "    if it%10000==0:\n",
    "        print(it/len(changes_),end='\\r')\n",
    "    # REMOVE self loop\n",
    "\n",
    "print('Elasped replacing asca by numerical=',toc(start_time))    \n",
    "\n"
   ]
  },
  {
   "cell_type": "code",
   "execution_count": 7,
   "id": "b7f9bae6-4961-48a0-a246-34af144dc8b7",
   "metadata": {},
   "outputs": [
    {
     "name": "stdout",
     "output_type": "stream",
     "text": [
      "690000 ----  0.995458401380369 40.8296\r"
     ]
    }
   ],
   "source": [
    "edgelist=[]\n",
    "it=0\n",
    "t_ic = time.time();\n",
    "\n",
    "for i in dict_neigh.keys():\n",
    "    it=it+1\n",
    "    for j in dict_neigh[i]:\n",
    "        if i!=j:\n",
    "            edgelist.append([i,j])\n",
    "            \n",
    "    if it%10000==0:\n",
    "        t_oc = time.time();\n",
    "        print(it, '---- ',it/len(dict_neigh.keys()),str(round(t_oc-t_ic,2)),end='\\r')\n",
    "\n",
    "        "
   ]
  },
  {
   "cell_type": "code",
   "execution_count": 8,
   "id": "5c79f221-4797-402c-86d9-023b0eaf2b49",
   "metadata": {},
   "outputs": [],
   "source": [
    "df_edges=pd.DataFrame(edgelist)\n",
    "df_edges=df_edges.drop_duplicates()"
   ]
  },
  {
   "cell_type": "code",
   "execution_count": 9,
   "id": "b822f97e-e920-4d44-8d25-1d5d222c74c7",
   "metadata": {},
   "outputs": [
    {
     "data": {
      "text/plain": [
       "401"
      ]
     },
     "execution_count": 9,
     "metadata": {},
     "output_type": "execute_result"
    }
   ],
   "source": [
    "G = nx.from_edgelist(edgelist)\n",
    "G = G.to_undirected()\n",
    "CC=nx.connected_components(G)\n",
    "nx.number_connected_components(G)\n"
   ]
  },
  {
   "cell_type": "code",
   "execution_count": 17,
   "id": "3dd69ed1-a295-4149-8b77-e7c980727000",
   "metadata": {},
   "outputs": [],
   "source": []
  },
  {
   "cell_type": "code",
   "execution_count": 20,
   "id": "342c59b5-7d77-429d-b9f9-66cfc47909bf",
   "metadata": {},
   "outputs": [
    {
     "data": {
      "text/plain": [
       "409"
      ]
     },
     "execution_count": 20,
     "metadata": {},
     "output_type": "execute_result"
    }
   ],
   "source": [
    "\n"
   ]
  },
  {
   "cell_type": "code",
   "execution_count": 10,
   "id": "c22c7ed2-bd66-4780-862c-c11fb6d4c94f",
   "metadata": {},
   "outputs": [],
   "source": [
    "res=nx.connected_components(G)\n",
    "\n"
   ]
  },
  {
   "cell_type": "code",
   "execution_count": 11,
   "id": "207967bb-9b10-42b4-86a4-2144da287f3f",
   "metadata": {},
   "outputs": [],
   "source": [
    "ccs=[x for x in res]"
   ]
  },
  {
   "cell_type": "code",
   "execution_count": 12,
   "id": "3ffd242d-1a08-4818-bf31-a125bea30d79",
   "metadata": {},
   "outputs": [
    {
     "data": {
      "text/plain": [
       "401"
      ]
     },
     "execution_count": 12,
     "metadata": {},
     "output_type": "execute_result"
    }
   ],
   "source": [
    "len(ccs)"
   ]
  },
  {
   "cell_type": "code",
   "execution_count": 17,
   "id": "5564d864-e243-4129-8312-22aa9bf1dfe2",
   "metadata": {},
   "outputs": [],
   "source": [
    "size_ccs=[len(x) for x in ccs]"
   ]
  },
  {
   "cell_type": "code",
   "execution_count": 18,
   "id": "b278e997-ecb5-46a1-b5a8-148d5d1c24a8",
   "metadata": {},
   "outputs": [
    {
     "data": {
      "text/plain": [
       "0.9987308330646092"
      ]
     },
     "execution_count": 18,
     "metadata": {},
     "output_type": "execute_result"
    }
   ],
   "source": [
    "size_ccs[0]/G.number_of_nodes()"
   ]
  },
  {
   "cell_type": "code",
   "execution_count": 19,
   "id": "7fb5cead-1889-4ea3-8852-1021e1e7a207",
   "metadata": {},
   "outputs": [
    {
     "data": {
      "text/plain": [
       "676034"
      ]
     },
     "execution_count": 19,
     "metadata": {},
     "output_type": "execute_result"
    }
   ],
   "source": [
    "G.number_of_nodes()"
   ]
  },
  {
   "cell_type": "code",
   "execution_count": null,
   "id": "e8f4e7f4-c16d-45ab-8056-bf7706d83587",
   "metadata": {},
   "outputs": [],
   "source": []
  }
 ],
 "metadata": {
  "kernelspec": {
   "display_name": "Python 3",
   "language": "python",
   "name": "python3"
  },
  "language_info": {
   "codemirror_mode": {
    "name": "ipython",
    "version": 3
   },
   "file_extension": ".py",
   "mimetype": "text/x-python",
   "name": "python",
   "nbconvert_exporter": "python",
   "pygments_lexer": "ipython3",
   "version": "3.9.2"
  }
 },
 "nbformat": 4,
 "nbformat_minor": 5
}
