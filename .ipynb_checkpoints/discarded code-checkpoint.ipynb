{
 "cells": [
  {
   "cell_type": "code",
   "execution_count": null,
   "id": "ad6f3b97-8f2c-4e3d-bb4c-bd2f792b2609",
   "metadata": {},
   "outputs": [],
   "source": []
  },
  {
   "cell_type": "code",
   "execution_count": 5,
   "id": "d98f0684-e4d8-491b-83d8-d5dac2d2db48",
   "metadata": {},
   "outputs": [],
   "source": [
    "# df_new_by_papers"
   ]
  },
  {
   "cell_type": "code",
   "execution_count": null,
   "id": "d446b3f8-05b6-43fb-af92-c44616e0f976",
   "metadata": {},
   "outputs": [],
   "source": []
  },
  {
   "cell_type": "code",
   "execution_count": null,
   "id": "80f44353-a1ab-4a3d-a83d-ab2641e18fe2",
   "metadata": {},
   "outputs": [],
   "source": [
    "# df_new_by_papers=df_new_by_papers[['auth_id','paper_id']]\n",
    "# # df_new_by_papers = df_new_by_papers.drop_duplicates()\n",
    "# df_new_by_papers.columns=['a','b']\n",
    "# print(1)"
   ]
  },
  {
   "cell_type": "code",
   "execution_count": 93,
   "id": "a7707047-9852-4cb0-8b36-a9fe27aa3e0c",
   "metadata": {},
   "outputs": [],
   "source": [
    "# sci_papers=df_new_by_papers[df_new_by_papers['a']=='https://openalex.org/A4337235076']\n",
    "\n",
    "# sci_papers"
   ]
  },
  {
   "cell_type": "code",
   "execution_count": 10,
   "id": "b939e854-8ade-4a9b-80b1-a70622efebb1",
   "metadata": {},
   "outputs": [
    {
     "data": {
      "text/html": [
       "<div>\n",
       "<style scoped>\n",
       "    .dataframe tbody tr th:only-of-type {\n",
       "        vertical-align: middle;\n",
       "    }\n",
       "\n",
       "    .dataframe tbody tr th {\n",
       "        vertical-align: top;\n",
       "    }\n",
       "\n",
       "    .dataframe thead th {\n",
       "        text-align: right;\n",
       "    }\n",
       "</style>\n",
       "<table border=\"1\" class=\"dataframe\">\n",
       "  <thead>\n",
       "    <tr style=\"text-align: right;\">\n",
       "      <th></th>\n",
       "      <th>auth_id</th>\n",
       "      <th>paper_id</th>\n",
       "    </tr>\n",
       "  </thead>\n",
       "  <tbody>\n",
       "  </tbody>\n",
       "</table>\n",
       "</div>"
      ],
      "text/plain": [
       "Empty DataFrame\n",
       "Columns: [auth_id, paper_id]\n",
       "Index: []"
      ]
     },
     "execution_count": 10,
     "metadata": {},
     "output_type": "execute_result"
    }
   ],
   "source": [
    "sci_papers"
   ]
  },
  {
   "cell_type": "code",
   "execution_count": null,
   "id": "527c885d-2803-4576-a886-e75fc53284fc",
   "metadata": {},
   "outputs": [],
   "source": [
    "# df_new_by_papers['paper_id']=[x[3] for x in list(df_new_by_papers['paper_id'].str.split('/'))]"
   ]
  },
  {
   "cell_type": "code",
   "execution_count": null,
   "id": "4681f933-6e35-4802-a1e1-5171e36fde07",
   "metadata": {},
   "outputs": [],
   "source": [
    "# df['auth_id']=[x[3] for x in list(df['auth_id'].str.split('/'))]\n",
    "# # df['id']=[x[3] for x in list(df['id'].str.split('/'))]"
   ]
  },
  {
   "cell_type": "code",
   "execution_count": null,
   "id": "4e26728f-fea0-4c91-a209-e8b9fd45b359",
   "metadata": {},
   "outputs": [],
   "source": [
    "# df.groupby(['paper_id','auth_id'])['id'].apply(list)"
   ]
  },
  {
   "cell_type": "code",
   "execution_count": 4,
   "id": "c56d2c0d-758d-405d-8a4a-170ded1d9012",
   "metadata": {},
   "outputs": [
    {
     "name": "stdout",
     "output_type": "stream",
     "text": [
      "1\n"
     ]
    }
   ],
   "source": []
  },
  {
   "cell_type": "code",
   "execution_count": 95,
   "id": "2f21e44a-0b5e-41b5-96b2-7f1c70c82c5d",
   "metadata": {},
   "outputs": [
    {
     "name": "stdout",
     "output_type": "stream",
     "text": [
      "4\n"
     ]
    }
   ],
   "source": [
    "# XX=df_new_by_papers.groupby(['b']).count()\n",
    "# print(2)\n",
    "# # selecting papers with less than = 10 authors\n",
    "# selcted_b=XX[XX['a']<10]\n",
    "# df_new_by_papers=df_new_by_papers.loc[df_new_by_papers['b'].isin(np.array(selcted_b.index))]\n",
    "# df_new_by_papers=df_new_by_papers.sort_values(['b'])\n",
    "# print(3)\n",
    "# # selecting authors with less than 1000 papers \n",
    "#and atleast 20 papers\n",
    "# YY=df_new_by_papers.groupby(['a']).count()\n",
    "# selcted_b=YY[YY['b']<500]\n",
    "# selcted_b=selcted_b[selcted_b['b']>=20]\n",
    "# df_new_by_papers=df_new_by_papers.loc[df_new_by_papers['a'].isin(np.array(selcted_b.index))]\n",
    "# print(4)\n",
    "# df_new_by_papers=df_new_by_papers.sort_values(['b'])"
   ]
  },
  {
   "cell_type": "code",
   "execution_count": null,
   "id": "321255f1-8be1-4394-9d17-a0cf9674bc3d",
   "metadata": {},
   "outputs": [],
   "source": [
    "1528260"
   ]
  },
  {
   "cell_type": "code",
   "execution_count": null,
   "id": "620b6344-f8c1-47f8-af4b-ca492e2b2240",
   "metadata": {},
   "outputs": [],
   "source": []
  },
  {
   "cell_type": "code",
   "execution_count": null,
   "id": "0ac59873-0cc5-4239-b545-d68e985abd20",
   "metadata": {},
   "outputs": [],
   "source": [
    "# df_new_by_papers"
   ]
  },
  {
   "cell_type": "code",
   "execution_count": null,
   "id": "c08d5e16-35ad-4b68-86ed-41ce19bf57b4",
   "metadata": {},
   "outputs": [],
   "source": [
    "# path_career='/mnt/sdb1/sandeep/openalex_ACTIV/'\n",
    "# import pickle\n",
    "# with open(path_career+'df_new_by_papers.pkl', 'wb') as f:\n",
    "#     pickle.dump(df_new_by_papers, f)   "
   ]
  },
  {
   "cell_type": "markdown",
   "id": "d83138bb-b5be-4fe1-9628-53764ca2d510",
   "metadata": {},
   "source": [
    "# Make igraph\n",
    "calculate the possible papers each author could have participated in theoretically"
   ]
  },
  {
   "cell_type": "code",
   "execution_count": null,
   "id": "d996cf5d-d79a-4faa-a948-3e1d5218cfa3",
   "metadata": {},
   "outputs": [],
   "source": [
    "# el=df_new_by_papers[['a','b']].values\n",
    "# # el_new=[]\n",
    "# # for x in el:\n",
    "# #     el_new.append([x[0],x[1]])\n",
    "# uni_nodes=np.unique(el.flatten())\n",
    "\n",
    "# dict_auth_shortened={uni_nodes[it]:it for it in range(len(uni_nodes))}\n",
    "# el_new_new=np.vectorize(dict_auth_shortened.get)(el)\n",
    "# el_new3=[]\n",
    "# for x in el_new_new:\n",
    "#     el_new3.append(tuple(x))\n"
   ]
  },
  {
   "cell_type": "code",
   "execution_count": null,
   "id": "a5abf5a5-9d29-4c49-9fd7-32b5ae19bc23",
   "metadata": {},
   "outputs": [],
   "source": [
    "# path_career='/mnt/sdb1/sandeep/openalex_ACTIV/'\n",
    "# import pickle\n",
    "# with open(path_career+'el.pkl', 'wb') as f:\n",
    "#     pickle.dump(el, f)   \n",
    "# with open(path_career+'el_new_new.pkl', 'wb') as f:\n",
    "#     pickle.dump(el_new_new, f)  \n",
    "# with open(path_career+'dict_auth_shortened.pkl', 'wb') as f:\n",
    "#     pickle.dump(dict_auth_shortened, f)  \n"
   ]
  },
  {
   "cell_type": "code",
   "execution_count": null,
   "id": "c815040c-0052-4f82-b9ba-ac76952327db",
   "metadata": {},
   "outputs": [],
   "source": [
    "# auth_inv_map={dict_auth_shortened[key]:key for key in dict_auth_shortened.keys()}\n",
    "# path_career='/mnt/sdb1/sandeep/openalex_ACTIV/'\n",
    "\n",
    "# with open(path_career+'auth_inv_map_alex.pkl', 'wb') as f:\n",
    "#     pickle.dump(auth_inv_map, f)    \n"
   ]
  },
  {
   "cell_type": "code",
   "execution_count": null,
   "id": "42d3c7f5-5d02-4bfe-a782-c30206223ea2",
   "metadata": {},
   "outputs": [],
   "source": []
  },
  {
   "cell_type": "code",
   "execution_count": null,
   "id": "000640fc-8e73-4322-9620-856cd302d6c5",
   "metadata": {},
   "outputs": [],
   "source": []
  },
  {
   "cell_type": "code",
   "execution_count": null,
   "id": "e7631641-d746-416b-8cb7-d6c5814843dc",
   "metadata": {},
   "outputs": [],
   "source": []
  },
  {
   "cell_type": "code",
   "execution_count": null,
   "id": "b4bd01e1-81a8-45f2-afdc-c636c580bf74",
   "metadata": {},
   "outputs": [],
   "source": [
    "\n"
   ]
  },
  {
   "cell_type": "code",
   "execution_count": null,
   "id": "980cc08d-5287-474e-80b6-9173639c0c63",
   "metadata": {},
   "outputs": [],
   "source": [
    "# import igraph as ig\n",
    "# g = ig.Graph()\n",
    "# g.add_vertices(len(uni_nodes))\n",
    "# g.add_edges(el_new3)"
   ]
  },
  {
   "cell_type": "code",
   "execution_count": null,
   "id": "4843100b-41f2-409f-af4f-50747189610f",
   "metadata": {},
   "outputs": [],
   "source": [
    "# with open(path_career+'g.pkl', 'wb') as f:\n",
    "#     pickle.dump(g, f)  "
   ]
  },
  {
   "cell_type": "code",
   "execution_count": null,
   "id": "73697c11-c7db-418a-9a67-29cd329be3f5",
   "metadata": {},
   "outputs": [],
   "source": []
  },
  {
   "cell_type": "code",
   "execution_count": null,
   "id": "67b5a93c-a876-42f7-a97b-c7f2f7233193",
   "metadata": {},
   "outputs": [],
   "source": []
  },
  {
   "cell_type": "code",
   "execution_count": null,
   "id": "1ea1e940-42ad-4b05-b9c0-ba92307fec93",
   "metadata": {},
   "outputs": [],
   "source": [
    "# path_career='/mnt/sdb1/sandeep/openalex_ACTIV/'\n",
    "# with open(path_career+'dict_auth_shortened.pkl', 'rb') as f:\n",
    "#     dict_auth_shortened=pickle.load(f) \n",
    "# # with open(path_career+'auth_inv_map_alex.pkl', 'rb') as f:\n",
    "# #     auth_inv_map=pickle.load(f) \n",
    "# with open(path_career+'g.pkl', 'rb') as f:\n",
    "#     g=pickle.load(f) \n",
    "    "
   ]
  },
  {
   "cell_type": "code",
   "execution_count": null,
   "id": "f98d72ae-0111-4af3-95a1-b398712cb94e",
   "metadata": {},
   "outputs": [],
   "source": [
    "# df_new_by_papers.shape\n",
    "\n",
    "# dict_auth_to_paper=df_new_by_papers.groupby('a')['b'].apply(list).to_dict()\n",
    "\n",
    "# with open(path_career+'dict_auth_to_paper.pkl', 'wb') as f:\n",
    "#     pickle.dump(dict_auth_to_paper, f) "
   ]
  },
  {
   "cell_type": "code",
   "execution_count": null,
   "id": "98d6ab88-9b9f-44f8-bbef-895bd6ee73b6",
   "metadata": {},
   "outputs": [],
   "source": [
    "# path_career='/mnt/sdb1/sandeep/openalex_ACTIV/'\n",
    "# with open(path_career+'dict_auth_to_paper.pkl', 'wb') as f:\n",
    "#     pickle.dump(dict_auth_to_paper, f) "
   ]
  },
  {
   "cell_type": "code",
   "execution_count": null,
   "id": "eac5bebe-b592-432d-9f37-1bf170b40f58",
   "metadata": {},
   "outputs": [],
   "source": [
    "# dict_paper_to_auth=df_new_by_papers.groupby('b')['a'].apply(list).to_dict()\n",
    "# with open(path_career+'dict_paper_to_auth.pkl', 'wb') as f:\n",
    "#     pickle.dump(dict_paper_to_auth, f) "
   ]
  },
  {
   "cell_type": "code",
   "execution_count": null,
   "id": "22f77df8-f9a8-4a95-8565-8d9635b91d6c",
   "metadata": {},
   "outputs": [],
   "source": []
  },
  {
   "cell_type": "markdown",
   "id": "c09a45ce-ae32-4bc5-83fb-63186667a766",
   "metadata": {},
   "source": [
    "## CREATE DICTIONARY WITH JUST COUNTS OF PAPERS AT distance 3\n"
   ]
  },
  {
   "cell_type": "code",
   "execution_count": null,
   "id": "54621a1f-4a2e-4c9e-819e-0419d87ca3bb",
   "metadata": {},
   "outputs": [],
   "source": [
    "# uni_auths=np.unique(np.array(df_new_by_papers['a']))\n",
    "# uni_pap=np.unique(np.array(df_new_by_papers['b']))\n",
    "# # SET_uni_auths=set(uni_auths)\n",
    "# dict_auth_ss={uni_auths[it]:it for it in range(len(uni_auths))}\n",
    "# dict_papers_ss={uni_pap[it]:it for it in range(len(uni_pap))}\n"
   ]
  },
  {
   "cell_type": "code",
   "execution_count": null,
   "id": "1be6542e-48ee-40a8-a3dc-3a26a161afff",
   "metadata": {},
   "outputs": [],
   "source": [
    "# auth='https://openalex.org/A2074114040'\n",
    "# auth='https://openalex.org/A4357541836'\n",
    "# auth=dict_auth_shortened[auth]\n",
    "# len(set(g.neighborhood(auth,order=3,mindist=3)+g.neighborhood(auth,order=1,mindist=1)))\n"
   ]
  },
  {
   "cell_type": "code",
   "execution_count": null,
   "id": "82f85e13-0df4-4cae-904e-38861455f6f9",
   "metadata": {},
   "outputs": [],
   "source": [
    "# import time\n",
    "\n",
    "# def get_N_order_3and5(auth,g):\n",
    "# #     a=g.neighborhood(auth,order=5,mindist=5)\n",
    "#     b=g.neighborhood(auth,order=3,mindist=3)\n",
    "#     c=g.neighborhood(auth,order=1,mindist=1)\n",
    "    \n",
    "#     return len(set(b+c))\n",
    "# #     return len(set(b))\n",
    "# #     return len((c))\n",
    "\n",
    "\n",
    "# t_ic = time.time();\n",
    "# dict_auth_N_ord5={}\n",
    "# dict_auth_N_ord3={}\n",
    "# it=0\n",
    "# for auth in uni_auths:\n",
    "    \n",
    "#     x3=get_N_order_3and5(dict_auth_shortened[auth],g);\n",
    "#     dict_auth_N_ord3[auth]=x3\n",
    "# #     dict_auth_N_ord5[auth]=x5\n",
    "\n",
    "#     it=it+1\n",
    "#     if it%100==0:\n",
    "#         t_oc = time.time();\n",
    "#         frac=it/len(uni_auths)\n",
    "#         prog=str(frac)+str(round(t_oc-t_ic,2))+', time estimate: '+str(round((t_oc-t_ic)/frac/3600,2))\n",
    "#         print(prog,end='\\r')\n",
    "#         with open(path_career+'0000_track_dict_auth_N_ord3.txt', 'a') as file_object:\n",
    "#             file_object.write(prog+'\\n')\n",
    "\n",
    "        "
   ]
  },
  {
   "cell_type": "code",
   "execution_count": null,
   "id": "dbb3ba74-5498-49fe-be46-af9e76f4d2d0",
   "metadata": {},
   "outputs": [],
   "source": [
    "# path_career='/mnt/sdb1/sandeep/openalex_ACTIV/'\n",
    "# with open(path_career+\"0_track_open_alex1.txt\", \"a\") as file_object:\n",
    "#     file_object.write('\\n --- WRITING TO PICKLE---\\n')\n",
    "# import pickle\n",
    "# with open(path_career+'dict_auth_N_ord3_alex.pkl', 'wb') as f:\n",
    "#     pickle.dump(dict_auth_N_ord3, f)    \n",
    "\n",
    "# with open(path_career+\"0_track_open_alex1.txt\", \"a\") as file_object:\n",
    "#     file_object.write('\\n --- DONE ---WRITING TO PICKLE---\\n')\n",
    "        \n",
    "# # with open(path_career+'dict_auth_papers_order_5.pkl', 'rb') as f:\n",
    "# #     dict_auth_papers_order_5=pickle.load(f)    \n",
    "\n",
    "    "
   ]
  }
 ],
 "metadata": {
  "kernelspec": {
   "display_name": "Python 3",
   "language": "python",
   "name": "python3"
  },
  "language_info": {
   "codemirror_mode": {
    "name": "ipython",
    "version": 3
   },
   "file_extension": ".py",
   "mimetype": "text/x-python",
   "name": "python",
   "nbconvert_exporter": "python",
   "pygments_lexer": "ipython3",
   "version": "3.9.2"
  }
 },
 "nbformat": 4,
 "nbformat_minor": 5
}
