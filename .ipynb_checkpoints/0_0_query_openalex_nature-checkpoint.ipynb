{
 "cells": [
  {
   "cell_type": "code",
   "execution_count": 1,
   "id": "2928b8e6-6419-4d5d-81ea-2ce12710fc59",
   "metadata": {},
   "outputs": [],
   "source": [
    "import pandas as pd\n",
    "import glob\n",
    "import numpy as np\n",
    "import timeit\n",
    "from multiprocessing import Pool\n",
    "from matplotlib import pyplot as plt\n",
    "def toc(start_time):\n",
    "    elapsed = timeit.default_timer() - start_time\n",
    "    print(elapsed)\n",
    "start_time = timeit.default_timer()\n",
    "\n",
    "# import matplotlib.pyplot as plt\n",
    "import pickle\n",
    "\n",
    "\n",
    "import requests, json\n",
    "import pandas as pd\n",
    "import glob\n",
    "import timeit\n",
    "import time\n",
    "from multiprocessing import Pool\n",
    "import numpy as np\n",
    "def toc(start_time):\n",
    "    elapsed = timeit.default_timer() - start_time\n",
    "    print(elapsed)\n",
    "from zipfile import ZipFile\n",
    "import re\n",
    "import xmlschema\n",
    "from pprint import pprint\n",
    "import glob\n",
    "# importing element tree\n",
    "import lxml.etree as etree\n",
    "\n",
    "import time\n",
    "import pickle\n",
    "from get_venue_works import *"
   ]
  },
  {
   "cell_type": "code",
   "execution_count": null,
   "id": "766027ea-092b-47c4-ab7d-6a86902ebce9",
   "metadata": {},
   "outputs": [],
   "source": []
  },
  {
   "cell_type": "code",
   "execution_count": 2,
   "id": "b96f0bcb-03f8-4e73-947c-1bd4e8d154c5",
   "metadata": {},
   "outputs": [],
   "source": [
    "# path_career='/mnt/sdb1/sandeep/open_alex_ACTIV/'\n",
    "# with open(path_career+'works_nature_science.pkl', 'rb') as f:\n",
    "#     works_nature_science=pickle.load(f)    "
   ]
  },
  {
   "cell_type": "code",
   "execution_count": 3,
   "id": "16a77d7a-8e91-4fdf-a984-c271cabe346e",
   "metadata": {},
   "outputs": [],
   "source": [
    "works={}"
   ]
  },
  {
   "cell_type": "code",
   "execution_count": 4,
   "id": "5ea04e82-0cc5-4e04-95d3-2d426ccb8c50",
   "metadata": {},
   "outputs": [],
   "source": [
    "# works['science']=get_works_from_venue('science')"
   ]
  },
  {
   "cell_type": "code",
   "execution_count": 5,
   "id": "37a85007-57b7-473d-9f9a-2d03b79648fc",
   "metadata": {},
   "outputs": [],
   "source": [
    "# works['nature']=get_works_from_venue('nature')"
   ]
  },
  {
   "cell_type": "code",
   "execution_count": 6,
   "id": "9a01d2ef-f299-4dea-ae82-6e5aa0bb0c9f",
   "metadata": {},
   "outputs": [],
   "source": [
    "# path_career='/mnt/sdb1/sandeep/open_alex_ACTIV/'\n",
    "# with open(path_career+'works_nature_science.pkl', 'wb') as f:\n",
    "#     pickle.dump(works, f)   \n"
   ]
  },
  {
   "cell_type": "code",
   "execution_count": 7,
   "id": "c254b8f4-6984-46f3-9b6c-64afc206a15f",
   "metadata": {},
   "outputs": [
    {
     "name": "stdout",
     "output_type": "stream",
     "text": [
      "433781\n"
     ]
    }
   ],
   "source": [
    "url='https://api.openalex.org/venues?filter=display_name.search:nature'\n",
    "\n",
    "headers = {\n",
    "    'User-Agent': 'chowdhary_sandeep',\n",
    "    'From': 'chowdhary_sandeep@phd.ceu.edu'  # This is another valid field\n",
    "}\n",
    "\n",
    "response = requests.get(url, headers=headers)\n",
    "response.raise_for_status()  # raises exception when not a 2xx response\n",
    "response=response.json()\n",
    "url=response['results'][0]['works_api_url'] \n",
    "print(response['results'][0]['works_count'])\n",
    "# response = requests.get(url, headers=headers)\n",
    "# response.raise_for_status()  # raises exception when not a 2xx response\n",
    "# response=response.json()\n",
    "# len(response['results'])\n",
    "\n"
   ]
  },
  {
   "cell_type": "code",
   "execution_count": 8,
   "id": "03f35a5e-8679-4fa3-93a9-0a54ae1dfa56",
   "metadata": {},
   "outputs": [
    {
     "name": "stdout",
     "output_type": "stream",
     "text": [
      "[['V137773608', 433781], ['V64187185', 50180], ['V137905309', 10404], ['V203256638', 14000], ['V106963461', 17883], ['V103895331', 5741], ['V2298632', 6993], ['V127827428', 6908], ['V41063453', 5990], ['V7822423', 5013], ['V160464432', 4270], ['V151741590', 5750], ['V26843219', 4818], ['V93373720', 4445], ['V109387254', 3365], ['V8553189', 4613], ['V120392215', 4413], ['V196724125', 4582], ['V156274416', 5984], ['V139253143', 6692], ['V56802129', 4135], ['V202193212', 3968], ['V186543748', 5960], ['V48977010', 4025], ['V51309854', 4395]]\n"
     ]
    }
   ],
   "source": [
    "print([[response['results'][x]['id'].split('/')[3],response['results'][x]['works_count']] for x in range(len(response['results']))])\n"
   ]
  },
  {
   "cell_type": "code",
   "execution_count": 9,
   "id": "d9bcdd0e-a2d4-4f40-b3e9-a12810692be0",
   "metadata": {},
   "outputs": [
    {
     "name": "stdout",
     "output_type": "stream",
     "text": [
      "[['Nature', 433781], ['Nature Communications', 50180], ['Nature Genetics', 10404], ['Nature Medicine', 14000], ['Nature Biotechnology', 17883], ['Nature Materials', 5741], ['Nature Neuroscience', 6993], ['Nature Methods', 6908], ['Nature Immunology', 5990], ['Nature Nanotechnology', 5013], ['Nature Reviews Cancer', 4270], ['Nature Cell Biology', 5750], ['Nature Reviews Neuroscience', 4818], ['Nature Reviews Immunology', 4445], ['Nature Protocols', 3365], ['Nature Reviews Genetics', 4613], ['Nature Photonics', 4413], ['Nature Reviews Molecular Cell Biology', 4582], ['Nature Physics', 5984], ['Nature Structural & Molecular Biology', 6692], ['Nature Reviews Microbiology', 4135], ['Nature Chemistry', 3968], ['Nature Reviews Drug Discovery', 5960], ['Nature Geoscience', 4025], ['Nature Chemical Biology', 4395]]\n"
     ]
    }
   ],
   "source": [
    "print([[response['results'][x]['display_name'],response['results'][x]['works_count']] for x in range(len(response['results']))])\n"
   ]
  },
  {
   "cell_type": "code",
   "execution_count": 10,
   "id": "139c1c75-d55e-4015-97f0-8509fc1698af",
   "metadata": {},
   "outputs": [],
   "source": [
    "nature_journals=[response['results'][x]['display_name'] for x in range(len(response['results']))]\n",
    "nature_venues=[response['results'][x]['id'].split('/')[3] for x in range(len(response['results']))]"
   ]
  },
  {
   "cell_type": "code",
   "execution_count": null,
   "id": "9a7f3b07-d16b-4588-8fed-663217495c67",
   "metadata": {},
   "outputs": [],
   "source": []
  },
  {
   "cell_type": "code",
   "execution_count": null,
   "id": "ccd82092-92eb-4a47-9f17-550606b72fa5",
   "metadata": {},
   "outputs": [
    {
     "name": "stdout",
     "output_type": "stream",
     "text": [
      "V64187185\n",
      "0.7094459944200877455\r"
     ]
    }
   ],
   "source": [
    "for x in nature_venues[1:]:\n",
    "    print(x)\n",
    "    works[x]=get_works_from_venue(x)"
   ]
  },
  {
   "cell_type": "code",
   "execution_count": null,
   "id": "ad15f720-f906-49e3-91f6-5ada9b6a1a5f",
   "metadata": {},
   "outputs": [],
   "source": [
    "path_career='/mnt/sdb1/sandeep/openalex_ACTIV/'\n",
    "with open(path_career+'works_nature_others.pkl', 'wb') as f:\n",
    "    pickle.dump(works, f)   \n"
   ]
  },
  {
   "cell_type": "code",
   "execution_count": 16,
   "id": "56b7013e-3190-4b43-8d65-f9fd99ea3b16",
   "metadata": {},
   "outputs": [],
   "source": [
    "# works['V202193212']"
   ]
  },
  {
   "cell_type": "code",
   "execution_count": null,
   "id": "0655ab0d-38f9-4391-8692-5fa8798100f9",
   "metadata": {},
   "outputs": [],
   "source": []
  },
  {
   "cell_type": "code",
   "execution_count": 23,
   "id": "e1caca07-fa75-4a0c-9818-ac451deeda06",
   "metadata": {},
   "outputs": [],
   "source": [
    "# works['science'][10001]"
   ]
  },
  {
   "cell_type": "code",
   "execution_count": null,
   "id": "61cc5000-c785-4f14-9fd2-3cff8a4824bd",
   "metadata": {},
   "outputs": [],
   "source": []
  }
 ],
 "metadata": {
  "kernelspec": {
   "display_name": "Python 3",
   "language": "python",
   "name": "python3"
  },
  "language_info": {
   "codemirror_mode": {
    "name": "ipython",
    "version": 3
   },
   "file_extension": ".py",
   "mimetype": "text/x-python",
   "name": "python",
   "nbconvert_exporter": "python",
   "pygments_lexer": "ipython3",
   "version": "3.9.2"
  }
 },
 "nbformat": 4,
 "nbformat_minor": 5
}
