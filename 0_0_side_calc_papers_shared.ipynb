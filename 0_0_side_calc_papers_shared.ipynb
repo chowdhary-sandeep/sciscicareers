{
 "cells": [
  {
   "cell_type": "code",
   "execution_count": null,
   "id": "1ed4ea56-da20-4f5a-bcca-db5a6ffa638c",
   "metadata": {},
   "outputs": [],
   "source": []
  },
  {
   "cell_type": "code",
   "execution_count": 1,
   "id": "6fba3a97-1781-402e-b046-a8ca8989d927",
   "metadata": {},
   "outputs": [],
   "source": [
    "import pickle\n",
    "import numpy as np\n",
    "from multiprocessing import Pool\n",
    "import requests, json\n",
    "import pandas as pda\n",
    "import glob\n",
    "import timeit\n",
    "import time\n",
    "from multiprocessing import Pool\n",
    "import numpy as np\n",
    "def toc(start_time):\n",
    "    elapsed = timeit.default_timer() - start_time\n",
    "    print(elapsed)\n",
    "from zipfile import ZipFile\n",
    "import re\n",
    "import xmlschema\n",
    "from pprint import pprint\n",
    "import glob\n",
    "# importing element tree\n",
    "import lxml.etree as etree\n",
    "import pickle\n",
    "from matplotlib import pyplot as plt\n",
    "%matplotlib inline\n",
    "plt.rcParams.update({'font.size': 8, 'font.style': 'normal', 'font.family':'serif'})\n",
    "%config InlineBackend.figure_format = 'svg'\n",
    "def simpleaxis(ax):\n",
    "    ax.spines['top'].set_visible(False)\n",
    "    ax.spines['right'].set_visible(False)\n",
    "    ax.get_xaxis().tick_bottom()\n",
    "    ax.get_yaxis().tick_left()\n",
    "    plt.xticks(fontsize=ff-4)\n",
    "    plt.yticks(fontsize=ff-4)"
   ]
  },
  {
   "cell_type": "code",
   "execution_count": 2,
   "id": "233f07d6-012e-4642-b33d-6b21551a2b1b",
   "metadata": {},
   "outputs": [
    {
     "name": "stdout",
     "output_type": "stream",
     "text": [
      "7\r"
     ]
    }
   ],
   "source": [
    "path_career='/mnt/sdb1/sandeep/openalex_ACTIV/'\n",
    "significant_cores3={}\n",
    "for size in range(2,8):\n",
    "    print(size,end='\\r')\n",
    "    with open(path_career+'significant_cores3_size'+str(size)+'.pkl', 'rb') as f:\n",
    "        significant_cores3[size]=pickle.load(f) "
   ]
  },
  {
   "cell_type": "code",
   "execution_count": 3,
   "id": "99a0e50d-1709-4327-bdef-8d8156febe54",
   "metadata": {},
   "outputs": [
    {
     "name": "stdout",
     "output_type": "stream",
     "text": [
      "7\r"
     ]
    }
   ],
   "source": [
    "PAPERS_TOGETHER=5\n",
    "for size in range(2,8):\n",
    "    print(size,end='\\r')\n",
    "    significant_cores3[size]=significant_cores3[size][significant_cores3[size]['w']>PAPERS_TOGETHER]\n",
    "    significant_cores3[size]['size']=significant_cores3[size]['group'].apply(np.shape)"
   ]
  },
  {
   "cell_type": "code",
   "execution_count": null,
   "id": "ec4d5ab1-7836-40a7-b2c6-a4b1ca9f075e",
   "metadata": {},
   "outputs": [],
   "source": []
  },
  {
   "cell_type": "code",
   "execution_count": 9,
   "id": "f9e651cc-c7cc-452f-88e7-ba6baf58667c",
   "metadata": {},
   "outputs": [
    {
     "name": "stdout",
     "output_type": "stream",
     "text": [
      "2\n",
      "3.999985009005304611.78, time estimate: 0.01192\n",
      "4.9999970597755646111.79, time estimate: 0.03729\n",
      "5.999976896429411170.4, time estimate: 0.022225\n",
      "6.999986203915328855.25, time estimate: 0.02238\n",
      "7.9999036773041517.33, time estimate: 0.0.0112\n",
      "0.99852010863378385.48, time estimate: 0.00011\r"
     ]
    }
   ],
   "source": [
    "t_ic = time.time();\n",
    "\n",
    "with open(path_career+'dict_auth_to_paper.pkl', 'rb') as f:\n",
    "    dict_auth_to_paper=pickle.load(f) \n",
    "for gsize in range(2,8):\n",
    "    t_ic = time.time();\n",
    "    path_career='/mnt/sdb1/sandeep/openalex_ACTIV/'\n",
    "    \n",
    "    print(gsize)\n",
    "    papers_shared=[]\n",
    "    ind_papers_shared=[0]\n",
    "    ind_=0\n",
    "    it=0\n",
    "\n",
    "    for group in significant_cores3[gsize]['group']:\n",
    "        x=[]\n",
    "        for auth in group:\n",
    "            x.append(dict_auth_to_paper[auth])\n",
    "            y=x[0]\n",
    "            for it1 in range(1,len(x)-1):\n",
    "                y=set(y) & set(x[it1])\n",
    "        papers_shared.append(y)\n",
    "        ind_=ind_+len(y)\n",
    "        \n",
    "        it=it+1\n",
    "        if it%100==0:\n",
    "            t_oc = time.time();\n",
    "            frac=(it/len(significant_cores3[gsize]['group']))\n",
    "            prog=str(frac)+str(round(t_oc-t_ic,2))+', time estimate: '+str(round((t_oc-t_ic)/frac/3600,2))\n",
    "            print(prog,end='\\r')\n",
    "\n",
    "    papers_shared=[list(x) for x in papers_shared]          \n",
    "    A=np.concatenate(papers_shared)\n",
    "    B=[len(x) for x in papers_shared]\n",
    "    C=np.cumsum(B)\n",
    "    \n",
    "    \n",
    "    C=np.insert(C,0,0)\n",
    "    with open(path_career+'significant_cores(papers_shared)'+str(gsize)+'.pkl', 'wb') as f:\n",
    "        pickle.dump(A, f)  \n",
    "    with open(path_career+'significant_cores(papers_shared)'+str(gsize)+'_ind.pkl', 'wb') as f:\n",
    "        pickle.dump(C, f)  \n",
    "        \n"
   ]
  },
  {
   "cell_type": "code",
   "execution_count": 6,
   "id": "c427ff3a-dd8a-440e-924c-cc4e6b7c9793",
   "metadata": {},
   "outputs": [],
   "source": []
  },
  {
   "cell_type": "code",
   "execution_count": null,
   "id": "c4717d03-8aa7-46a9-8e5e-8d3a5bec461a",
   "metadata": {},
   "outputs": [],
   "source": [
    "c5=[paper_to_c5norm['https://openalex.org/'+x]  if 'https://openalex.org/'+x in paper_to_c5norm.keys() else 0 for x in A]\n"
   ]
  },
  {
   "cell_type": "code",
   "execution_count": null,
   "id": "91a7c5f2-0ed0-41b6-bdd6-e9d6e56b1250",
   "metadata": {},
   "outputs": [],
   "source": []
  }
 ],
 "metadata": {
  "kernelspec": {
   "display_name": "Python 3",
   "language": "python",
   "name": "python3"
  },
  "language_info": {
   "codemirror_mode": {
    "name": "ipython",
    "version": 3
   },
   "file_extension": ".py",
   "mimetype": "text/x-python",
   "name": "python",
   "nbconvert_exporter": "python",
   "pygments_lexer": "ipython3",
   "version": "3.9.2"
  }
 },
 "nbformat": 4,
 "nbformat_minor": 5
}
